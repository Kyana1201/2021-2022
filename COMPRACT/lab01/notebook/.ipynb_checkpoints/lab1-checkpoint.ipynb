{
 "cells": [
  {
   "cell_type": "markdown",
   "id": "9ae1c063-ceb8-482c-8594-14378a1bcd25",
   "metadata": {
    "tags": []
   },
   "source": [
    "# Основы синтаксиса языка Julia на примерах"
   ]
  },
  {
   "cell_type": "markdown",
   "id": "cd4a59ed-7cef-4e3d-85fd-aeca771587c0",
   "metadata": {
    "tags": []
   },
   "source": [
    "#### Для проверки типа числовой величины используется функция **typeof()**"
   ]
  },
  {
   "cell_type": "code",
   "execution_count": 27,
   "id": "f93846bb-ee38-4222-83b5-550e1bdf7d4e",
   "metadata": {},
   "outputs": [
    {
     "data": {
      "text/plain": [
       "(Int64, Float64, Float64, ComplexF64, Irrational{:π})"
      ]
     },
     "execution_count": 27,
     "metadata": {},
     "output_type": "execute_result"
    }
   ],
   "source": [
    "typeof(3), typeof(3.5), typeof(3/3.55), typeof(sqrt(3+4im)), typeof(pi)"
   ]
  },
  {
   "cell_type": "markdown",
   "id": "5c8cd13c-b8dc-4f0d-8e03-92c631725e93",
   "metadata": {
    "tags": []
   },
   "source": [
    "#### В Julia введены специальные значения Inf, -Inf, NaN, обозначающие бесконечность и отсутствие какого-либо значения. Такие значения могут получаться в результате операций типа деления на ноль, а также могут быть допустимой частью выражений, поскольку в языке имеют тип вещественного числа"
   ]
  },
  {
   "cell_type": "code",
   "execution_count": 2,
   "id": "ba904848-8c77-42c1-be7e-351838a229eb",
   "metadata": {},
   "outputs": [
    {
     "data": {
      "text/plain": [
       "(Inf, -Inf, NaN)"
      ]
     },
     "execution_count": 2,
     "metadata": {},
     "output_type": "execute_result"
    }
   ],
   "source": [
    "1.0/0.0, 1.0/(-0.0), 0.0/0.0"
   ]
  },
  {
   "cell_type": "code",
   "execution_count": 3,
   "id": "14802b97-9f33-41a5-b267-199f770250a7",
   "metadata": {},
   "outputs": [
    {
     "data": {
      "text/plain": [
       "(Float64, Float64, Float64)"
      ]
     },
     "execution_count": 3,
     "metadata": {},
     "output_type": "execute_result"
    }
   ],
   "source": [
    "typeof(1.0/0.0), typeof(1.0/(-0.0)), typeof(0.0/0.0)"
   ]
  },
  {
   "cell_type": "markdown",
   "id": "2a54f487-e520-4327-9e4b-0f5d300b2600",
   "metadata": {
    "tags": []
   },
   "source": [
    "#### Ниже представлен код для определения крайних значений диапазонов целочисленных числовых величин"
   ]
  },
  {
   "cell_type": "code",
   "execution_count": 4,
   "id": "7b5d846e-a7f0-4095-aa43-636e8e3448c5",
   "metadata": {},
   "outputs": [
    {
     "name": "stdout",
     "output_type": "stream",
     "text": [
      "   Int8: [-128,127]\n",
      "  Int16: [-32768,32767]\n",
      "  Int32: [-2147483648,2147483647]\n",
      "  Int64: [-9223372036854775808,9223372036854775807]\n",
      " Int128: [-170141183460469231731687303715884105728,170141183460469231731687303715884105727]\n",
      "  UInt8: [0,255]\n",
      " UInt16: [0,65535]\n",
      " UInt32: [0,4294967295]\n",
      " UInt64: [0,18446744073709551615]\n",
      "UInt128: [0,340282366920938463463374607431768211455]\n"
     ]
    }
   ],
   "source": [
    "for T in [Int8,Int16,Int32,Int64,Int128,UInt8,UInt16,UInt32,UInt64,UInt128]\n",
    "println(\"$(lpad(T,7)): [$(typemin(T)),$(typemax(T))]\")\n",
    "end"
   ]
  },
  {
   "cell_type": "markdown",
   "id": "1be43889-3aef-4e52-bf69-5742335e4c6d",
   "metadata": {
    "tags": []
   },
   "source": [
    "#### В Julia преобразование типов можно реализовать или прямым указанием, или с использованием обобщённого оператора преобразования типов **convert()**"
   ]
  },
  {
   "cell_type": "code",
   "execution_count": 6,
   "id": "758a31ab-5467-4d1f-bdb3-29ac464f4368",
   "metadata": {},
   "outputs": [
    {
     "data": {
      "text/plain": [
       "(2, '\\x02', Char)"
      ]
     },
     "execution_count": 6,
     "metadata": {},
     "output_type": "execute_result"
    }
   ],
   "source": [
    "Int64(2.0), Char(2), typeof(Char(2))"
   ]
  },
  {
   "cell_type": "code",
   "execution_count": 7,
   "id": "43941c0c-61a3-4536-8ce3-d11de3258f44",
   "metadata": {},
   "outputs": [
    {
     "data": {
      "text/plain": [
       "(2, '\\x02')"
      ]
     },
     "execution_count": 7,
     "metadata": {},
     "output_type": "execute_result"
    }
   ],
   "source": [
    "convert(Int64, 2.0), convert(Char,2)"
   ]
  },
  {
   "cell_type": "markdown",
   "id": "0126b402-7113-4e9c-ac13-0896d7c3e1a9",
   "metadata": {
    "tags": []
   },
   "source": [
    "#### Для приведения нескольких аргументов к одному типу, если это возможно, используется оператор **promote()**"
   ]
  },
  {
   "cell_type": "code",
   "execution_count": 8,
   "id": "23972c53-86b2-4b0e-ab9c-87750801a2bb",
   "metadata": {},
   "outputs": [
    {
     "data": {
      "text/plain": [
       "Tuple{Float32, Float32, Float32}"
      ]
     },
     "execution_count": 8,
     "metadata": {},
     "output_type": "execute_result"
    }
   ],
   "source": [
    "typeof(promote(Int8(1), Float16(4.5), Float32(4.1)))"
   ]
  },
  {
   "cell_type": "markdown",
   "id": "9ddd356f-20cc-426a-b1d8-28d52302bf7c",
   "metadata": {
    "tags": []
   },
   "source": [
    "#### Пример определения функции"
   ]
  },
  {
   "cell_type": "code",
   "execution_count": 47,
   "id": "09c0c6d1-75c0-4c3b-9557-09fb40726ff5",
   "metadata": {
    "tags": []
   },
   "outputs": [
    {
     "data": {
      "text/plain": [
       "f (generic function with 1 method)"
      ]
     },
     "execution_count": 47,
     "metadata": {},
     "output_type": "execute_result"
    }
   ],
   "source": [
    "function f(x)\n",
    "    x^2\n",
    "end"
   ]
  },
  {
   "cell_type": "code",
   "execution_count": 18,
   "id": "da3fc9da-04b7-4dbe-a82a-673eaece0301",
   "metadata": {},
   "outputs": [
    {
     "data": {
      "text/plain": [
       "25"
      ]
     },
     "execution_count": 18,
     "metadata": {},
     "output_type": "execute_result"
    }
   ],
   "source": [
    "f(5)"
   ]
  },
  {
   "cell_type": "markdown",
   "id": "597d98b9-b0b8-489d-b75e-feff66e94564",
   "metadata": {},
   "source": [
    "#### Еще один метод опредения функции"
   ]
  },
  {
   "cell_type": "code",
   "execution_count": 16,
   "id": "93f2c4d7-96b1-4bed-881a-72fb94478a55",
   "metadata": {},
   "outputs": [
    {
     "data": {
      "text/plain": [
       "g (generic function with 1 method)"
      ]
     },
     "execution_count": 16,
     "metadata": {},
     "output_type": "execute_result"
    }
   ],
   "source": [
    "g(x)=x^2"
   ]
  },
  {
   "cell_type": "markdown",
   "id": "5581a0af-52f9-42dd-bbb1-0f308fc74417",
   "metadata": {
    "tags": []
   },
   "source": [
    "#### Пример определения одномерных массивов (вектор-строка и вектор-столбец) и обращение к их вторым элементам"
   ]
  },
  {
   "cell_type": "code",
   "execution_count": 20,
   "id": "2f887acf-5c7b-4697-b27d-db50f070f2a5",
   "metadata": {},
   "outputs": [
    {
     "data": {
      "text/plain": [
       "(7, 2)"
      ]
     },
     "execution_count": 20,
     "metadata": {},
     "output_type": "execute_result"
    }
   ],
   "source": [
    "a = [4 7 6] \n",
    "b = [1, 2, 3] \n",
    "a[2], b[2] "
   ]
  },
  {
   "cell_type": "markdown",
   "id": "ac19eaac-a4b2-4fe6-9deb-c65bbce0442b",
   "metadata": {
    "tags": []
   },
   "source": [
    "#### Пример определения двумерного массива (матрицы) и обращение к его элементам"
   ]
  },
  {
   "cell_type": "code",
   "execution_count": 21,
   "id": "646a5fd8-4865-4252-b575-88966046cddd",
   "metadata": {},
   "outputs": [
    {
     "data": {
      "text/plain": [
       "(1, 2, 3, 4)"
      ]
     },
     "execution_count": 21,
     "metadata": {},
     "output_type": "execute_result"
    }
   ],
   "source": [
    "a = 1; b = 2; c = 3; d = 4 # присвоение значений\n",
    "Am = [a b; c d] # матрица 2 х 2\n",
    "Am[1,1], Am[1,2], Am[2,1], Am[2,2] # элементы матрицы"
   ]
  },
  {
   "cell_type": "markdown",
   "id": "9ace86a7-be40-48e2-91fc-9e46802e9b6b",
   "metadata": {
    "tags": []
   },
   "source": [
    "#### Пример выполнения операций над массивами (aa' — транспонирование вектора)"
   ]
  },
  {
   "cell_type": "code",
   "execution_count": 25,
   "id": "424fddb0-4a44-445b-807b-7dd2e3605eaa",
   "metadata": {},
   "outputs": [
    {
     "data": {
      "text/plain": [
       "1×1 Matrix{Int64}:\n",
       " 27"
      ]
     },
     "execution_count": 25,
     "metadata": {},
     "output_type": "execute_result"
    }
   ],
   "source": [
    "aa = [1 2]\n",
    "AA = [1 2; 3 4]\n",
    "aa*AA*aa'"
   ]
  },
  {
   "cell_type": "code",
   "execution_count": 26,
   "id": "29f8d518-ebf9-45d8-804a-8b3a753922c6",
   "metadata": {},
   "outputs": [
    {
     "data": {
      "text/plain": [
       "([1 2], [1 2; 3 4], [1; 2])"
      ]
     },
     "execution_count": 26,
     "metadata": {},
     "output_type": "execute_result"
    }
   ],
   "source": [
    "aa, AA, aa'"
   ]
  },
  {
   "cell_type": "markdown",
   "id": "bef457ab-9877-4b83-8df9-60e0e6da5e9e",
   "metadata": {},
   "source": [
    "# Задания для самостоятельной работы"
   ]
  },
  {
   "cell_type": "markdown",
   "id": "4ba3d66e-e8a4-47af-9af8-8b4f9b85cd21",
   "metadata": {},
   "source": [
    "### Основные функции Julia для чтения, записи, вывода информации на экран."
   ]
  },
  {
   "cell_type": "markdown",
   "id": "72971e17-5caa-4bb7-9d5b-1087d8a4fca5",
   "metadata": {},
   "source": [
    "### Функции read(), readline(), readlines(), readdlm(), print(), println(), show(), write()."
   ]
  },
  {
   "cell_type": "markdown",
   "id": "1d320166-29a7-46f5-8760-1cb2ac30c741",
   "metadata": {},
   "source": [
    "#### *Функция read() - чтение из буфера памяти и чтения из файла*"
   ]
  },
  {
   "cell_type": "code",
   "execution_count": 1,
   "id": "166d96ff-b61b-4964-b6d8-f771207a9575",
   "metadata": {},
   "outputs": [
    {
     "data": {
      "text/plain": [
       "\"Words\""
      ]
     },
     "execution_count": 1,
     "metadata": {},
     "output_type": "execute_result"
    }
   ],
   "source": [
    "io = IOBuffer(\"Words\")\n",
    "text = read(io, String)"
   ]
  },
  {
   "cell_type": "code",
   "execution_count": 17,
   "id": "f077b982-0b43-4ade-9471-a55079fd60e0",
   "metadata": {},
   "outputs": [
    {
     "data": {
      "text/plain": [
       "\"one\\n2.0\\nthree\\nFour\""
      ]
     },
     "execution_count": 17,
     "metadata": {},
     "output_type": "execute_result"
    }
   ],
   "source": [
    "fileread = read(\"readfile.txt\", String)"
   ]
  },
  {
   "cell_type": "code",
   "execution_count": 18,
   "id": "99309983-5f0d-4a4d-8cf5-1e0149d05693",
   "metadata": {},
   "outputs": [
    {
     "name": "stdout",
     "output_type": "stream",
     "text": [
      "one\n",
      "2.0\n",
      "three\n",
      "Four\n"
     ]
    }
   ],
   "source": [
    "println(fileread)"
   ]
  },
  {
   "cell_type": "markdown",
   "id": "fd23e078-4f48-4507-a1ab-579ce3e44116",
   "metadata": {},
   "source": [
    "#### *Функция readline() - чтение из командной строки, а также первой строки из файла*"
   ]
  },
  {
   "cell_type": "code",
   "execution_count": 15,
   "id": "03151843-751e-4e79-9cfd-feecf90cb20b",
   "metadata": {},
   "outputs": [
    {
     "name": "stdout",
     "output_type": "stream",
     "text": [
      "Как вас зовут?\n"
     ]
    },
    {
     "name": "stdin",
     "output_type": "stream",
     "text": [
      "stdin>  User\n"
     ]
    },
    {
     "name": "stdout",
     "output_type": "stream",
     "text": [
      "Привет, User"
     ]
    }
   ],
   "source": [
    "println(\"Как вас зовут?\")\n",
    "name = readline()\n",
    "print(\"Привет, $name\")"
   ]
  },
  {
   "cell_type": "code",
   "execution_count": 19,
   "id": "8cb3aca9-b582-4119-b9c4-4fda6c7fed6c",
   "metadata": {},
   "outputs": [
    {
     "data": {
      "text/plain": [
       "\"one\""
      ]
     },
     "execution_count": 19,
     "metadata": {},
     "output_type": "execute_result"
    }
   ],
   "source": [
    "readline(\"readfile.txt\")"
   ]
  },
  {
   "cell_type": "markdown",
   "id": "16881dc0-ac92-41df-afce-7606cd9adb53",
   "metadata": {},
   "source": [
    "#### *Функция readlines() - чтение из файла*"
   ]
  },
  {
   "cell_type": "code",
   "execution_count": 21,
   "id": "79d92ad6-e589-4424-bef5-a90eed2a4460",
   "metadata": {},
   "outputs": [
    {
     "name": "stdout",
     "output_type": "stream",
     "text": [
      "[\"one\", \"2.0\", \"three\", \"Four\"]\n"
     ]
    }
   ],
   "source": [
    "lines = readlines(\"readfile.txt\")\n",
    "println(lines)"
   ]
  },
  {
   "cell_type": "markdown",
   "id": "892c9a12-af7d-49d1-9900-d88573227424",
   "metadata": {},
   "source": [
    "*Фукнции print(), println() - вывод с переносом и без переноса строки*"
   ]
  },
  {
   "cell_type": "code",
   "execution_count": 41,
   "id": "e80377f1-ab53-4da9-b363-d3eaacbdaebd",
   "metadata": {},
   "outputs": [
    {
     "name": "stdout",
     "output_type": "stream",
     "text": [
      "Привет\n",
      "мир! Продолжаем строку."
     ]
    }
   ],
   "source": [
    "println(\"Привет\")\n",
    "print(\"мир!\")\n",
    "print(\" Продолжаем строку.\")"
   ]
  },
  {
   "cell_type": "markdown",
   "id": "9f498cfb-9e65-448e-bbd1-108d2160f5b0",
   "metadata": {},
   "source": [
    "#### *Функция show() - выводит строку в кавычках, также можно вывести символ по номеру"
   ]
  },
  {
   "cell_type": "code",
   "execution_count": 29,
   "id": "be6cbc6b-3ce9-4544-bc57-99012369bbe0",
   "metadata": {
    "tags": []
   },
   "outputs": [
    {
     "name": "stdout",
     "output_type": "stream",
     "text": [
      "\"Example\""
     ]
    }
   ],
   "source": [
    "show_example = show(\"Example\")"
   ]
  },
  {
   "cell_type": "code",
   "execution_count": 32,
   "id": "bf27a57a-0aef-4acd-a3d6-da59b9c5aeb8",
   "metadata": {},
   "outputs": [
    {
     "name": "stdout",
     "output_type": "stream",
     "text": [
      "'x'"
     ]
    }
   ],
   "source": [
    "example = \"Example\"\n",
    "show(example[2])"
   ]
  },
  {
   "cell_type": "markdown",
   "id": "8e9681d7-6793-4a5a-a004-dcb85894bf13",
   "metadata": {},
   "source": [
    "#### *Функция write() - вывод и указание числа символов, а также запись в файл*"
   ]
  },
  {
   "cell_type": "code",
   "execution_count": 34,
   "id": "b06f7a85-1239-4fd2-9b2c-086cad6eb944",
   "metadata": {},
   "outputs": [
    {
     "name": "stdout",
     "output_type": "stream",
     "text": [
      "Word"
     ]
    },
    {
     "data": {
      "text/plain": [
       "4"
      ]
     },
     "execution_count": 34,
     "metadata": {},
     "output_type": "execute_result"
    }
   ],
   "source": [
    "write(stdout, \"Word\")"
   ]
  },
  {
   "cell_type": "code",
   "execution_count": 39,
   "id": "165dc2c3-17eb-4f50-8fd7-fdbb48c00e54",
   "metadata": {},
   "outputs": [
    {
     "name": "stdout",
     "output_type": "stream",
     "text": [
      "[\"New LINE!\"]\n"
     ]
    }
   ],
   "source": [
    "write(\"new_line.txt\", \"New LINE!\")\n",
    "\n",
    "println(readlines(\"new_line.txt\"))"
   ]
  },
  {
   "cell_type": "markdown",
   "id": "8e034729-18b0-436b-a814-964ccc90ed99",
   "metadata": {},
   "source": [
    "#### Функция parse() и примеры использования"
   ]
  },
  {
   "cell_type": "code",
   "execution_count": 40,
   "id": "b63a7e3c-176b-4a66-8658-208f9edf8848",
   "metadata": {
    "tags": []
   },
   "outputs": [
    {
     "data": {
      "text/plain": [
       "String"
      ]
     },
     "execution_count": 40,
     "metadata": {},
     "output_type": "execute_result"
    }
   ],
   "source": [
    "line = \"1234\"\n",
    "typeof(line)"
   ]
  },
  {
   "cell_type": "code",
   "execution_count": 6,
   "id": "d4f6f32f-64dd-4f3d-b75d-e8387982f5b9",
   "metadata": {},
   "outputs": [
    {
     "data": {
      "text/plain": [
       "Int64"
      ]
     },
     "execution_count": 6,
     "metadata": {},
     "output_type": "execute_result"
    }
   ],
   "source": [
    "typeof(parse(Int,line))"
   ]
  },
  {
   "cell_type": "code",
   "execution_count": 1,
   "id": "b7a63de2-dd81-431a-a94b-3fa92ae25c7c",
   "metadata": {},
   "outputs": [
    {
     "name": "stdout",
     "output_type": "stream",
     "text": [
      "Введите число"
     ]
    },
    {
     "name": "stdin",
     "output_type": "stream",
     "text": [
      "stdin>  123\n"
     ]
    },
    {
     "name": "stdout",
     "output_type": "stream",
     "text": [
      "Число - 123\n",
      "Тип - String\n"
     ]
    }
   ],
   "source": [
    "print(\"Введите число\")\n",
    "m = readline()\n",
    "println(\"Число - \", m)\n",
    "println(\"Тип - \", typeof(m))"
   ]
  },
  {
   "cell_type": "code",
   "execution_count": 2,
   "id": "0da2a45f-431a-4635-b3fc-e5eac0e92d8c",
   "metadata": {},
   "outputs": [
    {
     "name": "stdout",
     "output_type": "stream",
     "text": [
      "Введите новое число\n"
     ]
    },
    {
     "name": "stdin",
     "output_type": "stream",
     "text": [
      "stdin>  32\n"
     ]
    },
    {
     "name": "stdout",
     "output_type": "stream",
     "text": [
      "Число - 32\n",
      "Тип - Int64\n"
     ]
    }
   ],
   "source": [
    "println(\"Введите новое число\")\n",
    "b = Meta.parse(readline())\n",
    "println(\"Число - \", b)\n",
    "println(\"Тип - \", typeof(b))"
   ]
  },
  {
   "cell_type": "markdown",
   "id": "169be340-5c05-4e04-a8f8-ed7fab3e9376",
   "metadata": {},
   "source": [
    "#### Синтаксис Julia для базовых математических операций"
   ]
  },
  {
   "cell_type": "code",
   "execution_count": 67,
   "id": "b9569c7b-fbd9-489f-8286-8e745fdc729e",
   "metadata": {},
   "outputs": [
    {
     "data": {
      "text/plain": [
       "6"
      ]
     },
     "execution_count": 67,
     "metadata": {},
     "output_type": "execute_result"
    }
   ],
   "source": [
    "summation = 5 + 1"
   ]
  },
  {
   "cell_type": "code",
   "execution_count": 68,
   "id": "bbc0f906-877d-43c0-9a17-21533ca8e641",
   "metadata": {},
   "outputs": [
    {
     "data": {
      "text/plain": [
       "4"
      ]
     },
     "execution_count": 68,
     "metadata": {},
     "output_type": "execute_result"
    }
   ],
   "source": [
    "substraction = 5 - 1"
   ]
  },
  {
   "cell_type": "code",
   "execution_count": 69,
   "id": "ef5d167e-c4c1-4844-b831-e3f3474fb087",
   "metadata": {},
   "outputs": [
    {
     "data": {
      "text/plain": [
       "10"
      ]
     },
     "execution_count": 69,
     "metadata": {},
     "output_type": "execute_result"
    }
   ],
   "source": [
    "multiplication = 5 * 2"
   ]
  },
  {
   "cell_type": "code",
   "execution_count": 33,
   "id": "5136ec8e-22eb-4343-aab5-e51b9280efb1",
   "metadata": {},
   "outputs": [
    {
     "data": {
      "text/plain": [
       "2.0"
      ]
     },
     "execution_count": 33,
     "metadata": {},
     "output_type": "execute_result"
    }
   ],
   "source": [
    "division = 10 / 5"
   ]
  },
  {
   "cell_type": "code",
   "execution_count": 35,
   "id": "d9cd76ea-599a-4a54-bd6d-15285c05d3ac",
   "metadata": {},
   "outputs": [
    {
     "data": {
      "text/plain": [
       "100"
      ]
     },
     "execution_count": 35,
     "metadata": {},
     "output_type": "execute_result"
    }
   ],
   "source": [
    "exponentiation = 10 ^ 2 "
   ]
  },
  {
   "cell_type": "code",
   "execution_count": 75,
   "id": "3c5d9afd-bf8f-4c6d-b0b9-5c29fa551ea7",
   "metadata": {},
   "outputs": [
    {
     "data": {
      "text/plain": [
       "1"
      ]
     },
     "execution_count": 75,
     "metadata": {},
     "output_type": "execute_result"
    }
   ],
   "source": [
    "mod = 11 % 2"
   ]
  },
  {
   "cell_type": "code",
   "execution_count": 7,
   "id": "38a4abba-07ad-4afd-a067-5a05fbeeea46",
   "metadata": {},
   "outputs": [
    {
     "data": {
      "text/plain": [
       "5"
      ]
     },
     "execution_count": 7,
     "metadata": {},
     "output_type": "execute_result"
    }
   ],
   "source": [
    "11 ÷ 2 # \\div"
   ]
  },
  {
   "cell_type": "code",
   "execution_count": 76,
   "id": "1021ffd2-dcf3-4cb0-9109-0c382513d22d",
   "metadata": {},
   "outputs": [
    {
     "data": {
      "text/plain": [
       "2.0"
      ]
     },
     "execution_count": 76,
     "metadata": {},
     "output_type": "execute_result"
    }
   ],
   "source": [
    "sqrt(4)"
   ]
  },
  {
   "cell_type": "code",
   "execution_count": 78,
   "id": "802f2d8c-e63f-4531-b1de-91ba40a767f6",
   "metadata": {},
   "outputs": [
    {
     "data": {
      "text/plain": [
       "5//2"
      ]
     },
     "execution_count": 78,
     "metadata": {},
     "output_type": "execute_result"
    }
   ],
   "source": [
    "rational = 5 // 2"
   ]
  },
  {
   "cell_type": "code",
   "execution_count": 79,
   "id": "c3bcd0c8-e93b-46ca-a110-18361d1c78ec",
   "metadata": {},
   "outputs": [
    {
     "data": {
      "text/plain": [
       "Rational{Int64}"
      ]
     },
     "execution_count": 79,
     "metadata": {},
     "output_type": "execute_result"
    }
   ],
   "source": [
    "typeof(rational)"
   ]
  },
  {
   "cell_type": "code",
   "execution_count": 80,
   "id": "fbd8fc18-7e26-4e43-af80-9d45e31768ae",
   "metadata": {},
   "outputs": [
    {
     "data": {
      "text/plain": [
       "false"
      ]
     },
     "execution_count": 80,
     "metadata": {},
     "output_type": "execute_result"
    }
   ],
   "source": [
    "false && true # AND"
   ]
  },
  {
   "cell_type": "code",
   "execution_count": 81,
   "id": "d4461d23-c8ce-4b76-8fed-84b0060c2939",
   "metadata": {},
   "outputs": [
    {
     "data": {
      "text/plain": [
       "true"
      ]
     },
     "execution_count": 81,
     "metadata": {},
     "output_type": "execute_result"
    }
   ],
   "source": [
    "false || true # OR"
   ]
  },
  {
   "cell_type": "code",
   "execution_count": 88,
   "id": "63d8e7d0-dee3-4232-9491-35294b9daa2a",
   "metadata": {},
   "outputs": [
    {
     "data": {
      "text/plain": [
       "true"
      ]
     },
     "execution_count": 88,
     "metadata": {},
     "output_type": "execute_result"
    }
   ],
   "source": [
    "0.1 == .1 # Равенство значений"
   ]
  },
  {
   "cell_type": "code",
   "execution_count": 84,
   "id": "f502c0ef-ba30-4517-a956-f908c49dc1eb",
   "metadata": {},
   "outputs": [
    {
     "data": {
      "text/plain": [
       "false"
      ]
     },
     "execution_count": 84,
     "metadata": {},
     "output_type": "execute_result"
    }
   ],
   "source": [
    "1.0 === 1 # Сравенение программного представления"
   ]
  },
  {
   "cell_type": "markdown",
   "id": "20e14296-ea39-4082-8afc-d7fd7ac2d449",
   "metadata": {},
   "source": [
    "### Операции над матрицами и векторами"
   ]
  },
  {
   "cell_type": "markdown",
   "id": "45a1c652-a115-4a7d-a012-55af89d72061",
   "metadata": {},
   "source": [
    "#### *Заполнение матрицы по строкам и столбцам*"
   ]
  },
  {
   "cell_type": "code",
   "execution_count": 9,
   "id": "a41daef2-58d3-4668-bbd1-73fd3970f8a3",
   "metadata": {},
   "outputs": [
    {
     "data": {
      "text/plain": [
       "3×3 Matrix{Int64}:\n",
       " 1  2  3\n",
       " 4  5  6\n",
       " 7  8  9"
      ]
     },
     "execution_count": 9,
     "metadata": {},
     "output_type": "execute_result"
    }
   ],
   "source": [
    "AA = [1 2 3; 4 5 6; 7 8 9]"
   ]
  },
  {
   "cell_type": "code",
   "execution_count": 7,
   "id": "6f1a92a9-9796-426f-a296-c69745bf839c",
   "metadata": {},
   "outputs": [
    {
     "data": {
      "text/plain": [
       "3×3 Matrix{Int64}:\n",
       " 1  4  7\n",
       " 2  5  8\n",
       " 3  6  9"
      ]
     },
     "execution_count": 7,
     "metadata": {},
     "output_type": "execute_result"
    }
   ],
   "source": [
    "BB = [[1, 2, 3] [4, 5, 6] [7, 8, 9]]"
   ]
  },
  {
   "cell_type": "markdown",
   "id": "39c47ff9-ab83-4fe1-a09f-305c1a78f6bc",
   "metadata": {},
   "source": [
    "#### *Вектор-строка и вектор-столбец*"
   ]
  },
  {
   "cell_type": "code",
   "execution_count": 10,
   "id": "797d7766-3df8-4b00-bb04-d3f0c280b770",
   "metadata": {},
   "outputs": [
    {
     "data": {
      "text/plain": [
       "1×3 Matrix{Int64}:\n",
       " 1  2  3"
      ]
     },
     "execution_count": 10,
     "metadata": {},
     "output_type": "execute_result"
    }
   ],
   "source": [
    "v_str = [1 2 3]"
   ]
  },
  {
   "cell_type": "code",
   "execution_count": 11,
   "id": "7f7c63e4-571f-4421-b68f-61d2eb16cfbf",
   "metadata": {},
   "outputs": [
    {
     "data": {
      "text/plain": [
       "3-element Vector{Int64}:\n",
       " 1\n",
       " 2\n",
       " 3"
      ]
     },
     "execution_count": 11,
     "metadata": {},
     "output_type": "execute_result"
    }
   ],
   "source": [
    "v_col = [1, 2, 3]"
   ]
  },
  {
   "cell_type": "markdown",
   "id": "6c36d945-c906-490c-86d4-599143166e3f",
   "metadata": {},
   "source": [
    "#### *Транспонирование матрицы*"
   ]
  },
  {
   "cell_type": "code",
   "execution_count": 14,
   "id": "73b5952c-2e87-4810-9460-0b582a46e5c9",
   "metadata": {},
   "outputs": [
    {
     "data": {
      "text/plain": [
       "3×3 adjoint(::Matrix{Int64}) with eltype Int64:\n",
       " 1  4  7\n",
       " 2  5  8\n",
       " 3  6  9"
      ]
     },
     "execution_count": 14,
     "metadata": {},
     "output_type": "execute_result"
    }
   ],
   "source": [
    "CC = AA'"
   ]
  },
  {
   "cell_type": "markdown",
   "id": "e7d912ac-eb1d-4774-ab35-3f9170ce9e1b",
   "metadata": {},
   "source": [
    "#### *Сложение и вычитание матриц*"
   ]
  },
  {
   "cell_type": "code",
   "execution_count": 15,
   "id": "c4d305d8-1d80-4b2e-bd09-fe1475c2b888",
   "metadata": {},
   "outputs": [
    {
     "data": {
      "text/plain": [
       "3×3 Matrix{Int64}:\n",
       "  2   6  10\n",
       "  6  10  14\n",
       " 10  14  18"
      ]
     },
     "execution_count": 15,
     "metadata": {},
     "output_type": "execute_result"
    }
   ],
   "source": [
    "AA + BB"
   ]
  },
  {
   "cell_type": "code",
   "execution_count": 16,
   "id": "d565fe1b-db50-4e46-a5ad-78cf446470b6",
   "metadata": {},
   "outputs": [
    {
     "data": {
      "text/plain": [
       "3×3 Matrix{Int64}:\n",
       " 0  -2  -4\n",
       " 2   0  -2\n",
       " 4   2   0"
      ]
     },
     "execution_count": 16,
     "metadata": {},
     "output_type": "execute_result"
    }
   ],
   "source": [
    "AA - BB"
   ]
  },
  {
   "cell_type": "markdown",
   "id": "924e8dca-ecc1-4795-af9f-c4f6a48ce895",
   "metadata": {},
   "source": [
    "#### *Перемножение матриц, умножение матрицы на вектор и число*"
   ]
  },
  {
   "cell_type": "code",
   "execution_count": 19,
   "id": "a5846f28-d918-4981-8728-e67a2d3e0e37",
   "metadata": {},
   "outputs": [
    {
     "data": {
      "text/plain": [
       "3×3 Matrix{Int64}:\n",
       " 14   32   50\n",
       " 32   77  122\n",
       " 50  122  194"
      ]
     },
     "execution_count": 19,
     "metadata": {},
     "output_type": "execute_result"
    }
   ],
   "source": [
    "AA * BB"
   ]
  },
  {
   "cell_type": "code",
   "execution_count": 21,
   "id": "82ef0159-05c3-4d00-9056-ec2082a1e278",
   "metadata": {},
   "outputs": [
    {
     "data": {
      "text/plain": [
       "3-element Vector{Int64}:\n",
       " 14\n",
       " 32\n",
       " 50"
      ]
     },
     "execution_count": 21,
     "metadata": {},
     "output_type": "execute_result"
    }
   ],
   "source": [
    "AA * v_col"
   ]
  },
  {
   "cell_type": "code",
   "execution_count": 22,
   "id": "061132b7-4390-4bf4-b09d-1053549074f1",
   "metadata": {},
   "outputs": [
    {
     "data": {
      "text/plain": [
       "3×3 Matrix{Int64}:\n",
       "  2   4   6\n",
       "  8  10  12\n",
       " 14  16  18"
      ]
     },
     "execution_count": 22,
     "metadata": {},
     "output_type": "execute_result"
    }
   ],
   "source": [
    "AA * 2"
   ]
  },
  {
   "cell_type": "markdown",
   "id": "58e69f58-8b9d-4c19-96ca-11dc074eb6ec",
   "metadata": {},
   "source": [
    "#### *Умножение на число и скалярное произведение векторов*"
   ]
  },
  {
   "cell_type": "code",
   "execution_count": 23,
   "id": "5ae905b9-8e07-4080-acf9-74c7c450c3d2",
   "metadata": {},
   "outputs": [
    {
     "data": {
      "text/plain": [
       "1×3 Matrix{Int64}:\n",
       " 3  6  9"
      ]
     },
     "execution_count": 23,
     "metadata": {},
     "output_type": "execute_result"
    }
   ],
   "source": [
    "v_str * 3"
   ]
  },
  {
   "cell_type": "code",
   "execution_count": 24,
   "id": "19d73043-4ac9-41a0-b7a9-b11b90ff2fd8",
   "metadata": {},
   "outputs": [
    {
     "data": {
      "text/plain": [
       "1-element Vector{Int64}:\n",
       " 14"
      ]
     },
     "execution_count": 24,
     "metadata": {},
     "output_type": "execute_result"
    }
   ],
   "source": [
    "v_str * v_col"
   ]
  },
  {
   "cell_type": "code",
   "execution_count": null,
   "id": "cf377290-33ea-4034-8695-cfa931f3739f",
   "metadata": {},
   "outputs": [],
   "source": []
  }
 ],
 "metadata": {
  "kernelspec": {
   "display_name": "Julia 1.6.2",
   "language": "julia",
   "name": "julia-1.6"
  },
  "language_info": {
   "file_extension": ".jl",
   "mimetype": "application/julia",
   "name": "julia",
   "version": "1.6.2"
  }
 },
 "nbformat": 4,
 "nbformat_minor": 5
}
