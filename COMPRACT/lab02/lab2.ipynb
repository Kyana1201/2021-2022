{
 "cells": [
  {
   "cell_type": "code",
   "execution_count": 6,
   "id": "e02ce650-7c31-456e-8ac5-0148303209e6",
   "metadata": {},
   "outputs": [
    {
     "data": {
      "text/plain": [
       "()"
      ]
     },
     "execution_count": 6,
     "metadata": {},
     "output_type": "execute_result"
    }
   ],
   "source": [
    "#Пустой кортеж:\n",
    "()"
   ]
  },
  {
   "cell_type": "code",
   "execution_count": 7,
   "id": "1d9cc6cc-88cf-4e20-b6cc-319ee10d830d",
   "metadata": {},
   "outputs": [
    {
     "data": {
      "text/plain": [
       "(\"Python\", \"Julia\", \"R\")"
      ]
     },
     "execution_count": 7,
     "metadata": {},
     "output_type": "execute_result"
    }
   ],
   "source": [
    "# кортеж из элементов типа String:\n",
    "favoritelang = ( \"Python\", \"Julia\", \"R\")"
   ]
  },
  {
   "cell_type": "code",
   "execution_count": 9,
   "id": "73a58cad-b362-4561-abea-def054e2cea3",
   "metadata": {},
   "outputs": [
    {
     "data": {
      "text/plain": [
       "(1, 2, 3)"
      ]
     },
     "execution_count": 9,
     "metadata": {},
     "output_type": "execute_result"
    }
   ],
   "source": [
    "# кортеж из целых чисел:\n",
    "x1 = (1, 2, 3)"
   ]
  },
  {
   "cell_type": "code",
   "execution_count": 10,
   "id": "9c1089c8-f39c-43f9-9306-996fdee8e2c0",
   "metadata": {},
   "outputs": [
    {
     "data": {
      "text/plain": [
       "(1, 2.0, \"tmp\")"
      ]
     },
     "execution_count": 10,
     "metadata": {},
     "output_type": "execute_result"
    }
   ],
   "source": [
    "# кортеж из элементов разных типов:\n",
    "x2 = ( 1, 2.0, \"tmp\")"
   ]
  },
  {
   "cell_type": "code",
   "execution_count": 11,
   "id": "08cb33c3-176a-4ed4-9511-60646c212d29",
   "metadata": {},
   "outputs": [
    {
     "data": {
      "text/plain": [
       "(a = 2, b = 3)"
      ]
     },
     "execution_count": 11,
     "metadata": {},
     "output_type": "execute_result"
    }
   ],
   "source": [
    "# именованный кортеж:\n",
    "x3 = (a=2, b=1+2)"
   ]
  },
  {
   "cell_type": "code",
   "execution_count": 12,
   "id": "f200ea72-e6c3-45b4-be4c-9d992e647d8b",
   "metadata": {},
   "outputs": [
    {
     "data": {
      "text/plain": [
       "3"
      ]
     },
     "execution_count": 12,
     "metadata": {},
     "output_type": "execute_result"
    }
   ],
   "source": [
    "# длина кортежа x2:\n",
    "length(x2)"
   ]
  },
  {
   "cell_type": "code",
   "execution_count": 14,
   "id": "2e9653a4-451f-4728-a35e-5d6dc415dde9",
   "metadata": {},
   "outputs": [
    {
     "data": {
      "text/plain": [
       "(1, 2.0, \"tmp\")"
      ]
     },
     "execution_count": 14,
     "metadata": {},
     "output_type": "execute_result"
    }
   ],
   "source": [
    "# обратиться к элементам кортежа x2:\n",
    "x2[1], x2[2], x2[3]"
   ]
  },
  {
   "cell_type": "code",
   "execution_count": 15,
   "id": "af2af6ee-b3c5-48f9-8733-6f91a0997b05",
   "metadata": {},
   "outputs": [
    {
     "data": {
      "text/plain": [
       "5"
      ]
     },
     "execution_count": 15,
     "metadata": {},
     "output_type": "execute_result"
    }
   ],
   "source": [
    "# произвести какую-либо операцию (сложение)\n",
    "# с вторым и третьим элементами кортежа x1:\n",
    "c = x1[2] + x1[3]"
   ]
  },
  {
   "cell_type": "code",
   "execution_count": 16,
   "id": "90618dfc-6f4b-4747-adbe-5f4882d57aaa",
   "metadata": {},
   "outputs": [
    {
     "data": {
      "text/plain": [
       "(2, 3, 3)"
      ]
     },
     "execution_count": 16,
     "metadata": {},
     "output_type": "execute_result"
    }
   ],
   "source": [
    "# обращение к элементам именованного кортежа x3:\n",
    "x3.a, x3.b, x3[2]"
   ]
  },
  {
   "cell_type": "code",
   "execution_count": 18,
   "id": "e3ae4d67-b09d-4b64-9a8e-43265b50c6ee",
   "metadata": {},
   "outputs": [
    {
     "data": {
      "text/plain": [
       "(true, false)"
      ]
     },
     "execution_count": 18,
     "metadata": {},
     "output_type": "execute_result"
    }
   ],
   "source": [
    "# проверка вхождения элементов tmp и 0 в кортеж x2\n",
    "# (два способа обращения к методу in()):\n",
    "in(\"tmp\", x2), 0 in x2"
   ]
  },
  {
   "cell_type": "code",
   "execution_count": 19,
   "id": "66872951-b160-4716-829b-cd8a1fff3bad",
   "metadata": {},
   "outputs": [
    {
     "data": {
      "text/plain": [
       "Dict{String, Any} with 2 entries:\n",
       "  \"Бухгалтерия\" => \"555-2368\"\n",
       "  \"Иванов И.И.\" => (\"867-5309\", \"333-5544\")"
      ]
     },
     "execution_count": 19,
     "metadata": {},
     "output_type": "execute_result"
    }
   ],
   "source": [
    "# создать словарь с именем phonebook:\n",
    "phonebook = Dict(\"Иванов И.И.\" => (\"867-5309\",\"333-5544\"), \"Бухгалтерия\" => \"555-2368\")"
   ]
  },
  {
   "cell_type": "code",
   "execution_count": 20,
   "id": "06dfe6a0-0d7e-416d-a0ec-1e14078f12c7",
   "metadata": {},
   "outputs": [
    {
     "data": {
      "text/plain": [
       "KeySet for a Dict{String, Any} with 2 entries. Keys:\n",
       "  \"Бухгалтерия\"\n",
       "  \"Иванов И.И.\""
      ]
     },
     "execution_count": 20,
     "metadata": {},
     "output_type": "execute_result"
    }
   ],
   "source": [
    "# вывести ключи словаря:\n",
    "keys(phonebook)"
   ]
  },
  {
   "cell_type": "code",
   "execution_count": 21,
   "id": "9b92b756-965f-4a83-884e-71fd731d2d6c",
   "metadata": {},
   "outputs": [
    {
     "data": {
      "text/plain": [
       "ValueIterator for a Dict{String, Any} with 2 entries. Values:\n",
       "  \"555-2368\"\n",
       "  (\"867-5309\", \"333-5544\")"
      ]
     },
     "execution_count": 21,
     "metadata": {},
     "output_type": "execute_result"
    }
   ],
   "source": [
    "# вывести значения элементов словаря:\n",
    "values(phonebook)"
   ]
  },
  {
   "cell_type": "code",
   "execution_count": 22,
   "id": "69333a3d-0392-43d2-8533-a8c126d4b2f8",
   "metadata": {},
   "outputs": [
    {
     "data": {
      "text/plain": [
       "Dict{String, Any} with 2 entries:\n",
       "  \"Бухгалтерия\" => \"555-2368\"\n",
       "  \"Иванов И.И.\" => (\"867-5309\", \"333-5544\")"
      ]
     },
     "execution_count": 22,
     "metadata": {},
     "output_type": "execute_result"
    }
   ],
   "source": [
    "# вывести заданные в словаре пары \"ключ - значение\":\n",
    "pairs(phonebook)"
   ]
  },
  {
   "cell_type": "code",
   "execution_count": 23,
   "id": "98857b91-c752-42e4-9457-e799e77587fe",
   "metadata": {},
   "outputs": [
    {
     "data": {
      "text/plain": [
       "true"
      ]
     },
     "execution_count": 23,
     "metadata": {},
     "output_type": "execute_result"
    }
   ],
   "source": [
    "# проверка вхождения ключа в словарь:\n",
    "haskey(phonebook, \"Иванов И.И.\")"
   ]
  },
  {
   "cell_type": "code",
   "execution_count": null,
   "id": "9d3b9380-48c0-4022-8833-349be7ec6682",
   "metadata": {},
   "outputs": [],
   "source": []
  },
  {
   "cell_type": "code",
   "execution_count": 24,
   "id": "f980e6d1-7f0b-43f9-b340-512891f0d963",
   "metadata": {},
   "outputs": [
    {
     "data": {
      "text/plain": [
       "\"555-3344\""
      ]
     },
     "execution_count": 24,
     "metadata": {},
     "output_type": "execute_result"
    }
   ],
   "source": [
    "# добавить элемент в словарь:\n",
    "phonebook[\"Сидоров П.С.\"] = \"555-3344\""
   ]
  },
  {
   "cell_type": "code",
   "execution_count": 26,
   "id": "5404282e-e019-4a82-8913-794f1c0a9729",
   "metadata": {},
   "outputs": [
    {
     "data": {
      "text/plain": [
       "(\"867-5309\", \"333-5544\")"
      ]
     },
     "execution_count": 26,
     "metadata": {},
     "output_type": "execute_result"
    }
   ],
   "source": [
    "# удалить ключ и связанные с ним значения из словаря\n",
    "pop!(phonebook, \"Иванов И.И.\")"
   ]
  },
  {
   "cell_type": "code",
   "execution_count": 29,
   "id": "c22aeb3c-b26b-406c-9b05-827828c94ca5",
   "metadata": {},
   "outputs": [
    {
     "data": {
      "text/plain": [
       "(Dict{String, Real}(\"bar\" => 13.0, \"baz\" => 17, \"foo\" => 0.0), Dict{String, Real}(\"bar\" => 42.0, \"baz\" => 17, \"foo\" => 0.0))"
      ]
     },
     "execution_count": 29,
     "metadata": {},
     "output_type": "execute_result"
    }
   ],
   "source": [
    "# Объединение словарей (функция merge()):\n",
    "a = Dict(\"foo\" => 0.0, \"bar\" => 42.0);\n",
    "b = Dict(\"baz\" => 17, \"bar\" => 13.0);\n",
    "merge(a, b), merge(b,a)"
   ]
  },
  {
   "cell_type": "code",
   "execution_count": 30,
   "id": "3e5def32-7f7a-4a49-9fdb-1b644a17fbb6",
   "metadata": {},
   "outputs": [
    {
     "data": {
      "text/plain": [
       "Set{Int64} with 4 elements:\n",
       "  5\n",
       "  4\n",
       "  3\n",
       "  1"
      ]
     },
     "execution_count": 30,
     "metadata": {},
     "output_type": "execute_result"
    }
   ],
   "source": [
    "# создать множество из четырёх целочисленных значений:\n",
    "A = Set([1, 3, 4, 5])"
   ]
  },
  {
   "cell_type": "code",
   "execution_count": 31,
   "id": "d9514328-b0d1-45c7-a14c-5092998db8cd",
   "metadata": {},
   "outputs": [
    {
     "data": {
      "text/plain": [
       "Set{Char} with 5 elements:\n",
       "  'a'\n",
       "  'd'\n",
       "  'r'\n",
       "  'k'\n",
       "  'b'"
      ]
     },
     "execution_count": 31,
     "metadata": {},
     "output_type": "execute_result"
    }
   ],
   "source": [
    "# создать множество из 11 символьных значений:\n",
    "B = Set(\"abrakadabra\")"
   ]
  },
  {
   "cell_type": "code",
   "execution_count": 32,
   "id": "1c7df572-4d15-434e-978f-939511a2cf59",
   "metadata": {},
   "outputs": [
    {
     "data": {
      "text/plain": [
       "false"
      ]
     },
     "execution_count": 32,
     "metadata": {},
     "output_type": "execute_result"
    }
   ],
   "source": [
    "# проверка эквивалентности двух множеств:\n",
    "S1 = Set([1,2]);\n",
    "S2 = Set([3,4]);\n",
    "issetequal(S1,S2)"
   ]
  },
  {
   "cell_type": "code",
   "execution_count": 33,
   "id": "e0b092bb-4597-4ec1-8aeb-4ec862e4c5da",
   "metadata": {},
   "outputs": [
    {
     "data": {
      "text/plain": [
       "true"
      ]
     },
     "execution_count": 33,
     "metadata": {},
     "output_type": "execute_result"
    }
   ],
   "source": [
    "S3 = Set([1,2,2,3,1,2,3,2,1]);\n",
    "S4 = Set([2,3,1]);\n",
    "issetequal(S3,S4)"
   ]
  },
  {
   "cell_type": "code",
   "execution_count": 34,
   "id": "66b00edc-60ed-4bbc-bde0-da0e31915218",
   "metadata": {},
   "outputs": [
    {
     "data": {
      "text/plain": [
       "Set{Int64} with 4 elements:\n",
       "  4\n",
       "  2\n",
       "  3\n",
       "  1"
      ]
     },
     "execution_count": 34,
     "metadata": {},
     "output_type": "execute_result"
    }
   ],
   "source": [
    "# объединение множеств:\n",
    "C = union(S1,S2)"
   ]
  },
  {
   "cell_type": "code",
   "execution_count": 35,
   "id": "eb5ba09c-dc35-4d9f-a68e-759e1e1faf0f",
   "metadata": {},
   "outputs": [
    {
     "data": {
      "text/plain": [
       "Set{Int64} with 2 elements:\n",
       "  2\n",
       "  1"
      ]
     },
     "execution_count": 35,
     "metadata": {},
     "output_type": "execute_result"
    }
   ],
   "source": [
    "# пересечение множеств:\n",
    "D = intersect(S1,S3)"
   ]
  },
  {
   "cell_type": "code",
   "execution_count": 36,
   "id": "15fdf02b-f844-4043-9aa0-555484e1c3c8",
   "metadata": {},
   "outputs": [
    {
     "data": {
      "text/plain": [
       "Set{Int64} with 1 element:\n",
       "  3"
      ]
     },
     "execution_count": 36,
     "metadata": {},
     "output_type": "execute_result"
    }
   ],
   "source": [
    "# разность множеств:\n",
    "E = setdiff(S3,S1)"
   ]
  },
  {
   "cell_type": "code",
   "execution_count": 37,
   "id": "a2287d9e-a785-4f87-b0bd-3dc4715dc283",
   "metadata": {},
   "outputs": [
    {
     "data": {
      "text/plain": [
       "true"
      ]
     },
     "execution_count": 37,
     "metadata": {},
     "output_type": "execute_result"
    }
   ],
   "source": [
    "# проверка вхождения элементов одного множества в другое:\n",
    "issubset(S1,S4)"
   ]
  },
  {
   "cell_type": "code",
   "execution_count": 38,
   "id": "3ac482ba-5ede-4c0b-855e-98af0fcc00a2",
   "metadata": {},
   "outputs": [
    {
     "data": {
      "text/plain": [
       "Set{Int64} with 4 elements:\n",
       "  2\n",
       "  99\n",
       "  3\n",
       "  1"
      ]
     },
     "execution_count": 38,
     "metadata": {},
     "output_type": "execute_result"
    }
   ],
   "source": [
    "# добавление элемента в множество:\n",
    "push!(S4, 99)"
   ]
  },
  {
   "cell_type": "code",
   "execution_count": 39,
   "id": "80cbbca0-8080-4029-8119-55e548177dae",
   "metadata": {},
   "outputs": [
    {
     "data": {
      "text/plain": [
       "2"
      ]
     },
     "execution_count": 39,
     "metadata": {},
     "output_type": "execute_result"
    }
   ],
   "source": [
    "# удаление последнего элемента множества:\n",
    "pop!(S4)"
   ]
  },
  {
   "cell_type": "code",
   "execution_count": 40,
   "id": "56ec921f-bddc-40eb-b56b-a3173150e608",
   "metadata": {},
   "outputs": [
    {
     "data": {
      "text/plain": [
       "Any[]"
      ]
     },
     "execution_count": 40,
     "metadata": {},
     "output_type": "execute_result"
    }
   ],
   "source": [
    "# создание пустого массива с абстрактным типом:\n",
    "empty_array_1 = []"
   ]
  },
  {
   "cell_type": "code",
   "execution_count": 43,
   "id": "06ccee3d-75d1-47ef-adf8-8406d1069a45",
   "metadata": {},
   "outputs": [
    {
     "data": {
      "text/plain": [
       "Integer[]"
      ]
     },
     "execution_count": 43,
     "metadata": {},
     "output_type": "execute_result"
    }
   ],
   "source": [
    "# создание пустого массива с конкретным типом:\n",
    "empty_array_2 = (Integer)[]"
   ]
  },
  {
   "cell_type": "code",
   "execution_count": 44,
   "id": "e85c4899-72da-4ae8-b28f-87a0b3a9a146",
   "metadata": {},
   "outputs": [
    {
     "data": {
      "text/plain": [
       "Float64[]"
      ]
     },
     "execution_count": 44,
     "metadata": {},
     "output_type": "execute_result"
    }
   ],
   "source": [
    "empty_array_3 = (Float64)[]"
   ]
  },
  {
   "cell_type": "code",
   "execution_count": 45,
   "id": "b86591a3-d09e-49b8-a825-b6abc6bbf3a3",
   "metadata": {},
   "outputs": [
    {
     "data": {
      "text/plain": [
       "3-element Vector{Int64}:\n",
       " 1\n",
       " 2\n",
       " 3"
      ]
     },
     "execution_count": 45,
     "metadata": {},
     "output_type": "execute_result"
    }
   ],
   "source": [
    "# вектор-столбец:\n",
    "a = [1, 2, 3]"
   ]
  },
  {
   "cell_type": "code",
   "execution_count": 46,
   "id": "9b9b5eb4-3637-49ad-ab26-92864cadcbf2",
   "metadata": {},
   "outputs": [
    {
     "data": {
      "text/plain": [
       "1×3 Matrix{Int64}:\n",
       " 1  2  3"
      ]
     },
     "execution_count": 46,
     "metadata": {},
     "output_type": "execute_result"
    }
   ],
   "source": [
    "# вектор-строка:\n",
    "b = [1 2 3]"
   ]
  },
  {
   "cell_type": "code",
   "execution_count": 47,
   "id": "99b33aad-436e-45d1-9d19-3b72bb62e314",
   "metadata": {},
   "outputs": [
    {
     "data": {
      "text/plain": [
       "3×3 Matrix{Int64}:\n",
       " 1  2  3\n",
       " 4  5  6\n",
       " 7  8  9"
      ]
     },
     "execution_count": 47,
     "metadata": {},
     "output_type": "execute_result"
    }
   ],
   "source": [
    "# многомерные массивы (матрицы):\n",
    "A = [[1, 2, 3] [4, 5, 6] [7, 8, 9]]\n",
    "B = [[1 2 3]; [4 5 6]; [7 8 9]]"
   ]
  },
  {
   "cell_type": "code",
   "execution_count": 48,
   "id": "1a393c78-3fde-45b6-b264-a15fdb0528ba",
   "metadata": {},
   "outputs": [
    {
     "data": {
      "text/plain": [
       "1×8 Matrix{Float64}:\n",
       " 0.256226  0.25554  0.784568  0.927575  0.986676  0.33549  0.271116  0.72746"
      ]
     },
     "execution_count": 48,
     "metadata": {},
     "output_type": "execute_result"
    }
   ],
   "source": [
    "# одномерный массив из 8 элементов (массив $1 \\times 8$)\n",
    "# со значениями, случайно распределёнными на интервале [0, 1):\n",
    "c = rand(1,8)"
   ]
  },
  {
   "cell_type": "code",
   "execution_count": 50,
   "id": "300366b4-5c69-4c5a-8c2d-763c2a89dd80",
   "metadata": {},
   "outputs": [],
   "source": [
    "# многомерный массив $2 \\times 3$ (2 строки, 3 столбца) элементов\n",
    "# со значениями, случайно распределёнными на интервале [0, 1):\n",
    "C = rand(2,3);"
   ]
  },
  {
   "cell_type": "code",
   "execution_count": 51,
   "id": "b50572b6-be80-4814-849c-bd49ec56d3d0",
   "metadata": {},
   "outputs": [
    {
     "data": {
      "text/plain": [
       "4×3×2 Array{Float64, 3}:\n",
       "[:, :, 1] =\n",
       " 0.512968  0.526186  0.961304\n",
       " 0.853289  0.152252  0.859678\n",
       " 0.952187  0.24875   0.946399\n",
       " 0.48737   0.751777  0.45694\n",
       "\n",
       "[:, :, 2] =\n",
       " 0.906144  0.438187   0.732813\n",
       " 0.536162  0.0129409  0.789865\n",
       " 0.978429  0.786002   0.18819\n",
       " 0.962649  0.131996   0.302249"
      ]
     },
     "execution_count": 51,
     "metadata": {},
     "output_type": "execute_result"
    }
   ],
   "source": [
    "# трёхмерный массив:\n",
    "D = rand(4, 3, 2)\n"
   ]
  },
  {
   "cell_type": "code",
   "execution_count": 52,
   "id": "29018206-e00e-45cf-8f7f-7e33b2cee5e2",
   "metadata": {},
   "outputs": [
    {
     "data": {
      "text/plain": [
       "10-element Vector{Float64}:\n",
       " 1.0\n",
       " 1.4142135623730951\n",
       " 1.7320508075688772\n",
       " 2.0\n",
       " 2.23606797749979\n",
       " 2.449489742783178\n",
       " 2.6457513110645907\n",
       " 2.8284271247461903\n",
       " 3.0\n",
       " 3.1622776601683795"
      ]
     },
     "execution_count": 52,
     "metadata": {},
     "output_type": "execute_result"
    }
   ],
   "source": [
    "# массив из квадратных корней всех целых чисел от 1 до 10:\n",
    "roots = [sqrt(i) for i in 1:10]"
   ]
  },
  {
   "cell_type": "code",
   "execution_count": 53,
   "id": "c4266685-8cc7-4acd-a677-125040f0b139",
   "metadata": {},
   "outputs": [
    {
     "data": {
      "text/plain": [
       "5-element Vector{Int64}:\n",
       "   3\n",
       "  27\n",
       "  75\n",
       " 147\n",
       " 243"
      ]
     },
     "execution_count": 53,
     "metadata": {},
     "output_type": "execute_result"
    }
   ],
   "source": [
    "# массив с элементами вида 3*x^2,\n",
    "# где x - нечётное число от 1 до 9 (включительно)\n",
    "ar_1 = [3*i^2 for i in 1:2:9]"
   ]
  },
  {
   "cell_type": "code",
   "execution_count": 54,
   "id": "5ee08bf9-3e3b-409b-b82c-125666493eae",
   "metadata": {},
   "outputs": [
    {
     "data": {
      "text/plain": [
       "4-element Vector{Int64}:\n",
       "  1\n",
       "  9\n",
       " 49\n",
       " 81"
      ]
     },
     "execution_count": 54,
     "metadata": {},
     "output_type": "execute_result"
    }
   ],
   "source": [
    "# массив квадратов элементов, если квадрат не делится на 5 или 4:\n",
    "ar_2=[i^2 for i=1:10 if (i^2%5!=0 && i^2%4!=0)]"
   ]
  },
  {
   "cell_type": "code",
   "execution_count": 55,
   "id": "cf05ffd6-b20b-4032-8af4-75c84e7d3596",
   "metadata": {},
   "outputs": [
    {
     "data": {
      "text/plain": [
       "5-element Vector{Float64}:\n",
       " 1.0\n",
       " 1.0\n",
       " 1.0\n",
       " 1.0\n",
       " 1.0"
      ]
     },
     "execution_count": 55,
     "metadata": {},
     "output_type": "execute_result"
    }
   ],
   "source": [
    "# одномерный массив из пяти единиц:\n",
    "ones(5)"
   ]
  },
  {
   "cell_type": "code",
   "execution_count": 56,
   "id": "59a39a7d-d2ae-4802-9379-7d0500995b52",
   "metadata": {},
   "outputs": [
    {
     "data": {
      "text/plain": [
       "2×3 Matrix{Float64}:\n",
       " 1.0  1.0  1.0\n",
       " 1.0  1.0  1.0"
      ]
     },
     "execution_count": 56,
     "metadata": {},
     "output_type": "execute_result"
    }
   ],
   "source": [
    "# двумерный массив 2x3 из единиц:\n",
    "ones(2,3)"
   ]
  },
  {
   "cell_type": "code",
   "execution_count": 57,
   "id": "226c9ac6-bb6b-45f1-86de-89875f9e299d",
   "metadata": {},
   "outputs": [
    {
     "data": {
      "text/plain": [
       "4-element Vector{Float64}:\n",
       " 0.0\n",
       " 0.0\n",
       " 0.0\n",
       " 0.0"
      ]
     },
     "execution_count": 57,
     "metadata": {},
     "output_type": "execute_result"
    }
   ],
   "source": [
    "# одномерный массив из 4 нулей:\n",
    "zeros(4)"
   ]
  },
  {
   "cell_type": "code",
   "execution_count": 58,
   "id": "bd1fc620-7728-4bfc-9043-99549720edb9",
   "metadata": {},
   "outputs": [
    {
     "data": {
      "text/plain": [
       "3×2 Matrix{Float64}:\n",
       " 3.5  3.5\n",
       " 3.5  3.5\n",
       " 3.5  3.5"
      ]
     },
     "execution_count": 58,
     "metadata": {},
     "output_type": "execute_result"
    }
   ],
   "source": [
    "# заполнить массив 3x2 цифрами 3.5\n",
    "fill(3.5,(3,2))"
   ]
  },
  {
   "cell_type": "code",
   "execution_count": 59,
   "id": "84c580b2-060a-4733-b83f-6abca528ff52",
   "metadata": {},
   "outputs": [
    {
     "data": {
      "text/plain": [
       "3×6 Matrix{Int64}:\n",
       " 1  2  1  2  1  2\n",
       " 1  2  1  2  1  2\n",
       " 1  2  1  2  1  2"
      ]
     },
     "execution_count": 59,
     "metadata": {},
     "output_type": "execute_result"
    }
   ],
   "source": [
    "# заполнение массива посредством функции repeat():\n",
    "repeat([1,2],3,3)\n",
    "repeat([1 2],3,3)"
   ]
  },
  {
   "cell_type": "code",
   "execution_count": 60,
   "id": "ba218f4b-2d93-4d0e-a52b-086c4ab87589",
   "metadata": {},
   "outputs": [
    {
     "data": {
      "text/plain": [
       "2×6 Matrix{Int64}:\n",
       " 1  3  5  7   9  11\n",
       " 2  4  6  8  10  12"
      ]
     },
     "execution_count": 60,
     "metadata": {},
     "output_type": "execute_result"
    }
   ],
   "source": [
    "# преобразование одномерного массива из целых чисел от 1 до 12\n",
    "# в двумерный массив 2x6\n",
    "a = collect(1:12)\n",
    "b = reshape(a,(2,6))"
   ]
  },
  {
   "cell_type": "code",
   "execution_count": 61,
   "id": "41eee827-1e3d-482e-b035-fd414ad7e03a",
   "metadata": {},
   "outputs": [
    {
     "data": {
      "text/plain": [
       "6×2 adjoint(::Matrix{Int64}) with eltype Int64:\n",
       "  1   2\n",
       "  3   4\n",
       "  5   6\n",
       "  7   8\n",
       "  9  10\n",
       " 11  12"
      ]
     },
     "execution_count": 61,
     "metadata": {},
     "output_type": "execute_result"
    }
   ],
   "source": [
    "# транспонирование\n",
    "b'"
   ]
  },
  {
   "cell_type": "code",
   "execution_count": 62,
   "id": "db80384d-c845-4d7f-a06d-49d14060f075",
   "metadata": {},
   "outputs": [
    {
     "data": {
      "text/plain": [
       "6×2 transpose(::Matrix{Int64}) with eltype Int64:\n",
       "  1   2\n",
       "  3   4\n",
       "  5   6\n",
       "  7   8\n",
       "  9  10\n",
       " 11  12"
      ]
     },
     "execution_count": 62,
     "metadata": {},
     "output_type": "execute_result"
    }
   ],
   "source": [
    "# транспонирование\n",
    "с = transpose(b)"
   ]
  },
  {
   "cell_type": "code",
   "execution_count": 63,
   "id": "82835b48-bc79-44a6-bc7b-9790e30f7de5",
   "metadata": {},
   "outputs": [
    {
     "data": {
      "text/plain": [
       "10×5 Matrix{Int64}:\n",
       " 12  10  13  13  11\n",
       " 15  18  14  14  14\n",
       " 19  10  11  18  13\n",
       " 16  11  15  10  20\n",
       " 11  10  10  18  16\n",
       " 14  20  13  19  10\n",
       " 20  19  11  18  13\n",
       " 20  19  11  20  11\n",
       " 14  18  16  12  15\n",
       " 13  17  11  18  19"
      ]
     },
     "execution_count": 63,
     "metadata": {},
     "output_type": "execute_result"
    }
   ],
   "source": [
    "# массив 10x5 целых чисел в диапазоне [10, 20]:\n",
    "ar = rand(10:20, 10, 5)"
   ]
  },
  {
   "cell_type": "code",
   "execution_count": 64,
   "id": "5991a2d4-5824-49a7-b882-9966967a2ee1",
   "metadata": {},
   "outputs": [
    {
     "data": {
      "text/plain": [
       "10-element Vector{Int64}:\n",
       " 10\n",
       " 18\n",
       " 10\n",
       " 11\n",
       " 10\n",
       " 20\n",
       " 19\n",
       " 19\n",
       " 18\n",
       " 17"
      ]
     },
     "execution_count": 64,
     "metadata": {},
     "output_type": "execute_result"
    }
   ],
   "source": [
    "# выбор всех значений строки в столбце 2:\n",
    "ar[:, 2]"
   ]
  },
  {
   "cell_type": "code",
   "execution_count": 65,
   "id": "34c746b7-efb6-449b-a66b-772cb13090d7",
   "metadata": {},
   "outputs": [
    {
     "data": {
      "text/plain": [
       "10×2 Matrix{Int64}:\n",
       " 10  11\n",
       " 18  14\n",
       " 10  13\n",
       " 11  20\n",
       " 10  16\n",
       " 20  10\n",
       " 19  13\n",
       " 19  11\n",
       " 18  15\n",
       " 17  19"
      ]
     },
     "execution_count": 65,
     "metadata": {},
     "output_type": "execute_result"
    }
   ],
   "source": [
    "# выбор всех значений в столбцах 2 и 5:\n",
    "ar[:, [2, 5]]"
   ]
  },
  {
   "cell_type": "code",
   "execution_count": 66,
   "id": "2a50e2c7-ee5c-4e91-b43f-31c0035eaf4b",
   "metadata": {},
   "outputs": [
    {
     "data": {
      "text/plain": [
       "10×3 Matrix{Int64}:\n",
       " 10  13  13\n",
       " 18  14  14\n",
       " 10  11  18\n",
       " 11  15  10\n",
       " 10  10  18\n",
       " 20  13  19\n",
       " 19  11  18\n",
       " 19  11  20\n",
       " 18  16  12\n",
       " 17  11  18"
      ]
     },
     "execution_count": 66,
     "metadata": {},
     "output_type": "execute_result"
    }
   ],
   "source": [
    "# все значения строк в столбцах 2, 3 и 4:\n",
    "ar[:, 2:4]"
   ]
  },
  {
   "cell_type": "code",
   "execution_count": 67,
   "id": "4ed3dc47-1d60-4982-8a47-dc9c15b73b3d",
   "metadata": {},
   "outputs": [
    {
     "data": {
      "text/plain": [
       "3×2 Matrix{Int64}:\n",
       " 15  14\n",
       " 16  20\n",
       " 14  10"
      ]
     },
     "execution_count": 67,
     "metadata": {},
     "output_type": "execute_result"
    }
   ],
   "source": [
    "# значения в строках 2, 4, 6 и в столбцах 1 и 5:\n",
    "ar[[2, 4, 6], [1, 5]]"
   ]
  },
  {
   "cell_type": "code",
   "execution_count": 68,
   "id": "f91b657b-6ff3-48e9-94a5-543d0e82c7a1",
   "metadata": {},
   "outputs": [
    {
     "data": {
      "text/plain": [
       "3-element Vector{Int64}:\n",
       " 13\n",
       " 13\n",
       " 11"
      ]
     },
     "execution_count": 68,
     "metadata": {},
     "output_type": "execute_result"
    }
   ],
   "source": [
    "# значения в строке 1 от столбца 3 до последнего столбца:\n",
    "ar[1, 3:end]"
   ]
  },
  {
   "cell_type": "code",
   "execution_count": 69,
   "id": "261b98b7-68a2-4647-901f-4d1ad09eff6c",
   "metadata": {},
   "outputs": [
    {
     "data": {
      "text/plain": [
       "10×5 Matrix{Int64}:\n",
       " 11  10  10  10  10\n",
       " 12  10  11  12  11\n",
       " 13  10  11  13  11\n",
       " 14  11  11  14  13\n",
       " 14  17  11  18  13\n",
       " 15  18  13  18  14\n",
       " 16  18  13  18  15\n",
       " 19  19  14  18  16\n",
       " 20  19  15  19  19\n",
       " 20  20  16  20  20"
      ]
     },
     "execution_count": 69,
     "metadata": {},
     "output_type": "execute_result"
    }
   ],
   "source": [
    "# сортировка по строкам:\n",
    "sort(ar,dims=1)"
   ]
  },
  {
   "cell_type": "code",
   "execution_count": 70,
   "id": "c0d6ff50-15af-4cdf-a865-1add942dd8d8",
   "metadata": {},
   "outputs": [
    {
     "data": {
      "text/plain": [
       "10×5 Matrix{Int64}:\n",
       " 10  11  12  13  13\n",
       " 14  14  14  15  18\n",
       " 10  11  13  18  19\n",
       " 10  11  15  16  20\n",
       " 10  10  11  16  18\n",
       " 10  13  14  19  20\n",
       " 11  13  18  19  20\n",
       " 11  11  19  20  20\n",
       " 12  14  15  16  18\n",
       " 11  13  17  18  19"
      ]
     },
     "execution_count": 70,
     "metadata": {},
     "output_type": "execute_result"
    }
   ],
   "source": [
    "# сортировка по столбцам:\n",
    "sort(ar,dims=2)"
   ]
  },
  {
   "cell_type": "code",
   "execution_count": 71,
   "id": "9d4bca55-b15d-448c-875a-a6d8fa508bc0",
   "metadata": {},
   "outputs": [
    {
     "data": {
      "text/plain": [
       "10×5 BitMatrix:\n",
       " 0  0  0  0  0\n",
       " 1  1  0  0  0\n",
       " 1  0  0  1  0\n",
       " 1  0  1  0  1\n",
       " 0  0  0  1  1\n",
       " 0  1  0  1  0\n",
       " 1  1  0  1  0\n",
       " 1  1  0  1  0\n",
       " 0  1  1  0  1\n",
       " 0  1  0  1  1"
      ]
     },
     "execution_count": 71,
     "metadata": {},
     "output_type": "execute_result"
    }
   ],
   "source": [
    "# поэлементное сравнение с числом\n",
    "# (результат - массив логических значений):\n",
    "ar .> 14"
   ]
  },
  {
   "cell_type": "code",
   "execution_count": 76,
   "id": "17cb7c1e-049b-4daa-8c99-ebf3a745842b",
   "metadata": {},
   "outputs": [
    {
     "data": {
      "text/plain": [
       "23-element Vector{CartesianIndex{2}}:\n",
       " CartesianIndex(2, 1)\n",
       " CartesianIndex(3, 1)\n",
       " CartesianIndex(4, 1)\n",
       " CartesianIndex(7, 1)\n",
       " CartesianIndex(8, 1)\n",
       " CartesianIndex(2, 2)\n",
       " CartesianIndex(6, 2)\n",
       " CartesianIndex(7, 2)\n",
       " CartesianIndex(8, 2)\n",
       " CartesianIndex(9, 2)\n",
       " CartesianIndex(10, 2)\n",
       " CartesianIndex(4, 3)\n",
       " CartesianIndex(9, 3)\n",
       " CartesianIndex(3, 4)\n",
       " CartesianIndex(5, 4)\n",
       " CartesianIndex(6, 4)\n",
       " CartesianIndex(7, 4)\n",
       " CartesianIndex(8, 4)\n",
       " CartesianIndex(10, 4)\n",
       " CartesianIndex(4, 5)\n",
       " CartesianIndex(5, 5)\n",
       " CartesianIndex(9, 5)\n",
       " CartesianIndex(10, 5)"
      ]
     },
     "execution_count": 76,
     "metadata": {},
     "output_type": "execute_result"
    }
   ],
   "source": [
    "# возврат индексов элементов массива, удовлетворяющих условию:\n",
    "findall(ar .> 14)"
   ]
  },
  {
   "cell_type": "code",
   "execution_count": 73,
   "id": "941829a1-ba6a-49c8-b067-d6cf52ad80ad",
   "metadata": {},
   "outputs": [
    {
     "data": {
      "text/plain": [
       "Set{Int64} with 4 elements:\n",
       "  0\n",
       "  4\n",
       "  9\n",
       "  3"
      ]
     },
     "execution_count": 73,
     "metadata": {},
     "output_type": "execute_result"
    }
   ],
   "source": [
    "A = Set([0, 3, 4, 9])"
   ]
  },
  {
   "cell_type": "code",
   "execution_count": 74,
   "id": "ab3294d5-70d6-4779-a0bd-28d7b2acb1d4",
   "metadata": {},
   "outputs": [
    {
     "data": {
      "text/plain": [
       "Set{Int64} with 4 elements:\n",
       "  4\n",
       "  7\n",
       "  3\n",
       "  1"
      ]
     },
     "execution_count": 74,
     "metadata": {},
     "output_type": "execute_result"
    }
   ],
   "source": [
    "B = Set([1, 3, 4, 7])"
   ]
  },
  {
   "cell_type": "code",
   "execution_count": 75,
   "id": "605a6e86-2715-4c27-a52d-44407cb3cb17",
   "metadata": {},
   "outputs": [
    {
     "data": {
      "text/plain": [
       "Set{Int64} with 7 elements:\n",
       "  0\n",
       "  4\n",
       "  7\n",
       "  2\n",
       "  9\n",
       "  8\n",
       "  1"
      ]
     },
     "execution_count": 75,
     "metadata": {},
     "output_type": "execute_result"
    }
   ],
   "source": [
    "C = Set([0, 1, 2, 4, 7, 8, 9])"
   ]
  },
  {
   "cell_type": "code",
   "execution_count": 77,
   "id": "5b8efa1f-0685-4977-a594-c36eb77fa629",
   "metadata": {},
   "outputs": [],
   "source": [
    "#𝑃 = 𝐴 ∩ 𝐵 ∪ 𝐴 ∩ 𝐵 ∪ 𝐴 ∩ 𝐶 ∪ 𝐵 ∩ C\n",
    "# объединение множеств: C=union(S1,S2)\n",
    "# пересечение множеств: D = intersect(S1,S3)"
   ]
  },
  {
   "cell_type": "code",
   "execution_count": 79,
   "id": "c2e85a48-e545-4950-a209-93d333419383",
   "metadata": {},
   "outputs": [
    {
     "data": {
      "text/plain": [
       "Set{Int64} with 2 elements:\n",
       "  4\n",
       "  3"
      ]
     },
     "execution_count": 79,
     "metadata": {},
     "output_type": "execute_result"
    }
   ],
   "source": [
    "d = intersect(A, B)"
   ]
  },
  {
   "cell_type": "code",
   "execution_count": 80,
   "id": "dfe2e3d6-d3fa-4149-8dc6-b026d0c38f5e",
   "metadata": {},
   "outputs": [
    {
     "data": {
      "text/plain": [
       "Set{Int64} with 3 elements:\n",
       "  0\n",
       "  4\n",
       "  9"
      ]
     },
     "execution_count": 80,
     "metadata": {},
     "output_type": "execute_result"
    }
   ],
   "source": [
    "f = intersect( A, C)"
   ]
  },
  {
   "cell_type": "code",
   "execution_count": 82,
   "id": "33c3087c-b78e-43e9-9a4a-917c2aeb7352",
   "metadata": {},
   "outputs": [
    {
     "data": {
      "text/plain": [
       "Set{Int64} with 3 elements:\n",
       "  4\n",
       "  7\n",
       "  1"
      ]
     },
     "execution_count": 82,
     "metadata": {},
     "output_type": "execute_result"
    }
   ],
   "source": [
    "e = intersect(B, C)"
   ]
  },
  {
   "cell_type": "code",
   "execution_count": 83,
   "id": "b0b82b10-a1ec-433d-8c50-d59d6319fd58",
   "metadata": {},
   "outputs": [
    {
     "data": {
      "text/plain": [
       "Set{Int64} with 6 elements:\n",
       "  0\n",
       "  4\n",
       "  7\n",
       "  9\n",
       "  3\n",
       "  1"
      ]
     },
     "execution_count": 83,
     "metadata": {},
     "output_type": "execute_result"
    }
   ],
   "source": [
    "p = union(d, d, f, e)"
   ]
  },
  {
   "cell_type": "code",
   "execution_count": 84,
   "id": "d5122c7a-c33c-4803-a6d2-f4370e5ea8f4",
   "metadata": {},
   "outputs": [],
   "source": [
    "#Приведите свои примеры с выполнением операций над множествами элементов разныхтипов"
   ]
  },
  {
   "cell_type": "code",
   "execution_count": 86,
   "id": "15fb16c7-377c-427f-97f0-01934c3ea934",
   "metadata": {},
   "outputs": [
    {
     "data": {
      "text/plain": [
       "Set{Int64} with 4 elements:\n",
       "  4\n",
       "  2\n",
       "  3\n",
       "  1"
      ]
     },
     "execution_count": 86,
     "metadata": {},
     "output_type": "execute_result"
    }
   ],
   "source": [
    "A = Set([1, 2, 3, 4])"
   ]
  },
  {
   "cell_type": "code",
   "execution_count": 87,
   "id": "f76e6fd2-940d-4dc0-9875-610d69de22fc",
   "metadata": {},
   "outputs": [
    {
     "data": {
      "text/plain": [
       "Set{String} with 4 elements:\n",
       "  \"c\"\n",
       "  \"b\"\n",
       "  \"a\"\n",
       "  \"d\""
      ]
     },
     "execution_count": 87,
     "metadata": {},
     "output_type": "execute_result"
    }
   ],
   "source": [
    "B = Set([\"a\", \"b\", \"c\", \"d\"])"
   ]
  },
  {
   "cell_type": "code",
   "execution_count": 89,
   "id": "fdc9a8e8-179f-4740-bb3b-bc021a17071a",
   "metadata": {},
   "outputs": [
    {
     "data": {
      "text/plain": [
       "false"
      ]
     },
     "execution_count": 89,
     "metadata": {},
     "output_type": "execute_result"
    }
   ],
   "source": [
    "# проверка эквивалентности двух множеств:\n",
    "issetequal(A, B)"
   ]
  },
  {
   "cell_type": "code",
   "execution_count": 90,
   "id": "391766fb-0313-4fa7-8977-067d97795fe8",
   "metadata": {},
   "outputs": [
    {
     "data": {
      "text/plain": [
       "Set{Any} with 8 elements:\n",
       "  \"d\"\n",
       "  4\n",
       "  \"c\"\n",
       "  2\n",
       "  \"b\"\n",
       "  3\n",
       "  1\n",
       "  \"a\""
      ]
     },
     "execution_count": 90,
     "metadata": {},
     "output_type": "execute_result"
    }
   ],
   "source": [
    "# объединение множеств:\n",
    "C = union(A, B)"
   ]
  },
  {
   "cell_type": "code",
   "execution_count": 91,
   "id": "8b7c4ee4-478d-4b4a-9c82-6321a6fcb5e6",
   "metadata": {},
   "outputs": [
    {
     "data": {
      "text/plain": [
       "Set{Int64}()"
      ]
     },
     "execution_count": 91,
     "metadata": {},
     "output_type": "execute_result"
    }
   ],
   "source": [
    "# пересечение множеств:\n",
    "D = intersect(A, B)"
   ]
  },
  {
   "cell_type": "code",
   "execution_count": 92,
   "id": "47613685-b5d8-48c3-bd5c-daea07f526fb",
   "metadata": {},
   "outputs": [
    {
     "data": {
      "text/plain": [
       "Set{Int64} with 4 elements:\n",
       "  4\n",
       "  2\n",
       "  3\n",
       "  1"
      ]
     },
     "execution_count": 92,
     "metadata": {},
     "output_type": "execute_result"
    }
   ],
   "source": [
    "# разность множеств:\n",
    "E = setdiff(A, B)"
   ]
  },
  {
   "cell_type": "code",
   "execution_count": 93,
   "id": "2f12f808-4287-4ffa-9e94-78a5e068ec0b",
   "metadata": {},
   "outputs": [
    {
     "data": {
      "text/plain": [
       "false"
      ]
     },
     "execution_count": 93,
     "metadata": {},
     "output_type": "execute_result"
    }
   ],
   "source": [
    "# проверка вхождения элементов одного множества в другое:\n",
    "issubset(A,B)"
   ]
  },
  {
   "cell_type": "code",
   "execution_count": 99,
   "id": "c615dda9-886c-4ac3-b460-c0b9d78c7773",
   "metadata": {},
   "outputs": [
    {
     "data": {
      "text/plain": [
       "Set{String} with 5 elements:\n",
       "  \"c\"\n",
       "  \"99\"\n",
       "  \"b\"\n",
       "  \"a\"\n",
       "  \"d\""
      ]
     },
     "execution_count": 99,
     "metadata": {},
     "output_type": "execute_result"
    }
   ],
   "source": [
    "# добавление элемента в множество:\n",
    "push!(B, \"99\")"
   ]
  },
  {
   "cell_type": "code",
   "execution_count": 95,
   "id": "abad65bf-bbcd-4ccd-a848-c95f09cdf08a",
   "metadata": {},
   "outputs": [
    {
     "data": {
      "text/plain": [
       "4"
      ]
     },
     "execution_count": 95,
     "metadata": {},
     "output_type": "execute_result"
    }
   ],
   "source": [
    "# удаление последнего элемента множества:\n",
    "pop!(A)"
   ]
  },
  {
   "cell_type": "markdown",
   "id": "1d1c02a5-a97d-4e81-ab9b-3e2b7732ddec",
   "metadata": {},
   "source": [
    "3.1) массив (1, 2, 3, … 𝑁 − 1, 𝑁 ), 𝑁 выберите больше 20;\n"
   ]
  },
  {
   "cell_type": "code",
   "execution_count": 100,
   "id": "19a5dad6-17bd-4a30-9ede-ce4108b7e0ce",
   "metadata": {},
   "outputs": [
    {
     "data": {
      "text/plain": [
       "22"
      ]
     },
     "execution_count": 100,
     "metadata": {},
     "output_type": "execute_result"
    }
   ],
   "source": [
    "n = 22"
   ]
  },
  {
   "cell_type": "code",
   "execution_count": 108,
   "id": "cb595b1a-656d-40cc-9673-e1899ecdb8a1",
   "metadata": {},
   "outputs": [
    {
     "name": "stdout",
     "output_type": "stream",
     "text": [
      "[1, 2, 3, 4, 5, 6, 7, 8, 9, 10, 11, 12, 13, 14, 15, 16, 17, 18, 19, 20, 21, 22]"
     ]
    }
   ],
   "source": [
    "a_3_1 = collect(1:n)\n",
    "print(a_3_1)"
   ]
  },
  {
   "cell_type": "markdown",
   "id": "8f667825-614f-4adf-b6a5-615a19cd5a5c",
   "metadata": {},
   "source": [
    "3.2) массив (𝑁, 𝑁 − 1 … , 2, 1), 𝑁 выберите больше 20;\n"
   ]
  },
  {
   "cell_type": "code",
   "execution_count": 111,
   "id": "45aa73d1-d9bb-4412-b93b-4a9b10a05f41",
   "metadata": {},
   "outputs": [
    {
     "name": "stdout",
     "output_type": "stream",
     "text": [
      "[22, 21, 20, 19, 18, 17, 16, 15, 14, 13, 12, 11, 10, 9, 8, 7, 6, 5, 4, 3, 2, 1]"
     ]
    }
   ],
   "source": [
    "a_3_2 = [n - i + 1 for i in 1:n]\n",
    "print(a_3_2)"
   ]
  },
  {
   "cell_type": "markdown",
   "id": "e9f45026-e0be-493f-9cc2-a79b31607b3b",
   "metadata": {},
   "source": [
    "3.3) массив (1, 2, 3, … , 𝑁 − 1, 𝑁, 𝑁 − 1, … , 2, 1), 𝑁 выберите больше 20"
   ]
  },
  {
   "cell_type": "code",
   "execution_count": 126,
   "id": "01330987-897c-40d4-b81e-a698c1fab0f1",
   "metadata": {},
   "outputs": [
    {
     "name": "stdout",
     "output_type": "stream",
     "text": [
      "[1.0, 2.0, 3.0, 4.0, 5.0, 6.0, 7.0, 8.0, 9.0, 10.0, 11.0, 12.0, 13.0, 14.0, 15.0, 16.0, 17.0, 18.0, 19.0, 20.0, 21.0, 22.0, 21.0, 20.0, 19.0, 18.0, 17.0, 16.0, 15.0, 14.0, 13.0, 12.0, 11.0, 10.0, 9.0, 8.0, 7.0, 6.0, 5.0, 4.0, 3.0, 2.0, 1.0]"
     ]
    }
   ],
   "source": [
    "a_3_3 = ones(n*2-1)\n",
    "for i in 1:n\n",
    "    a_3_3[i] = i\n",
    "    a_3_3[n*2-i] = i\n",
    "end\n",
    "print(a_3_3)"
   ]
  },
  {
   "cell_type": "markdown",
   "id": "9d5fa41a-a40b-4284-8051-13ec6a5126d6",
   "metadata": {},
   "source": [
    "3.4) массив с именем tmp вида (4, 6, 3);"
   ]
  },
  {
   "cell_type": "code",
   "execution_count": 161,
   "id": "5dc8b44b-d053-47c7-909a-d5284d9739fc",
   "metadata": {},
   "outputs": [
    {
     "name": "stdout",
     "output_type": "stream",
     "text": [
      "[4, 6, 3]"
     ]
    }
   ],
   "source": [
    "tmp = [4, 6, 3]\n",
    "print(tmp)"
   ]
  },
  {
   "cell_type": "markdown",
   "id": "9f4a2587-18c0-4e67-ab0d-a0c9fd2d1b1f",
   "metadata": {},
   "source": [
    "3.5) массив, в котором первый элемент массива tmp повторяется 10 раз;"
   ]
  },
  {
   "cell_type": "code",
   "execution_count": 162,
   "id": "9dc601f6-8fc4-431d-9bfa-8fbbf70cd28f",
   "metadata": {},
   "outputs": [
    {
     "name": "stdout",
     "output_type": "stream",
     "text": [
      "[4, 4, 4, 4, 4, 4, 4, 4, 4, 4]"
     ]
    }
   ],
   "source": [
    "tmp_3_5 = repeat([tmp[1]],10)\n",
    "print(tmp_3_5)"
   ]
  },
  {
   "cell_type": "markdown",
   "id": "a54eb270-05bd-4ba4-a76d-16fc4b43cb8b",
   "metadata": {},
   "source": [
    "3.6) массив, в котором все элементы массива tmp повторяются 10 раз;"
   ]
  },
  {
   "cell_type": "code",
   "execution_count": 193,
   "id": "adb952c1-b5cc-4945-8da3-a8950fc96657",
   "metadata": {},
   "outputs": [
    {
     "name": "stdout",
     "output_type": "stream",
     "text": [
      "Integer[4, 4, 4, 4, 4, 4, 4, 4, 4, 4, 6, 6, 6, 6, 6, 6, 6, 6, 6, 6, 3, 3, 3, 3, 3, 3, 3, 3, 3, 3]"
     ]
    }
   ],
   "source": [
    "n = length(tmp)\n",
    "tmp_3_6_1 = []\n",
    "tmp_3_6 =(Integer)[]\n",
    "for i in 1:n\n",
    "    tmp_3_6_1 = repeat([tmp[i]],10)\n",
    "    append!(tmp_3_6, tmp_3_6_1)\n",
    "end\n",
    "print(tmp_3_6)"
   ]
  },
  {
   "cell_type": "markdown",
   "id": "8c560c99-8ca2-49b7-b6a6-c68c8075edd5",
   "metadata": {},
   "source": [
    "3.7)массив, в котором первый элемент массива tmp встречается 11 раз, второй элемент\n",
    "— 10 раз, третий элемент — 10 раз;"
   ]
  },
  {
   "cell_type": "code",
   "execution_count": 194,
   "id": "e221da97-3940-4d8c-acc0-7e5a83314f1e",
   "metadata": {},
   "outputs": [
    {
     "name": "stdout",
     "output_type": "stream",
     "text": [
      "[4, 4, 4, 4, 4, 4, 4, 4, 4, 4, 4, 6, 6, 6, 6, 6, 6, 6, 6, 6, 6, 3, 3, 3, 3, 3, 3, 3, 3, 3, 3]"
     ]
    }
   ],
   "source": [
    "tmp_3_7 = [fill(tmp[1], (11)); fill(tmp[2],(10)); fill(tmp[3],(10))]\n",
    "print(tmp_3_7)"
   ]
  },
  {
   "cell_type": "markdown",
   "id": "c9233cab-9c15-41be-9853-f5610d9953d5",
   "metadata": {},
   "source": [
    "3.8) массив, в котором первый элемент массива tmp встречается 10 раз подряд, второй\n",
    "элемент — 20 раз подряд, третий элемент — 30 раз подряд;"
   ]
  },
  {
   "cell_type": "code",
   "execution_count": 196,
   "id": "365ee4b4-7561-497e-9458-f64c0b8ce6c2",
   "metadata": {},
   "outputs": [
    {
     "name": "stdout",
     "output_type": "stream",
     "text": [
      "[4, 4, 4, 4, 4, 4, 4, 4, 4, 4, 6, 6, 6, 6, 6, 6, 6, 6, 6, 6, 6, 6, 6, 6, 6, 6, 6, 6, 6, 6, 3, 3, 3, 3, 3, 3, 3, 3, 3, 3, 3, 3, 3, 3, 3, 3, 3, 3, 3, 3, 3, 3, 3, 3, 3, 3, 3, 3, 3, 3]"
     ]
    }
   ],
   "source": [
    "tmp_3_8 = [fill(tmp[1], (10)); fill(tmp[2],(20)); fill(tmp[3],(30))]\n",
    "print(tmp_3_8)"
   ]
  },
  {
   "cell_type": "markdown",
   "id": "07cb8a54-4ad4-4adc-b56d-0a0c791834a4",
   "metadata": {},
   "source": [
    "3.10) вектор значений 𝑦 = 𝑒^𝑥\n",
    "cos(𝑥) в точках 𝑥 = 3, 3.1, 3.2, … , 6, найдите среднее\n",
    "значение 𝑦;\n"
   ]
  },
  {
   "cell_type": "code",
   "execution_count": 197,
   "id": "5f05add2-8be1-436c-9651-18e90d72449d",
   "metadata": {},
   "outputs": [
    {
     "name": "stdout",
     "output_type": "stream",
     "text": [
      "53.11374594642971"
     ]
    }
   ],
   "source": [
    "num_3_10 = [exp(i)*cos(i) for i in 3:0.1:6]\n",
    "sum = 0\n",
    "for i in 1:length(num_3_10)\n",
    "    sum += num_3_10[i]\n",
    "end\n",
    "print(sum/length(num_3_10))"
   ]
  },
  {
   "cell_type": "markdown",
   "id": "73f0e672-ae21-4ea6-ab96-8e8c5a650a38",
   "metadata": {},
   "source": [
    "3.11) вектор вида (𝑥𝑖, 𝑦𝑗), 𝑥 = 0.1, 𝑖 = 3, 6, 9, … , 36, 𝑦 = 0.2, 𝑗 = 1, 4, 7, , 34;"
   ]
  },
  {
   "cell_type": "code",
   "execution_count": 199,
   "id": "ebf446e1-e239-43d7-8710-e84cafb8e0cc",
   "metadata": {},
   "outputs": [
    {
     "name": "stdout",
     "output_type": "stream",
     "text": [
      "Any[(0.0010000000000000002, 0.2), (1.0000000000000004e-6, 0.0016000000000000003), (1.0000000000000005e-9, 1.2800000000000005e-5), (1.0000000000000006e-12, 1.0240000000000006e-7), (1.0000000000000009e-15, 8.192000000000005e-10), (1.000000000000001e-18, 6.5536000000000055e-12), (1.0000000000000012e-21, 5.2428800000000056e-14), (1.0000000000000014e-24, 4.194304000000005e-16), (1.0000000000000015e-27, 3.3554432000000048e-18), (1.0000000000000017e-30, 2.684354560000004e-20), (1.0000000000000018e-33, 2.1474836480000035e-22), (1.000000000000002e-36, 1.717986918400003e-24)]"
     ]
    }
   ],
   "source": [
    "x = 0.1\n",
    "y = 0.2\n",
    "num_11 = []\n",
    "i = 3\n",
    "for j in 1:3:34\n",
    "    append!(num_11,[(x^i,y^j)])\n",
    "    i += 3\n",
    "end\n",
    "print(num_11)"
   ]
  },
  {
   "cell_type": "markdown",
   "id": "8d3f261a-7e95-4176-8ccc-54ab44534025",
   "metadata": {},
   "source": [
    "3.12) вектор с элементами 2^𝑖/𝑖, 𝑖 = 1, 2, … , 𝑀, 𝑀 = 25;"
   ]
  },
  {
   "cell_type": "code",
   "execution_count": 200,
   "id": "fb740c5e-9c00-440f-b4a3-574fff52cfd2",
   "metadata": {},
   "outputs": [
    {
     "name": "stdout",
     "output_type": "stream",
     "text": [
      "[2.0, 2.0, 2.6666666666666665, 4.0, 6.4, 10.666666666666666, 18.285714285714285, 32.0, 56.888888888888886, 102.4, 186.1818181818182, 341.3333333333333, 630.1538461538462, 1170.2857142857142, 2184.5333333333333, 4096.0, 7710.117647058823, 14563.555555555555, 27594.105263157893, 52428.8, 99864.38095238095, 190650.18181818182, 364722.0869565217, 699050.6666666666, 1.34217728e6]"
     ]
    }
   ],
   "source": [
    "M = 25\n",
    "num_12 = [(2^i)/i for i in 1:M]\n",
    "print(num_12)"
   ]
  },
  {
   "cell_type": "markdown",
   "id": "968cda4a-a08a-4c45-b201-3da900d7457b",
   "metadata": {},
   "source": [
    "3.13) вектор вида (”fn1”, ”fn2”, …, ”fnN”), 𝑁 = 30;"
   ]
  },
  {
   "cell_type": "code",
   "execution_count": 201,
   "id": "c843112d-8363-45c6-8719-c3335eba109a",
   "metadata": {},
   "outputs": [
    {
     "name": "stdout",
     "output_type": "stream",
     "text": [
      "[\"fn1\", \"fn2\", \"fn3\", \"fn4\", \"fn5\", \"fn6\", \"fn7\", \"fn8\", \"fn9\", \"fn10\", \"fn11\", \"fn12\", \"fn13\", \"fn14\", \"fn15\", \"fn16\", \"fn17\", \"fn18\", \"fn19\", \"fn20\", \"fn21\", \"fn22\", \"fn23\", \"fn24\", \"fn25\", \"fn26\", \"fn27\", \"fn28\", \"fn29\", \"fn30\"]"
     ]
    }
   ],
   "source": [
    "N = 30\n",
    "num_13 = [\"fn$i\" for i in 1:N]\n",
    "print(num_13)"
   ]
  },
  {
   "cell_type": "markdown",
   "id": "4b4fed0a-453f-4279-b3bb-899c03d10394",
   "metadata": {},
   "source": [
    "3.14) векторы 𝑥 = (𝑥1, 𝑥2, … , 𝑥𝑛) и 𝑦 = (𝑦1, 𝑦2, … , 𝑦𝑛) целочисленного типа длины 𝑛 = 250 как случайные выборки из совокупности 0, 1, … , 999; на его  основе:"
   ]
  },
  {
   "cell_type": "code",
   "execution_count": 202,
   "id": "f50954dd-527a-447f-a238-8cb81ef2944a",
   "metadata": {},
   "outputs": [
    {
     "data": {
      "text/plain": [
       "250-element Vector{Int64}:\n",
       " 164\n",
       " 836\n",
       " 528\n",
       "  18\n",
       " 606\n",
       " 135\n",
       " 753\n",
       " 967\n",
       " 967\n",
       " 986\n",
       " 399\n",
       " 180\n",
       " 804\n",
       "   ⋮\n",
       "  42\n",
       " 676\n",
       " 335\n",
       " 260\n",
       " 645\n",
       " 256\n",
       " 219\n",
       " 508\n",
       " 313\n",
       " 943\n",
       " 558\n",
       " 621"
      ]
     },
     "execution_count": 202,
     "metadata": {},
     "output_type": "execute_result"
    }
   ],
   "source": [
    "n = 250\n",
    "x_14 = rand(0:999, n)\n",
    "y_14 = rand(0:999, n)"
   ]
  },
  {
   "cell_type": "markdown",
   "id": "16d0c512-750b-48cf-aee0-d16a18a5cd26",
   "metadata": {},
   "source": [
    "– сформируйте вектор (𝑥1 + 2𝑥2 − 𝑥3, 𝑥2 + 2𝑥3 − 𝑥4, … , 𝑥𝑛−2 + 2𝑥𝑛−1 − 𝑥𝑛);"
   ]
  },
  {
   "cell_type": "code",
   "execution_count": 209,
   "id": "37c4ad01-ed2b-4678-a3d9-f28467168436",
   "metadata": {},
   "outputs": [
    {
     "data": {
      "text/plain": [
       "248-element Vector{Int64}:\n",
       " 1124\n",
       " 1002\n",
       " 1802\n",
       "  532\n",
       " 1502\n",
       " 1918\n",
       "  119\n",
       "  738\n",
       " 2664\n",
       "  908\n",
       " -670\n",
       "  607\n",
       " 1795\n",
       "    ⋮\n",
       "  533\n",
       " 1332\n",
       "  967\n",
       "  973\n",
       " 2248\n",
       " 1594\n",
       "  526\n",
       "  281\n",
       "  641\n",
       " 1093\n",
       " 1748\n",
       " 2557"
      ]
     },
     "execution_count": 209,
     "metadata": {},
     "output_type": "execute_result"
    }
   ],
   "source": [
    "vect_2= [x_14[i-2] + 2*x_14[i-1] - x_14[i] for i in 3:250]"
   ]
  },
  {
   "cell_type": "markdown",
   "id": "2f95a859-e603-4190-8ee0-7dbe363dc70f",
   "metadata": {},
   "source": [
    "– сформируйте вектор (𝑦2 − 𝑥1, … , 𝑦𝑛 − 𝑥𝑛−1);"
   ]
  },
  {
   "cell_type": "code",
   "execution_count": 210,
   "id": "21231366-16b5-4765-acf3-7728c25fd4bc",
   "metadata": {},
   "outputs": [
    {
     "data": {
      "text/plain": [
       "249-element Vector{Int64}:\n",
       "  512\n",
       " -149\n",
       " -536\n",
       " -177\n",
       " -183\n",
       " -134\n",
       "  377\n",
       "  818\n",
       "  217\n",
       " -550\n",
       "  177\n",
       "  757\n",
       " -113\n",
       "    ⋮\n",
       " -272\n",
       "  -71\n",
       " -141\n",
       " -472\n",
       " -322\n",
       " -162\n",
       "   10\n",
       "  198\n",
       " -235\n",
       "  178\n",
       " -427\n",
       " -366"
      ]
     },
     "execution_count": 210,
     "metadata": {},
     "output_type": "execute_result"
    }
   ],
   "source": [
    "vect_1 = [y_14[i] - x_14[i-1]  for i in 2:n]"
   ]
  },
  {
   "cell_type": "markdown",
   "id": "32b36070-0d5e-4de9-8310-6b436f0baeb2",
   "metadata": {},
   "source": [
    "– сформируйте вектор"
   ]
  },
  {
   "cell_type": "code",
   "execution_count": 211,
   "id": "5c431230-86f3-4779-80af-465b6348f687",
   "metadata": {},
   "outputs": [
    {
     "data": {
      "text/plain": [
       "249-element Vector{Float64}:\n",
       " -45.014520279588666\n",
       "   0.6998480593510994\n",
       "  -0.28640827441532885\n",
       "   0.9811765005975805\n",
       "   0.67082301065147\n",
       "   0.10853224328311645\n",
       "   3.717429793472862\n",
       "   0.7434754805575975\n",
       "  -0.590083386579091\n",
       "   0.44852020901361206\n",
       "   0.017869022400804575\n",
       "  -0.8903273518441155\n",
       "  -0.24658480055663878\n",
       "   ⋮\n",
       "   1.2019369185654527\n",
       " -18.822172325347037\n",
       "   0.5291548566030667\n",
       "   1.1142295549053944\n",
       "  -0.6930171105600276\n",
       "   9.844835812087991\n",
       "   1.9019939576209657\n",
       "  -3.8290976518675124\n",
       " -36.34478106537391\n",
       "  -8.29592099108593\n",
       "   0.5815070743494083\n",
       "  -0.9405038938622042"
      ]
     },
     "execution_count": 211,
     "metadata": {},
     "output_type": "execute_result"
    }
   ],
   "source": [
    "vect_3 = [sin(y_14[i])/cos(x_14[i+1]) for i in 1:n-1]"
   ]
  },
  {
   "cell_type": "markdown",
   "id": "18379f4a-f75c-467a-bef3-a6a6ff7e7849",
   "metadata": {},
   "source": [
    "– вычислите"
   ]
  },
  {
   "cell_type": "code",
   "execution_count": 219,
   "id": "56ec0474-a156-4508-8776-ca22317b23fb",
   "metadata": {},
   "outputs": [
    {
     "name": "stdout",
     "output_type": "stream",
     "text": [
      "0.00020272966863897623"
     ]
    }
   ],
   "source": [
    "sum = 0\n",
    "for i in 1:n-1\n",
    "    sum += exp(-x_14[i+1])/(x_14[i]+10)\n",
    "end\n",
    "print(sum)"
   ]
  },
  {
   "cell_type": "markdown",
   "id": "1742d8cc-e813-4e88-879f-84f5a05ed043",
   "metadata": {},
   "source": [
    "выберите элементы вектора 𝑦, значения которых больше 600, и выведите на\n",
    "экран; определите индексы этих элементов;"
   ]
  },
  {
   "cell_type": "code",
   "execution_count": 224,
   "id": "afe8ef5a-9609-489a-b905-cf23bd0416a3",
   "metadata": {},
   "outputs": [
    {
     "name": "stdout",
     "output_type": "stream",
     "text": [
      "Значение: 605 Индек: 40\n",
      "Значение: 618 Индек: 43\n",
      "Значение: 966 Индек: 45\n",
      "Значение: 916 Индек: 47\n",
      "Значение: 936 Индек: 48\n",
      "Значение: 831 Индек: 51\n",
      "Значение: 931 Индек: 53\n",
      "Значение: 788 Индек: 56\n",
      "Значение: 604 Индек: 57\n",
      "Значение: 779 Индек: 59\n",
      "Значение: 818 Индек: 62\n",
      "Значение: 644 Индек: 65\n",
      "Значение: 873 Индек: 67\n",
      "Значение: 960 Индек: 69\n",
      "Значение: 914 Индек: 71\n",
      "Значение: 682 Индек: 74\n",
      "Значение: 967 Индек: 75\n",
      "Значение: 893 Индек: 79\n",
      "Значение: 720 Индек: 80\n",
      "Значение: 744 Индек: 81\n",
      "Значение: 973 Индек: 82\n",
      "Значение: 881 Индек: 83\n",
      "Значение: 943 Индек: 87\n",
      "Значение: 981 Индек: 89\n",
      "Значение: 967 Индек: 92\n",
      "Значение: 607 Индек: 94\n",
      "Значение: 657 Индек: 95\n",
      "Значение: 898 Индек: 97\n",
      "Значение: 914 Индек: 98\n",
      "Значение: 920 Индек: 102\n",
      "Значение: 887 Индек: 105\n",
      "Значение: 647 Индек: 106\n",
      "Значение: 666 Индек: 107\n",
      "Значение: 969 Индек: 108\n",
      "Значение: 744 Индек: 109\n",
      "Значение: 878 Индек: 110\n",
      "Значение: 980 Индек: 112\n",
      "Значение: 741 Индек: 115\n",
      "Значение: 670 Индек: 117\n",
      "Значение: 776 Индек: 121\n",
      "Значение: 762 Индек: 123\n",
      "Значение: 749 Индек: 124\n",
      "Значение: 901 Индек: 129\n",
      "Значение: 729 Индек: 133\n",
      "Значение: 793 Индек: 136\n",
      "Значение: 610 Индек: 137\n",
      "Значение: 813 Индек: 149\n",
      "Значение: 956 Индек: 150\n",
      "Значение: 610 Индек: 152\n",
      "Значение: 767 Индек: 154\n",
      "Значение: 918 Индек: 158\n",
      "Значение: 829 Индек: 159\n",
      "Значение: 717 Индек: 164\n",
      "Значение: 750 Индек: 165\n",
      "Значение: 713 Индек: 169\n",
      "Значение: 710 Индек: 170\n",
      "Значение: 829 Индек: 171\n",
      "Значение: 728 Индек: 172\n",
      "Значение: 644 Индек: 174\n",
      "Значение: 943 Индек: 175\n",
      "Значение: 726 Индек: 184\n",
      "Значение: 773 Индек: 186\n",
      "Значение: 660 Индек: 187\n",
      "Значение: 870 Индек: 189\n",
      "Значение: 977 Индек: 193\n",
      "Значение: 884 Индек: 197\n",
      "Значение: 930 Индек: 199\n",
      "Значение: 829 Индек: 207\n",
      "Значение: 832 Индек: 209\n",
      "Значение: 994 Индек: 211\n",
      "Значение: 930 Индек: 214\n",
      "Значение: 672 Индек: 215\n",
      "Значение: 884 Индек: 218\n",
      "Значение: 720 Индек: 219\n",
      "Значение: 779 Индек: 220\n",
      "Значение: 738 Индек: 222\n",
      "Значение: 893 Индек: 228\n",
      "Значение: 775 Индек: 229\n",
      "Значение: 917 Индек: 231\n",
      "Значение: 766 Индек: 232\n",
      "Значение: 973 Индек: 233\n",
      "Значение: 966 Индек: 237\n",
      "Значение: 676 Индек: 240\n",
      "Значение: 645 Индек: 243\n",
      "Значение: 943 Индек: 248\n",
      "Значение: 621 Индек: 250\n"
     ]
    }
   ],
   "source": [
    "for i in i:n\n",
    "    if y_14[i] > 600\n",
    "        println(\"Значение: \", y_14[i], \" Индек: $i\")\n",
    "    end\n",
    "end"
   ]
  },
  {
   "cell_type": "markdown",
   "id": "c79aae07-49be-425c-a310-381bdc6f5f8e",
   "metadata": {},
   "source": [
    "определите значения вектора 𝑥, соответствующие значениям вектора 𝑦, значения которых больше 600 (под соответствием понимается расположение на\n",
    "аналогичных индексных позициях);"
   ]
  },
  {
   "cell_type": "code",
   "execution_count": 226,
   "id": "63d558db-d244-4d58-abbf-9155e3211a63",
   "metadata": {},
   "outputs": [
    {
     "name": "stdout",
     "output_type": "stream",
     "text": [
      "713\n",
      "972\n",
      "744\n",
      "643\n",
      "884\n",
      "972\n",
      "868\n",
      "668\n",
      "742\n",
      "771\n",
      "710\n",
      "868\n",
      "777\n",
      "693\n",
      "882\n",
      "868\n",
      "727\n",
      "924\n",
      "831\n",
      "803\n",
      "639\n",
      "920\n",
      "784\n",
      "868\n",
      "663\n",
      "806\n",
      "767\n",
      "821\n",
      "727\n",
      "703\n",
      "841\n",
      "949\n",
      "859\n",
      "937\n",
      "650\n",
      "979\n",
      "910\n",
      "688\n",
      "652\n",
      "985\n"
     ]
    }
   ],
   "source": [
    "for i in i:n\n",
    "    if x_14[i] > 600 && y_14[i] > 600\n",
    "        println(x_14[i])\n",
    "    end\n",
    "end"
   ]
  },
  {
   "cell_type": "markdown",
   "id": "ee0cbf98-cb6d-4c44-a82f-3cc9e47b08dc",
   "metadata": {},
   "source": [
    "сформируйте вектор"
   ]
  },
  {
   "cell_type": "code",
   "execution_count": 228,
   "id": "dcc6dbf0-fe19-4284-9be8-2e05cdcc49a4",
   "metadata": {},
   "outputs": [
    {
     "data": {
      "text/plain": [
       "212-element Vector{Float64}:\n",
       " 17.622599127257025\n",
       " 13.731569466015166\n",
       " 10.979799633873109\n",
       "  5.343781432656097\n",
       " 21.155519374385495\n",
       " 19.405050888879423\n",
       "  5.517608177462401\n",
       " 15.081246632821836\n",
       "  5.249380915879514\n",
       " 14.817422177963346\n",
       "  9.775274932195003\n",
       " 13.432944576674169\n",
       " 10.888342389914088\n",
       "  ⋮\n",
       " 14.918310896344801\n",
       "  6.960172411657628\n",
       " 14.406803948135064\n",
       " 21.037014997380215\n",
       " 10.317170154649965\n",
       " 17.760743227691794\n",
       " 14.64390658260288\n",
       "  4.853452379492359\n",
       " 15.509867826645076\n",
       " 21.46056849200412\n",
       " 21.507115101751793\n",
       " 11.065441699272558"
      ]
     },
     "execution_count": 228,
     "metadata": {},
     "output_type": "execute_result"
    }
   ],
   "source": [
    "sum = 0\n",
    "for i in 1:n\n",
    "    sum += x_14[i]\n",
    "end\n",
    "med = sum/n\n",
    "v = [(abs(x_14[i] - med))^(1/2) for i in i:n]"
   ]
  },
  {
   "cell_type": "markdown",
   "id": "8f0c18ff-42fd-4b3b-b5d7-af691ffd44b3",
   "metadata": {},
   "source": [
    "определите, сколько элементов вектора 𝑦 отстоят от максимального значения не\n",
    "более, чем на 200;"
   ]
  },
  {
   "cell_type": "code",
   "execution_count": 231,
   "id": "69b9c2a2-8be5-4377-8515-7bf79046e0a7",
   "metadata": {},
   "outputs": [
    {
     "name": "stdout",
     "output_type": "stream",
     "text": [
      "250"
     ]
    }
   ],
   "source": [
    "count = 0\n",
    "max = maximum(y_14[i])\n",
    "for i in 1:n\n",
    "    if max - y_14[i] <= 200\n",
    "        count += 1\n",
    "    end\n",
    "end\n",
    "print(count)"
   ]
  },
  {
   "cell_type": "markdown",
   "id": "1e3eac07-60ed-4da2-9fbd-60f429b52edf",
   "metadata": {},
   "source": [
    "– определите, сколько чётных и нечётных элементов вектора 𝑥;"
   ]
  },
  {
   "cell_type": "code",
   "execution_count": 233,
   "id": "0cb6ff64-75c6-41c4-95a2-7fe264b4183c",
   "metadata": {},
   "outputs": [
    {
     "name": "stdout",
     "output_type": "stream",
     "text": [
      "Четных: 125\n",
      "Нечетных: 125\n"
     ]
    }
   ],
   "source": [
    "count_chet = 0\n",
    "count_nechet = 0\n",
    "for i in 1:n \n",
    "    if x_14[i] %2 == 0\n",
    "        count_chet += 1\n",
    "    end\n",
    "    if x_14[i] %2 == 1\n",
    "        count_nechet += 1\n",
    "    end\n",
    "end\n",
    "println(\"Четных: \", count_chet)\n",
    "println(\"Нечетных: \", count_nechet)"
   ]
  },
  {
   "cell_type": "markdown",
   "id": "be8d3fa8-6285-41bf-b9e3-d433755b1d4f",
   "metadata": {},
   "source": [
    "определите, сколько элементов вектора 𝑥 кратны 7"
   ]
  },
  {
   "cell_type": "code",
   "execution_count": 234,
   "id": "f078fb5c-426a-4aba-9138-da8624ec43ac",
   "metadata": {},
   "outputs": [
    {
     "name": "stdout",
     "output_type": "stream",
     "text": [
      "Кратных семи: 33\n"
     ]
    }
   ],
   "source": [
    "sev_count = 0\n",
    "for i in 1:n \n",
    "    if x_14[i] %7 == 0\n",
    "        sev_count += 1\n",
    "    end\n",
    "end\n",
    "println(\"Кратных семи: \", sev_count)"
   ]
  },
  {
   "cell_type": "markdown",
   "id": "2a9418ca-e2bf-4288-a0d4-9ee61cf34d03",
   "metadata": {},
   "source": [
    "– отсортируйте элементы вектора 𝑥 в порядке возрастания элементов вектора 𝑦;"
   ]
  },
  {
   "cell_type": "markdown",
   "id": "44197d45-a9fd-418d-ac75-2b136f6ee27e",
   "metadata": {},
   "source": [
    "– выведите элементы вектора 𝑥, которые входят в десятку наибольших (top-10)?"
   ]
  },
  {
   "cell_type": "code",
   "execution_count": 238,
   "id": "bee7546d-6587-4149-bd4b-3950d4c30b85",
   "metadata": {},
   "outputs": [
    {
     "name": "stdout",
     "output_type": "stream",
     "text": [
      "[992, 990, 987, 985, 985, 979, 979, 974, 973, 972]"
     ]
    }
   ],
   "source": [
    "sorted_x = sort!(x_14, rev = true)\n",
    "print(sorted_x[1:10])"
   ]
  },
  {
   "cell_type": "markdown",
   "id": "9034a71c-aa2b-40bf-b6de-1e500bf1efc0",
   "metadata": {},
   "source": [
    "сформируйте вектор, содержащий только уникальные (неповторяющиеся) элементы вектора x"
   ]
  },
  {
   "cell_type": "code",
   "execution_count": 239,
   "id": "1cf889e0-ba37-4733-ad19-06bc5d09a06d",
   "metadata": {},
   "outputs": [
    {
     "name": "stdout",
     "output_type": "stream",
     "text": [
      "[992, 990, 987, 985, 979, 974, 973, 972, 967, 965, 949, 937, 930, 924, 920, 918, 916, 910, 901, 892, 887, 884, 882, 872, 871, 868, 864, 859, 841, 836, 835, 833, 831, 823, 821, 820, 808, 806, 803, 784, 783, 777, 776, 771, 769, 767, 765, 761, 760, 747, 744, 743, 742, 739, 736, 732, 730, 728, 727, 720, 713, 710, 703, 701, 696, 693, 688, 683, 680, 677, 668, 664, 663, 654, 652, 650, 645, 644, 643, 639, 632, 629, 620, 617, 604, 598, 594, 593, 591, 590, 586, 583, 581, 579, 570, 569, 568, 564, 563, 562, 558, 554, 553, 552, 548, 545, 541, 538, 537, 523, 516, 515, 505, 499, 498, 495, 494, 491, 490, 489, 488, 485, 482, 476, 475, 474, 469, 468, 444, 441, 437, 435, 432, 418, 414, 405, 402, 398, 378, 360, 356, 352, 349, 347, 346, 344, 343, 342, 334, 329, 328, 327, 326, 324, 318, 314, 310, 305, 303, 297, 291, 288, 279, 274, 270, 266, 258, 252, 251, 249, 246, 235, 234, 229, 224, 219, 215, 209, 208, 207, 202, 200, 195, 193, 190, 183, 179, 152, 149, 145, 144, 142, 128, 123, 120, 118, 116, 110, 101, 90, 89, 78, 75, 71, 69, 67, 65, 64, 63, 61, 60, 47, 29, 19, 18, 16, 11, 5, 4, 3]"
     ]
    }
   ],
   "source": [
    "uniq_x = unique(x_14)\n",
    "print(uniq_x)"
   ]
  },
  {
   "cell_type": "markdown",
   "id": "6ab85405-23dc-4b8a-be56-0d814209dbb2",
   "metadata": {},
   "source": [
    "4. Создайте массив squares, в котором будут храниться квадраты всех целых чисел от 1\n",
    "до 100"
   ]
  },
  {
   "cell_type": "code",
   "execution_count": 240,
   "id": "da1e19b3-ace5-4d3c-9954-5e75a01fb462",
   "metadata": {},
   "outputs": [
    {
     "data": {
      "text/plain": [
       "100-element Vector{Int64}:\n",
       "     1\n",
       "     4\n",
       "     9\n",
       "    16\n",
       "    25\n",
       "    36\n",
       "    49\n",
       "    64\n",
       "    81\n",
       "   100\n",
       "   121\n",
       "   144\n",
       "   169\n",
       "     ⋮\n",
       "  7921\n",
       "  8100\n",
       "  8281\n",
       "  8464\n",
       "  8649\n",
       "  8836\n",
       "  9025\n",
       "  9216\n",
       "  9409\n",
       "  9604\n",
       "  9801\n",
       " 10000"
      ]
     },
     "execution_count": 240,
     "metadata": {},
     "output_type": "execute_result"
    }
   ],
   "source": [
    "squares = [i^2 for i in 1:100]"
   ]
  },
  {
   "cell_type": "markdown",
   "id": "f1580f3c-c3fc-49b0-bbc7-ca014f3ac6de",
   "metadata": {},
   "source": [
    ". Подключите пакет Primes (функции для вычисления простых чисел). Сгенерируйте\n",
    "массив myprimes, в котором будут храниться первые 168 простых чисел. Определите\n",
    "89-е наименьшее простое число. Получите срез массива с 89-го до 99-го элемента\n",
    "включительно, содержащий наименьшие простые числа."
   ]
  },
  {
   "cell_type": "code",
   "execution_count": 242,
   "id": "740c9bff-27af-43e0-933f-c25f630e1eb8",
   "metadata": {},
   "outputs": [
    {
     "name": "stdout",
     "output_type": "stream",
     "text": [
      "168"
     ]
    }
   ],
   "source": [
    "using Primes\n",
    "myprimes = primes(1000)\n",
    "print(length(myprimes))"
   ]
  },
  {
   "cell_type": "code",
   "execution_count": 243,
   "id": "42695a3a-0964-44a6-a7c7-028b1bdae557",
   "metadata": {},
   "outputs": [
    {
     "name": "stdout",
     "output_type": "stream",
     "text": [
      "461"
     ]
    }
   ],
   "source": [
    "print(myprimes[89])"
   ]
  },
  {
   "cell_type": "code",
   "execution_count": 244,
   "id": "9b919fc9-e641-442a-8245-39fe263b5b89",
   "metadata": {},
   "outputs": [
    {
     "name": "stdout",
     "output_type": "stream",
     "text": [
      "[461, 463, 467, 479, 487, 491, 499, 503, 509, 521, 523]"
     ]
    }
   ],
   "source": [
    "print(myprimes[89:99])"
   ]
  },
  {
   "cell_type": "markdown",
   "id": "bb7d78b6-15dd-439e-aa55-4a9219780f00",
   "metadata": {},
   "source": [
    "6. Вычислите следующие выражения:"
   ]
  },
  {
   "cell_type": "code",
   "execution_count": 250,
   "id": "4ca0f998-ef3f-4ac0-9877-c10ebbb41b63",
   "metadata": {},
   "outputs": [
    {
     "name": "stdout",
     "output_type": "stream",
     "text": [
      "26852735"
     ]
    }
   ],
   "source": [
    "sum = 0\n",
    "for i in 10:100\n",
    "    sum += i^3 + 4i^2\n",
    "end\n",
    "print(sum)"
   ]
  },
  {
   "cell_type": "code",
   "execution_count": 251,
   "id": "1de210cb-47b7-4fea-8da2-6bdda4c7fae7",
   "metadata": {},
   "outputs": [
    {
     "name": "stdout",
     "output_type": "stream",
     "text": [
      "2.1291704368143802e9"
     ]
    }
   ],
   "source": [
    "M = 25\n",
    "sum = 0\n",
    "for i in 1:M\n",
    "    sum += (2^i)/i + (3^i)/i^2\n",
    "end\n",
    "print(sum)"
   ]
  },
  {
   "cell_type": "code",
   "execution_count": 254,
   "id": "ef0e75dd-8359-460b-81a2-1be6f8e3dc5c",
   "metadata": {},
   "outputs": [
    {
     "name": "stdout",
     "output_type": "stream",
     "text": [
      "6.97634613789762"
     ]
    }
   ],
   "source": [
    "k = 1\n",
    "sum = 1\n",
    "for i in 1:2:37\n",
    "    k = k*(i+1)/(i+2) \n",
    "    sum += k\n",
    "end\n",
    "print(sum)"
   ]
  },
  {
   "cell_type": "code",
   "execution_count": null,
   "id": "5ec350f4-bb82-4f58-bfe4-d5f86674a9a3",
   "metadata": {},
   "outputs": [],
   "source": []
  }
 ],
 "metadata": {
  "kernelspec": {
   "display_name": "Julia 1.6.2",
   "language": "julia",
   "name": "julia-1.6"
  },
  "language_info": {
   "file_extension": ".jl",
   "mimetype": "application/julia",
   "name": "julia",
   "version": "1.6.2"
  }
 },
 "nbformat": 4,
 "nbformat_minor": 5
}
