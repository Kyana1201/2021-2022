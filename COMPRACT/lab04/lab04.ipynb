{
 "cells": [
  {
   "cell_type": "markdown",
   "id": "071dfc59-7db4-4002-adb8-f449b261c75c",
   "metadata": {},
   "source": [
    "# Лабораторная работа №4"
   ]
  },
  {
   "cell_type": "markdown",
   "id": "70d0069c-e665-4b63-81b4-05813b788ac5",
   "metadata": {},
   "source": [
    "## Линейная алгебра"
   ]
  },
  {
   "cell_type": "markdown",
   "id": "6e51db40-f442-4770-b9b3-26cfa0c76179",
   "metadata": {},
   "source": [
    "### Предварительные сведения"
   ]
  },
  {
   "cell_type": "markdown",
   "id": "39b6d699-3744-4875-8d0b-1068ff3d2582",
   "metadata": {},
   "source": [
    "### 1. Поэлементные операции над многомерными массивами"
   ]
  },
  {
   "cell_type": "markdown",
   "id": "532437b1-e678-4bd1-a1a2-8658e459fd08",
   "metadata": {},
   "source": [
    "Для матрицы 4 × 3 рассмотрим поэлементные операции сложения и произведения её\n",
    "элементов:"
   ]
  },
  {
   "cell_type": "code",
   "execution_count": 58,
   "id": "949aee96-833d-42d6-a32b-455a055215d5",
   "metadata": {},
   "outputs": [
    {
     "data": {
      "text/plain": [
       "4×3 Matrix{Int64}:\n",
       " 14   3   8\n",
       "  9  14   8\n",
       "  3  10  13\n",
       " 13   7   5"
      ]
     },
     "execution_count": 58,
     "metadata": {},
     "output_type": "execute_result"
    }
   ],
   "source": [
    "# Массив 4x3 со случайными целыми числами (от 1 до 20):\n",
    "a = rand(1:20,(4,3))"
   ]
  },
  {
   "cell_type": "markdown",
   "id": "64a9e813-fa12-4404-99ab-3c8976fb4ef4",
   "metadata": {},
   "source": [
    "Операции"
   ]
  },
  {
   "cell_type": "code",
   "execution_count": 59,
   "id": "d880c673-d9d4-4b6b-8263-26169b207162",
   "metadata": {},
   "outputs": [
    {
     "data": {
      "text/plain": [
       "107"
      ]
     },
     "execution_count": 59,
     "metadata": {},
     "output_type": "execute_result"
    }
   ],
   "source": [
    "# Поэлементная сумма:\n",
    "sum(a)"
   ]
  },
  {
   "cell_type": "code",
   "execution_count": 60,
   "id": "fe1cdac8-9dfc-4603-8989-7896643c90da",
   "metadata": {},
   "outputs": [
    {
     "data": {
      "text/plain": [
       "1×3 Matrix{Int64}:\n",
       " 39  34  34"
      ]
     },
     "execution_count": 60,
     "metadata": {},
     "output_type": "execute_result"
    }
   ],
   "source": [
    "# Поэлементная сумма по столбцам:\n",
    "sum(a,dims=1)"
   ]
  },
  {
   "cell_type": "code",
   "execution_count": 61,
   "id": "13044ab0-61be-4dc8-b8c7-78b14d5be882",
   "metadata": {},
   "outputs": [
    {
     "data": {
      "text/plain": [
       "4×1 Matrix{Int64}:\n",
       " 25\n",
       " 31\n",
       " 26\n",
       " 25"
      ]
     },
     "execution_count": 61,
     "metadata": {},
     "output_type": "execute_result"
    }
   ],
   "source": [
    "# Поэлементная сумма по строкам:\n",
    "sum(a,dims=2)"
   ]
  },
  {
   "cell_type": "code",
   "execution_count": 62,
   "id": "f84ae2b3-494d-4b9a-9da6-bd088829191e",
   "metadata": {},
   "outputs": [
    {
     "data": {
      "text/plain": [
       "60100185600"
      ]
     },
     "execution_count": 62,
     "metadata": {},
     "output_type": "execute_result"
    }
   ],
   "source": [
    "# Поэлементное произведение:\n",
    "prod(a)"
   ]
  },
  {
   "cell_type": "code",
   "execution_count": 63,
   "id": "85f7d8b4-7662-49d6-865c-3c4ae51a9a2f",
   "metadata": {},
   "outputs": [
    {
     "data": {
      "text/plain": [
       "1×3 Matrix{Int64}:\n",
       " 4914  2940  4160"
      ]
     },
     "execution_count": 63,
     "metadata": {},
     "output_type": "execute_result"
    }
   ],
   "source": [
    "# Поэлементное произведение по столбцам:\n",
    "prod(a,dims=1)"
   ]
  },
  {
   "cell_type": "code",
   "execution_count": 64,
   "id": "f3911262-c8b9-4e0b-83f6-0704ef139a6a",
   "metadata": {},
   "outputs": [
    {
     "data": {
      "text/plain": [
       "4×1 Matrix{Int64}:\n",
       "  336\n",
       " 1008\n",
       "  390\n",
       "  455"
      ]
     },
     "execution_count": 64,
     "metadata": {},
     "output_type": "execute_result"
    }
   ],
   "source": [
    "# Поэлементное произведение по строкам:\n",
    "prod(a,dims=2)"
   ]
  },
  {
   "cell_type": "markdown",
   "id": "b1c7946f-2768-4af9-9221-3cd8965bee57",
   "metadata": {},
   "source": [
    "Для работы со средними значениями можно воспользоваться возможностями пакета Statistics:"
   ]
  },
  {
   "cell_type": "code",
   "execution_count": 65,
   "id": "00ba3763-fc3e-4945-8330-e3c39ebe0eb4",
   "metadata": {},
   "outputs": [
    {
     "name": "stderr",
     "output_type": "stream",
     "text": [
      "\u001b[32m\u001b[1m   Resolving\u001b[22m\u001b[39m package versions...\n",
      "\u001b[32m\u001b[1m  No Changes\u001b[22m\u001b[39m to `C:\\Users\\khokh\\.julia\\environments\\v1.6\\Project.toml`\n",
      "\u001b[32m\u001b[1m  No Changes\u001b[22m\u001b[39m to `C:\\Users\\khokh\\.julia\\environments\\v1.6\\Manifest.toml`\n"
     ]
    }
   ],
   "source": [
    "# Подключение пакета Statistics:\n",
    "import Pkg\n",
    "Pkg.add(\"Statistics\")\n",
    "using Statistics"
   ]
  },
  {
   "cell_type": "code",
   "execution_count": 66,
   "id": "4a7c3b68-6a35-4aea-81a6-5aaa9fda6cfd",
   "metadata": {},
   "outputs": [
    {
     "data": {
      "text/plain": [
       "8.916666666666666"
      ]
     },
     "execution_count": 66,
     "metadata": {},
     "output_type": "execute_result"
    }
   ],
   "source": [
    "# Вычисление среднего значения массива:\n",
    "mean(a)"
   ]
  },
  {
   "cell_type": "code",
   "execution_count": 67,
   "id": "440852e3-5a8d-4556-b9ae-f2fb4ac1f855",
   "metadata": {},
   "outputs": [
    {
     "data": {
      "text/plain": [
       "1×3 Matrix{Float64}:\n",
       " 9.75  8.5  8.5"
      ]
     },
     "execution_count": 67,
     "metadata": {},
     "output_type": "execute_result"
    }
   ],
   "source": [
    "# Среднее по столбцам:\n",
    "mean(a, dims=1)"
   ]
  },
  {
   "cell_type": "code",
   "execution_count": 68,
   "id": "6542935a-87f3-467c-b90c-9ae167d61007",
   "metadata": {},
   "outputs": [
    {
     "data": {
      "text/plain": [
       "4×1 Matrix{Float64}:\n",
       "  8.333333333333334\n",
       " 10.333333333333334\n",
       "  8.666666666666666\n",
       "  8.333333333333334"
      ]
     },
     "execution_count": 68,
     "metadata": {},
     "output_type": "execute_result"
    }
   ],
   "source": [
    "# Среднее по строкам:\n",
    "mean(a,dims=2)"
   ]
  },
  {
   "cell_type": "markdown",
   "id": "cbf93a86-2302-4474-98e8-edfb21e8c094",
   "metadata": {},
   "source": [
    "### 2. Транспонирование, след, ранг, определитель и инверсия матрицы"
   ]
  },
  {
   "cell_type": "markdown",
   "id": "816b3a67-2516-4052-8017-8787641cdfe0",
   "metadata": {},
   "source": [
    "Для выполнения таких операций над матрицами, как транспонирование, диагонализация, определение следа, ранга, определителя матрицы и т.п. можно воспользоваться библиотекой (пакетом) LinearAlgebra:"
   ]
  },
  {
   "cell_type": "code",
   "execution_count": 1,
   "id": "85270a72-2154-4d02-932b-80e7542ec58e",
   "metadata": {},
   "outputs": [
    {
     "name": "stderr",
     "output_type": "stream",
     "text": [
      "\u001b[32m\u001b[1m    Updating\u001b[22m\u001b[39m registry at `C:\\Users\\khokh\\.julia\\registries\\General`\n",
      "\u001b[32m\u001b[1m    Updating\u001b[22m\u001b[39m git-repo `https://github.com/JuliaRegistries/General.git`\n",
      "\u001b[32m\u001b[1m   Resolving\u001b[22m\u001b[39m package versions...\n",
      "\u001b[32m\u001b[1m  No Changes\u001b[22m\u001b[39m to `C:\\Users\\khokh\\.julia\\environments\\v1.6\\Project.toml`\n",
      "\u001b[32m\u001b[1m  No Changes\u001b[22m\u001b[39m to `C:\\Users\\khokh\\.julia\\environments\\v1.6\\Manifest.toml`\n"
     ]
    }
   ],
   "source": [
    "# Подключение пакета LinearAlgebra:\n",
    "import Pkg\n",
    "Pkg.add(\"LinearAlgebra\")\n",
    "using LinearAlgebra"
   ]
  },
  {
   "cell_type": "code",
   "execution_count": 70,
   "id": "e8843b17-3e30-4e4f-9250-da7555fe67e8",
   "metadata": {},
   "outputs": [
    {
     "data": {
      "text/plain": [
       "4×4 Matrix{Int64}:\n",
       "  6  10   9  20\n",
       " 17  16  15  17\n",
       "  9   9  11   5\n",
       " 16   8   9   1"
      ]
     },
     "execution_count": 70,
     "metadata": {},
     "output_type": "execute_result"
    }
   ],
   "source": [
    "# Массив 4x4 со случайными целыми числами (от 1 до 20):\n",
    "b = rand(1:20,(4,4))"
   ]
  },
  {
   "cell_type": "code",
   "execution_count": 71,
   "id": "616f6810-8e2f-4095-97e8-0a457fd0fa38",
   "metadata": {},
   "outputs": [
    {
     "data": {
      "text/plain": [
       "4×4 transpose(::Matrix{Int64}) with eltype Int64:\n",
       "  6  17   9  16\n",
       " 10  16   9   8\n",
       "  9  15  11   9\n",
       " 20  17   5   1"
      ]
     },
     "execution_count": 71,
     "metadata": {},
     "output_type": "execute_result"
    }
   ],
   "source": [
    "# Транспонирование:\n",
    "transpose(b)"
   ]
  },
  {
   "cell_type": "code",
   "execution_count": 72,
   "id": "d0a90119-8e98-42a5-a802-324808580481",
   "metadata": {},
   "outputs": [
    {
     "data": {
      "text/plain": [
       "34"
      ]
     },
     "execution_count": 72,
     "metadata": {},
     "output_type": "execute_result"
    }
   ],
   "source": [
    "# След матрицы (сумма диагональных элементов):\n",
    "tr(b)"
   ]
  },
  {
   "cell_type": "code",
   "execution_count": 73,
   "id": "71dd9835-3ab5-450c-9bcc-1375634f1c7b",
   "metadata": {},
   "outputs": [
    {
     "data": {
      "text/plain": [
       "4-element Vector{Int64}:\n",
       "  6\n",
       " 16\n",
       " 11\n",
       "  1"
      ]
     },
     "execution_count": 73,
     "metadata": {},
     "output_type": "execute_result"
    }
   ],
   "source": [
    "# Извлечение диагональных элементов как массив:\n",
    "diag(b)"
   ]
  },
  {
   "cell_type": "code",
   "execution_count": 74,
   "id": "59f4cd2f-579d-475a-8c87-ce78e1c13a25",
   "metadata": {},
   "outputs": [
    {
     "data": {
      "text/plain": [
       "4"
      ]
     },
     "execution_count": 74,
     "metadata": {},
     "output_type": "execute_result"
    }
   ],
   "source": [
    "# Ранг матрицы:\n",
    "rank(b)"
   ]
  },
  {
   "cell_type": "code",
   "execution_count": 75,
   "id": "6161e8cb-7ce9-4fb1-bf92-749271f73260",
   "metadata": {},
   "outputs": [
    {
     "data": {
      "text/plain": [
       "4×4 Matrix{Float64}:\n",
       "  0.10628   -0.10789   -0.0966184   0.191626\n",
       " -0.605475   0.786366  -0.146538   -0.526033\n",
       "  0.330113  -0.49168    0.305958    0.226516\n",
       "  0.172303  -0.13956   -0.0354267   0.103596"
      ]
     },
     "execution_count": 75,
     "metadata": {},
     "output_type": "execute_result"
    }
   ],
   "source": [
    "# Инверсия матрицы (определение обратной матрицы):\n",
    "inv(b)"
   ]
  },
  {
   "cell_type": "code",
   "execution_count": 76,
   "id": "080e19da-c7ab-40d6-bf55-0a0f4e7f8ff7",
   "metadata": {},
   "outputs": [
    {
     "data": {
      "text/plain": [
       "-1863.0000000000011"
      ]
     },
     "execution_count": 76,
     "metadata": {},
     "output_type": "execute_result"
    }
   ],
   "source": [
    "# Определитель матрицы:\n",
    "det(b)"
   ]
  },
  {
   "cell_type": "code",
   "execution_count": 77,
   "id": "ad163755-9559-423d-8638-3407806887f0",
   "metadata": {},
   "outputs": [
    {
     "data": {
      "text/plain": [
       "3×4 Matrix{Float64}:\n",
       "  0.0419978   0.00035606  -0.0418762   0.041112\n",
       " -0.0730973   0.0896965   -0.0182259   0.0208285\n",
       "  0.0556116  -0.0593205    0.0948644  -0.0407131"
      ]
     },
     "execution_count": 77,
     "metadata": {},
     "output_type": "execute_result"
    }
   ],
   "source": [
    "# Псевдобратная функция для прямоугольных матриц:\n",
    "pinv(a)"
   ]
  },
  {
   "cell_type": "markdown",
   "id": "a22fffb4-b5ce-4ac3-8f1f-edd7f99ce172",
   "metadata": {},
   "source": [
    "### 3. Вычисление нормы векторов и матриц, повороты, вращения"
   ]
  },
  {
   "cell_type": "markdown",
   "id": "6680b739-c358-4ed1-8bd2-92ac295436b8",
   "metadata": {},
   "source": [
    "Для вычисления нормы используется LinearAlgebra.norm(x).\\\n",
    "Евклидова норма и p-норма"
   ]
  },
  {
   "cell_type": "code",
   "execution_count": 78,
   "id": "1024e778-d505-4416-a39f-01612ebae02e",
   "metadata": {},
   "outputs": [
    {
     "data": {
      "text/plain": [
       "3-element Vector{Int64}:\n",
       "  2\n",
       "  4\n",
       " -5"
      ]
     },
     "execution_count": 78,
     "metadata": {},
     "output_type": "execute_result"
    }
   ],
   "source": [
    "# Создание вектора X:\n",
    "X = [2, 4, -5]"
   ]
  },
  {
   "cell_type": "code",
   "execution_count": 79,
   "id": "ff488d6b-921c-4459-87c6-823c9e6db29e",
   "metadata": {},
   "outputs": [
    {
     "data": {
      "text/plain": [
       "6.708203932499369"
      ]
     },
     "execution_count": 79,
     "metadata": {},
     "output_type": "execute_result"
    }
   ],
   "source": [
    "# Вычисление евклидовой нормы:\n",
    "norm(X)"
   ]
  },
  {
   "cell_type": "code",
   "execution_count": 80,
   "id": "a9d4b12c-7294-4cda-8722-87d813b1b366",
   "metadata": {},
   "outputs": [
    {
     "data": {
      "text/plain": [
       "11.0"
      ]
     },
     "execution_count": 80,
     "metadata": {},
     "output_type": "execute_result"
    }
   ],
   "source": [
    "# Вычисление p-нормы:\n",
    "p = 1\n",
    "norm(X, p)"
   ]
  },
  {
   "cell_type": "markdown",
   "id": "d0c58868-e0f4-494f-83a7-21730f3c94af",
   "metadata": {},
   "source": [
    "Евклидово расстояние между двумя векторами X и Y определяется как"
   ]
  },
  {
   "cell_type": "code",
   "execution_count": 81,
   "id": "96520db3-c528-404b-b29a-49b588940907",
   "metadata": {},
   "outputs": [
    {
     "data": {
      "text/plain": [
       "9.486832980505138"
      ]
     },
     "execution_count": 81,
     "metadata": {},
     "output_type": "execute_result"
    }
   ],
   "source": [
    "# Расстояние между двумя векторами X и Y:\n",
    "X = [2, 4, -5]\n",
    "Y = [1, -1, 3]\n",
    "norm(X-Y)"
   ]
  },
  {
   "cell_type": "code",
   "execution_count": 82,
   "id": "8a3cb7e8-15d2-4342-80d3-88e8304dbb27",
   "metadata": {},
   "outputs": [
    {
     "data": {
      "text/plain": [
       "9.486832980505138"
      ]
     },
     "execution_count": 82,
     "metadata": {},
     "output_type": "execute_result"
    }
   ],
   "source": [
    "# Проверка по базовому определению:\n",
    "sqrt(sum((X-Y).^2))"
   ]
  },
  {
   "cell_type": "markdown",
   "id": "60ac5b34-260f-4dee-b6ce-10df7162479a",
   "metadata": {},
   "source": [
    "Угол между двумя векторами X и Y определяется как"
   ]
  },
  {
   "cell_type": "code",
   "execution_count": 83,
   "id": "0b3436d1-ac9e-4cc0-be4c-ccc846689f5f",
   "metadata": {},
   "outputs": [
    {
     "data": {
      "text/plain": [
       "2.4404307889469252"
      ]
     },
     "execution_count": 83,
     "metadata": {},
     "output_type": "execute_result"
    }
   ],
   "source": [
    "# Угол между двумя векторами:\n",
    "acos((transpose(X)*Y)/(norm(X)*norm(Y)))"
   ]
  },
  {
   "cell_type": "markdown",
   "id": "c853beb7-ce36-4f1f-a3b0-3aeab9b20fc3",
   "metadata": {},
   "source": [
    "Вычисление нормы для двумерной матрицы"
   ]
  },
  {
   "cell_type": "code",
   "execution_count": 84,
   "id": "483617b7-17f3-40ed-b70e-41eea6d6b150",
   "metadata": {},
   "outputs": [
    {
     "data": {
      "text/plain": [
       "3×3 Matrix{Int64}:\n",
       "  5  -4  2\n",
       " -1   2  3\n",
       " -2   1  0"
      ]
     },
     "execution_count": 84,
     "metadata": {},
     "output_type": "execute_result"
    }
   ],
   "source": [
    "# Создание матрицы:\n",
    "d = [5 -4 2 ; -1 2 3; -2 1 0]"
   ]
  },
  {
   "cell_type": "code",
   "execution_count": 85,
   "id": "abc9a2b9-6b31-4e42-8bfa-f54cca20f2b1",
   "metadata": {},
   "outputs": [
    {
     "data": {
      "text/plain": [
       "7.147682841795258"
      ]
     },
     "execution_count": 85,
     "metadata": {},
     "output_type": "execute_result"
    }
   ],
   "source": [
    "# Вычисление Евклидовой нормы:\n",
    "opnorm(d)"
   ]
  },
  {
   "cell_type": "code",
   "execution_count": 86,
   "id": "e36d4db0-e7f1-4465-9a63-92da26e70863",
   "metadata": {},
   "outputs": [
    {
     "data": {
      "text/plain": [
       "8.0"
      ]
     },
     "execution_count": 86,
     "metadata": {},
     "output_type": "execute_result"
    }
   ],
   "source": [
    "# Вычисление p-нормы:\n",
    "p=1\n",
    "opnorm(d,p)"
   ]
  },
  {
   "cell_type": "code",
   "execution_count": 87,
   "id": "7cb9fa1a-2650-4690-9e82-8eb7e3426026",
   "metadata": {},
   "outputs": [
    {
     "data": {
      "text/plain": [
       "3×3 Matrix{Int64}:\n",
       " 0   1  -2\n",
       " 3   2  -1\n",
       " 2  -4   5"
      ]
     },
     "execution_count": 87,
     "metadata": {},
     "output_type": "execute_result"
    }
   ],
   "source": [
    "# Поворот на 180 градусов:\n",
    "rot180(d)"
   ]
  },
  {
   "cell_type": "code",
   "execution_count": 88,
   "id": "99d36620-6be0-4f52-8bed-4200748dd1fd",
   "metadata": {},
   "outputs": [
    {
     "data": {
      "text/plain": [
       "3×3 Matrix{Int64}:\n",
       " -2   1  0\n",
       " -1   2  3\n",
       "  5  -4  2"
      ]
     },
     "execution_count": 88,
     "metadata": {},
     "output_type": "execute_result"
    }
   ],
   "source": [
    "# Переворачивание строк:\n",
    "reverse(d,dims=1)"
   ]
  },
  {
   "cell_type": "code",
   "execution_count": 89,
   "id": "ec7580b3-edfc-4ca0-8627-ba2ffa62c8d2",
   "metadata": {},
   "outputs": [
    {
     "data": {
      "text/plain": [
       "3×3 Matrix{Int64}:\n",
       " 2  -4   5\n",
       " 3   2  -1\n",
       " 0   1  -2"
      ]
     },
     "execution_count": 89,
     "metadata": {},
     "output_type": "execute_result"
    }
   ],
   "source": [
    "# Переворачивание столбцов\n",
    "reverse(d,dims=2)"
   ]
  },
  {
   "cell_type": "markdown",
   "id": "4352f2b0-a627-41a5-8b0a-73e9e5dbeb87",
   "metadata": {},
   "source": [
    "### 4. Матричное умножение, единичная матрица, скалярное произведение"
   ]
  },
  {
   "cell_type": "code",
   "execution_count": 90,
   "id": "dbe986cb-baf7-4175-9637-5392e79688c8",
   "metadata": {},
   "outputs": [
    {
     "data": {
      "text/plain": [
       "2×3 Matrix{Int64}:\n",
       " 6  7  9\n",
       " 2  4  1"
      ]
     },
     "execution_count": 90,
     "metadata": {},
     "output_type": "execute_result"
    }
   ],
   "source": [
    "# Матрица 2x3 со случайными целыми значениями от 1 до 10:\n",
    "A = rand(1:10,(2,3))"
   ]
  },
  {
   "cell_type": "code",
   "execution_count": 91,
   "id": "9963a2b5-bc14-4b7e-8e7e-0a674842543f",
   "metadata": {},
   "outputs": [
    {
     "data": {
      "text/plain": [
       "3×4 Matrix{Int64}:\n",
       " 3  3  9  3\n",
       " 5  7  6  8\n",
       " 8  4  1  1"
      ]
     },
     "execution_count": 91,
     "metadata": {},
     "output_type": "execute_result"
    }
   ],
   "source": [
    "# Матрица 3x4 со случайными целыми значениями от 1 до 10:\n",
    "B = rand(1:10,(3,4))"
   ]
  },
  {
   "cell_type": "code",
   "execution_count": 92,
   "id": "ee7e5037-d1f0-47b9-9780-100f1b5103ea",
   "metadata": {},
   "outputs": [
    {
     "data": {
      "text/plain": [
       "2×4 Matrix{Int64}:\n",
       " 125  103  105  83\n",
       "  34   38   43  39"
      ]
     },
     "execution_count": 92,
     "metadata": {},
     "output_type": "execute_result"
    }
   ],
   "source": [
    "# Произведение матриц A и B:\n",
    "A*B"
   ]
  },
  {
   "cell_type": "code",
   "execution_count": 93,
   "id": "95d51c65-b27b-446f-a1f0-65f8aebe84f9",
   "metadata": {},
   "outputs": [
    {
     "data": {
      "text/plain": [
       "3×3 Matrix{Int64}:\n",
       " 1  0  0\n",
       " 0  1  0\n",
       " 0  0  1"
      ]
     },
     "execution_count": 93,
     "metadata": {},
     "output_type": "execute_result"
    }
   ],
   "source": [
    "# Единичная матрица 3x3:\n",
    "Matrix{Int}(I, 3, 3)"
   ]
  },
  {
   "cell_type": "code",
   "execution_count": 94,
   "id": "8fd8dc8c-1331-48c0-bdc4-3c3845691b70",
   "metadata": {},
   "outputs": [
    {
     "data": {
      "text/plain": [
       "-17"
      ]
     },
     "execution_count": 94,
     "metadata": {},
     "output_type": "execute_result"
    }
   ],
   "source": [
    "# Скалярное произведение векторов X и Y:\n",
    "X = [2, 4, -5]\n",
    "Y = [1,-1,3]\n",
    "dot(X,Y)"
   ]
  },
  {
   "cell_type": "code",
   "execution_count": 95,
   "id": "ea7f2ee3-7c43-43c2-b663-869c6ad04a35",
   "metadata": {},
   "outputs": [
    {
     "data": {
      "text/plain": [
       "-17"
      ]
     },
     "execution_count": 95,
     "metadata": {},
     "output_type": "execute_result"
    }
   ],
   "source": [
    "# тоже скалярное произведение:\n",
    "X'Y"
   ]
  },
  {
   "cell_type": "markdown",
   "id": "23683e78-0f96-4e66-b15e-bd191228ae94",
   "metadata": {},
   "source": [
    "### 5. Факторизация. Специальные матричные структуры"
   ]
  },
  {
   "cell_type": "markdown",
   "id": "25d24b19-7b4f-431d-af64-39c0fdb63f0d",
   "metadata": {},
   "source": [
    "Рассмотрим несколько примеров. Для работы со специальными матричными структурами потребуется пакет LinearAlgebra.\\\n",
    "\\\n",
    "Решение систем линейный алгебраических уравнений 𝐴𝑥 = 𝑏:"
   ]
  },
  {
   "cell_type": "code",
   "execution_count": 96,
   "id": "e7492c6f-03cf-4f38-922e-aa68fb357d78",
   "metadata": {},
   "outputs": [
    {
     "data": {
      "text/plain": [
       "3-element Vector{Float64}:\n",
       " 1.9045134769079488\n",
       " 1.117375665628477\n",
       " 2.156645287952739"
      ]
     },
     "execution_count": 96,
     "metadata": {},
     "output_type": "execute_result"
    }
   ],
   "source": [
    "# Задаём квадратную матрицу 3x3 со случайными значениями:\n",
    "A = rand(3, 3)\n",
    "# Задаём единичный вектор:\n",
    "x = fill(1.0, 3)\n",
    "# Задаём вектор b:\n",
    "b = A*x"
   ]
  },
  {
   "cell_type": "code",
   "execution_count": 97,
   "id": "7fd97421-694c-46bd-99a2-62c5230b62e7",
   "metadata": {},
   "outputs": [
    {
     "data": {
      "text/plain": [
       "3-element Vector{Float64}:\n",
       " 1.0\n",
       " 0.9999999999999992\n",
       " 1.0000000000000007"
      ]
     },
     "execution_count": 97,
     "metadata": {},
     "output_type": "execute_result"
    }
   ],
   "source": [
    "# Решение исходного уравнения получаем с помощью функции (убеждаемся, что x - единичный вектор):\n",
    "A\\b"
   ]
  },
  {
   "cell_type": "markdown",
   "id": "831fc95d-bca1-419b-9a2f-9fa3c08b935a",
   "metadata": {},
   "source": [
    "Julia позволяет вычислять LU-факторизацию и определяет составной тип факторизации для его хранения:"
   ]
  },
  {
   "cell_type": "code",
   "execution_count": 98,
   "id": "1b483a24-02a3-4222-8b5f-cf912694b135",
   "metadata": {},
   "outputs": [
    {
     "data": {
      "text/plain": [
       "LU{Float64, Matrix{Float64}}\n",
       "L factor:\n",
       "3×3 Matrix{Float64}:\n",
       " 1.0       0.0       0.0\n",
       " 0.684894  1.0       0.0\n",
       " 0.727466  0.653515  1.0\n",
       "U factor:\n",
       "3×3 Matrix{Float64}:\n",
       " 0.872348  0.0770881  0.16794\n",
       " 0.0       0.712517   0.678844\n",
       " 0.0       0.0        0.182385"
      ]
     },
     "execution_count": 98,
     "metadata": {},
     "output_type": "execute_result"
    }
   ],
   "source": [
    "# LU-факторизация:\n",
    "Alu = lu(A)"
   ]
  },
  {
   "cell_type": "markdown",
   "id": "05cb54e8-294a-4fc8-b404-c0c820dfd606",
   "metadata": {},
   "source": [
    "Различные части факторизации могут быть извлечены путём доступа к их специальным свойствам:"
   ]
  },
  {
   "cell_type": "code",
   "execution_count": 99,
   "id": "9bfdd77e-9aec-42b5-9ec8-55d46c571786",
   "metadata": {},
   "outputs": [
    {
     "data": {
      "text/plain": [
       "3×3 Matrix{Float64}:\n",
       " 0.0  1.0  0.0\n",
       " 0.0  0.0  1.0\n",
       " 1.0  0.0  0.0"
      ]
     },
     "execution_count": 99,
     "metadata": {},
     "output_type": "execute_result"
    }
   ],
   "source": [
    "# Матрица перестановок:\n",
    "Alu.P"
   ]
  },
  {
   "cell_type": "code",
   "execution_count": 100,
   "id": "fd01f88b-2c6c-4a1e-91d0-246146ff9a40",
   "metadata": {},
   "outputs": [
    {
     "data": {
      "text/plain": [
       "3-element Vector{Int64}:\n",
       " 2\n",
       " 3\n",
       " 1"
      ]
     },
     "execution_count": 100,
     "metadata": {},
     "output_type": "execute_result"
    }
   ],
   "source": [
    "# Вектор перестановок:\n",
    "Alu.p"
   ]
  },
  {
   "cell_type": "code",
   "execution_count": 101,
   "id": "a490585b-bda5-4c40-a848-09508c1acf05",
   "metadata": {},
   "outputs": [
    {
     "data": {
      "text/plain": [
       "3×3 Matrix{Float64}:\n",
       " 1.0       0.0       0.0\n",
       " 0.684894  1.0       0.0\n",
       " 0.727466  0.653515  1.0"
      ]
     },
     "execution_count": 101,
     "metadata": {},
     "output_type": "execute_result"
    }
   ],
   "source": [
    "# Матрица L:\n",
    "Alu.L"
   ]
  },
  {
   "cell_type": "code",
   "execution_count": 102,
   "id": "82a338c0-c0bc-433a-a183-b1403a68f4f6",
   "metadata": {},
   "outputs": [
    {
     "data": {
      "text/plain": [
       "3×3 Matrix{Float64}:\n",
       " 0.872348  0.0770881  0.16794\n",
       " 0.0       0.712517   0.678844\n",
       " 0.0       0.0        0.182385"
      ]
     },
     "execution_count": 102,
     "metadata": {},
     "output_type": "execute_result"
    }
   ],
   "source": [
    "# Матрица U:\n",
    "Alu.U"
   ]
  },
  {
   "cell_type": "code",
   "execution_count": 103,
   "id": "5407187a-d55c-4b52-b0c5-00abba276ea3",
   "metadata": {},
   "outputs": [
    {
     "data": {
      "text/plain": [
       "3-element Vector{Float64}:\n",
       " 1.0\n",
       " 0.9999999999999992\n",
       " 1.0000000000000007"
      ]
     },
     "execution_count": 103,
     "metadata": {},
     "output_type": "execute_result"
    }
   ],
   "source": [
    "# Решение СЛАУ через матрицу A:\n",
    "A\\b"
   ]
  },
  {
   "cell_type": "code",
   "execution_count": 104,
   "id": "68a36015-34b3-47c5-8e14-ff3e55d7bc38",
   "metadata": {},
   "outputs": [
    {
     "data": {
      "text/plain": [
       "3-element Vector{Float64}:\n",
       " 1.0\n",
       " 0.9999999999999992\n",
       " 1.0000000000000007"
      ]
     },
     "execution_count": 104,
     "metadata": {},
     "output_type": "execute_result"
    }
   ],
   "source": [
    "# Решение СЛАУ через объект факторизации:\n",
    "Alu\\b"
   ]
  },
  {
   "cell_type": "markdown",
   "id": "e2856edf-c6d9-4c16-895c-d8f3c6df9255",
   "metadata": {},
   "source": [
    "Аналогично можно найти детерминант матрицы:"
   ]
  },
  {
   "cell_type": "code",
   "execution_count": 105,
   "id": "0417307d-de64-4cfd-adee-a233d7d95ad8",
   "metadata": {},
   "outputs": [
    {
     "data": {
      "text/plain": [
       "0.11336368723129152"
      ]
     },
     "execution_count": 105,
     "metadata": {},
     "output_type": "execute_result"
    }
   ],
   "source": [
    "# Детерминант матрицы A:\n",
    "det(A)"
   ]
  },
  {
   "cell_type": "code",
   "execution_count": 106,
   "id": "b2b71ed8-3c60-4b5d-89d5-4034f05affc4",
   "metadata": {},
   "outputs": [
    {
     "data": {
      "text/plain": [
       "0.11336368723129152"
      ]
     },
     "execution_count": 106,
     "metadata": {},
     "output_type": "execute_result"
    }
   ],
   "source": [
    "# Детерминант матрицы A через объект факторизации:\n",
    "det(Alu)"
   ]
  },
  {
   "cell_type": "markdown",
   "id": "bf30746a-6abd-4e8e-b3da-36ec8d6ea43e",
   "metadata": {},
   "source": [
    "Julia позволяет вычислять QR-факторизацию и определяет составной тип факторизации для его хранения:"
   ]
  },
  {
   "cell_type": "code",
   "execution_count": 107,
   "id": "33acff6f-7f2b-4978-a528-8e9f57b553b1",
   "metadata": {},
   "outputs": [
    {
     "data": {
      "text/plain": [
       "LinearAlgebra.QRCompactWY{Float64, Matrix{Float64}}\n",
       "Q factor:\n",
       "3×3 LinearAlgebra.QRCompactWYQ{Float64, Matrix{Float64}}:\n",
       " -0.514617   0.266271  -0.815027\n",
       " -0.70741   -0.668983   0.228108\n",
       " -0.484501   0.693946   0.532633\n",
       "R factor:\n",
       "3×3 Matrix{Float64}:\n",
       " -1.23316  -0.693814  -0.888462\n",
       "  0.0       0.618435   0.637773\n",
       "  0.0       0.0       -0.148649"
      ]
     },
     "execution_count": 107,
     "metadata": {},
     "output_type": "execute_result"
    }
   ],
   "source": [
    "# QR-факторизация:\n",
    "Aqr = qr(A)"
   ]
  },
  {
   "cell_type": "markdown",
   "id": "e758408b-bc13-47cb-b962-c3237a704287",
   "metadata": {},
   "source": [
    "По аналогии с LU-факторизацией различные части QR-факторизации могут быть извлечены путём доступа к их специальным свойствам:"
   ]
  },
  {
   "cell_type": "code",
   "execution_count": 108,
   "id": "32eff7f2-f6b0-4b02-a579-0f04067b3a13",
   "metadata": {},
   "outputs": [
    {
     "data": {
      "text/plain": [
       "3×3 LinearAlgebra.QRCompactWYQ{Float64, Matrix{Float64}}:\n",
       " -0.514617   0.266271  -0.815027\n",
       " -0.70741   -0.668983   0.228108\n",
       " -0.484501   0.693946   0.532633"
      ]
     },
     "execution_count": 108,
     "metadata": {},
     "output_type": "execute_result"
    }
   ],
   "source": [
    "# Матрица Q:\n",
    "Aqr.Q"
   ]
  },
  {
   "cell_type": "code",
   "execution_count": 109,
   "id": "f1df11ef-4c77-49d0-926e-5ce0929f7954",
   "metadata": {},
   "outputs": [
    {
     "data": {
      "text/plain": [
       "3×3 Matrix{Float64}:\n",
       " -1.23316  -0.693814  -0.888462\n",
       "  0.0       0.618435   0.637773\n",
       "  0.0       0.0       -0.148649"
      ]
     },
     "execution_count": 109,
     "metadata": {},
     "output_type": "execute_result"
    }
   ],
   "source": [
    "# Матрица R:\n",
    "Aqr.R"
   ]
  },
  {
   "cell_type": "code",
   "execution_count": 110,
   "id": "08b4b9e3-de3c-4dd4-a963-577a6f62b53e",
   "metadata": {},
   "outputs": [
    {
     "data": {
      "text/plain": [
       "3×3 Matrix{Float64}:\n",
       "  1.0          1.66533e-16  -1.66533e-16\n",
       "  1.66533e-16  1.0           1.11022e-16\n",
       " -1.66533e-16  1.11022e-16   1.0"
      ]
     },
     "execution_count": 110,
     "metadata": {},
     "output_type": "execute_result"
    }
   ],
   "source": [
    "# Проверка, что матрица Q - ортогональная:\n",
    "Aqr.Q'*Aqr.Q"
   ]
  },
  {
   "cell_type": "markdown",
   "id": "e64fd7fc-6a23-4d19-9bb7-ccc9c8873333",
   "metadata": {},
   "source": [
    "Примеры собственной декомпозиции матрицы 𝐴:"
   ]
  },
  {
   "cell_type": "code",
   "execution_count": 111,
   "id": "874707a5-eebd-4d34-890f-50492faa23b9",
   "metadata": {},
   "outputs": [
    {
     "data": {
      "text/plain": [
       "3×3 Matrix{Float64}:\n",
       " 1.26921  1.39407   1.34566\n",
       " 1.39407  0.154176  0.933254\n",
       " 1.34566  0.933254  1.58773"
      ]
     },
     "execution_count": 111,
     "metadata": {},
     "output_type": "execute_result"
    }
   ],
   "source": [
    "# Симметризация матрицы A:\n",
    "Asym = A + A'"
   ]
  },
  {
   "cell_type": "code",
   "execution_count": 112,
   "id": "93367f45-43c9-4a48-9fcb-8da8d1481434",
   "metadata": {},
   "outputs": [
    {
     "data": {
      "text/plain": [
       "Eigen{Float64, Float64, Matrix{Float64}, Vector{Float64}}\n",
       "values:\n",
       "3-element Vector{Float64}:\n",
       " -0.7899497891904491\n",
       "  0.23352289558816774\n",
       "  3.567540653607412\n",
       "vectors:\n",
       "3×3 Matrix{Float64}:\n",
       "  0.555029   -0.535475  -0.63656\n",
       " -0.831739   -0.345896  -0.434242\n",
       "  0.0123419   0.770469  -0.637358"
      ]
     },
     "execution_count": 112,
     "metadata": {},
     "output_type": "execute_result"
    }
   ],
   "source": [
    "# Спектральное разложение симметризованной матрицы:\n",
    "AsymEig = eigen(Asym)"
   ]
  },
  {
   "cell_type": "code",
   "execution_count": 113,
   "id": "c71aa54a-6cdd-4184-a969-e6a827b3a9c8",
   "metadata": {},
   "outputs": [
    {
     "data": {
      "text/plain": [
       "3-element Vector{Float64}:\n",
       " -0.7899497891904491\n",
       "  0.23352289558816774\n",
       "  3.567540653607412"
      ]
     },
     "execution_count": 113,
     "metadata": {},
     "output_type": "execute_result"
    }
   ],
   "source": [
    "# Собственные значения:\n",
    "AsymEig.values"
   ]
  },
  {
   "cell_type": "code",
   "execution_count": 114,
   "id": "56abeb9a-d26d-4d5e-859e-a22f3d4f2f42",
   "metadata": {},
   "outputs": [
    {
     "data": {
      "text/plain": [
       "3×3 Matrix{Float64}:\n",
       "  0.555029   -0.535475  -0.63656\n",
       " -0.831739   -0.345896  -0.434242\n",
       "  0.0123419   0.770469  -0.637358"
      ]
     },
     "execution_count": 114,
     "metadata": {},
     "output_type": "execute_result"
    }
   ],
   "source": [
    "#Собственные векторы:\n",
    "AsymEig.vectors"
   ]
  },
  {
   "cell_type": "code",
   "execution_count": 115,
   "id": "aff1c950-7326-4461-9098-c8e6e38d6bd4",
   "metadata": {},
   "outputs": [
    {
     "data": {
      "text/plain": [
       "3×3 Matrix{Float64}:\n",
       "  1.0          -2.88658e-15  -2.22045e-15\n",
       " -2.44249e-15   1.0          -1.77636e-15\n",
       "  6.21725e-15   4.88498e-15   1.0"
      ]
     },
     "execution_count": 115,
     "metadata": {},
     "output_type": "execute_result"
    }
   ],
   "source": [
    "# Проверяем, что получится единичная матрица:\n",
    "inv(AsymEig)*Asym"
   ]
  },
  {
   "cell_type": "markdown",
   "id": "d5264792-5637-47b1-8ffa-7d7360f72aa7",
   "metadata": {},
   "source": [
    "Далее рассмотрим примеры работы с матрицами большой размерности и специальной структуры."
   ]
  },
  {
   "cell_type": "code",
   "execution_count": 116,
   "id": "5bfcdc70-897d-43c6-a1a1-4a1f8cdea921",
   "metadata": {
    "tags": []
   },
   "outputs": [
    {
     "data": {
      "text/plain": [
       "1000×1000 Matrix{Float64}:\n",
       "  0.341442    1.57176    -0.288697   …  -1.96711    -1.28865   -0.613803\n",
       " -0.28468     0.296367    0.834866       0.421397    0.479061   1.6275\n",
       " -1.34262    -0.0253499   1.88129       -0.506858   -0.394554   1.39226\n",
       " -0.521853    0.439745   -1.44475        0.931556    0.606847   0.0162177\n",
       "  0.500429   -0.60657     1.34629       -0.118979    0.545349   0.0144188\n",
       " -0.386472   -0.120207   -0.174588   …  -1.60899    -0.654054  -0.106653\n",
       " -0.278371    0.40423    -0.402811       0.844852   -1.2104     2.09065\n",
       " -0.256525    0.322618   -0.34307       -0.818153    0.243497  -0.518379\n",
       " -0.0296079  -0.267534   -0.152566       0.471127   -0.114114   1.04871\n",
       " -0.979883    1.19155     0.875468       2.59499    -0.394347   1.35163\n",
       " -0.785717    1.68432    -0.371391   …   2.34353     0.640519  -0.455475\n",
       " -1.91299    -2.0733     -0.792954       0.833957   -0.378834  -0.590506\n",
       " -0.163219    0.313887    0.719398      -0.0450525  -0.707988  -0.140988\n",
       "  ⋮                                  ⋱                         \n",
       "  1.13478    -0.422166   -0.22443       -0.471267   -1.02846    0.0634373\n",
       " -0.439683    0.958739   -0.437378      -0.675044    0.914988  -0.175666\n",
       " -1.0002     -1.34081     0.0425883  …  -0.121213   -0.636715  -0.265894\n",
       "  0.129897   -0.475172    0.371982      -0.379082    0.977072  -0.336622\n",
       " -2.68877     0.397042   -0.544633      -1.06019    -0.461751   1.20395\n",
       "  1.87233     0.313594    0.851904      -0.459675    0.195934   0.149809\n",
       "  0.189968    0.510355   -0.856337       1.48708     1.59321   -0.221217\n",
       " -1.56255     1.20653     0.97225    …   0.395847   -1.47243    1.0056\n",
       " -0.420308   -0.216018   -1.95192        0.436198    0.108184   0.225544\n",
       " -0.804535   -0.211909    0.576579      -1.08731     0.919084   0.795769\n",
       "  0.892799   -1.10441    -0.0451562     -1.62471    -0.148256   2.31275\n",
       "  0.838319    1.3171      0.572693      -0.237061    0.82214    0.625398"
      ]
     },
     "execution_count": 116,
     "metadata": {},
     "output_type": "execute_result"
    }
   ],
   "source": [
    "# Матрица 1000 х 1000:\n",
    "n = 1000\n",
    "A = randn(n,n)"
   ]
  },
  {
   "cell_type": "code",
   "execution_count": 117,
   "id": "6a4eba60-0f29-4b17-a67d-547c2e83ecae",
   "metadata": {},
   "outputs": [
    {
     "data": {
      "text/plain": [
       "1000×1000 Matrix{Float64}:\n",
       "  0.682884    1.28708   -1.63132    …  -2.77164    -0.395855     0.224515\n",
       "  1.28708     0.592734   0.809517       0.209488   -0.625346     2.9446\n",
       " -1.63132     0.809517   3.76259        0.0697211  -0.439711     1.96495\n",
       "  0.98389     0.851749  -2.02902        2.01505     0.625158    -1.63318\n",
       "  1.85105    -2.06537    1.26454       -0.82518     1.85143      0.42862\n",
       "  0.0545323  -1.83847   -0.58184    …  -1.41482    -0.958285    -0.648153\n",
       "  0.620347    0.829886   1.1098         1.11767    -1.19191      4.23277\n",
       "  0.515576    0.588635  -0.784228       0.185339    0.482416    -0.429788\n",
       " -0.425209    1.16831    2.07213       -0.0806114   0.196133     1.05057\n",
       " -1.0136     -0.212238  -0.0554708      4.73445    -1.15215      0.414765\n",
       " -1.08225     0.496912  -2.65431    …   3.82012     0.985734     0.606067\n",
       " -0.193521   -3.63974   -1.06408       -0.105392    0.091222    -1.39173\n",
       "  1.27062     0.64481    2.36902       -0.553527   -0.718021    -0.698051\n",
       "  ⋮                                 ⋱                           \n",
       "  1.06392     0.456033   0.193333       1.7183      0.00170202   0.584395\n",
       "  0.956071   -0.686445  -2.42783       -0.149553    1.2902       0.0619054\n",
       " -1.33483    -0.349875  -1.20626    …  -0.345852   -2.53442      1.66943\n",
       "  0.355392    0.132927  -1.3986         0.683823    1.63549      0.955544\n",
       " -1.92909     2.26507   -0.857353      -2.91226    -0.119299    -0.236662\n",
       "  3.22493     1.793      0.356423      -1.34565     0.51585      0.732154\n",
       " -0.446586    1.5135    -1.98948        4.29524     0.615271     0.304206\n",
       " -2.57257    -0.314586  -0.952736   …   1.05782    -1.93902      0.52098\n",
       "  0.126529   -2.03559    0.229508       0.143953    0.656124    -0.308846\n",
       " -2.77164     0.209488   0.0697211     -2.17463    -0.70563      0.558708\n",
       " -0.395855   -0.625346  -0.439711      -0.70563    -0.296513     3.13489\n",
       "  0.224515    2.9446     1.96495        0.558708    3.13489      1.2508"
      ]
     },
     "execution_count": 117,
     "metadata": {},
     "output_type": "execute_result"
    }
   ],
   "source": [
    "# Симметризация матрицы:\n",
    "Asym = A + A'"
   ]
  },
  {
   "cell_type": "code",
   "execution_count": 118,
   "id": "59bb90e8-5fad-4f45-9f69-ac5ae4fe3f2a",
   "metadata": {},
   "outputs": [
    {
     "data": {
      "text/plain": [
       "true"
      ]
     },
     "execution_count": 118,
     "metadata": {},
     "output_type": "execute_result"
    }
   ],
   "source": [
    "# Проверка, является ли матрица симметричной:\n",
    "issymmetric(Asym)"
   ]
  },
  {
   "cell_type": "markdown",
   "id": "0e7c7c2e-97f5-46a2-88a1-966c751c58e4",
   "metadata": {},
   "source": [
    "Пример добавления шума в симметричную матрицу (матрица уже не будет симметричной):"
   ]
  },
  {
   "cell_type": "code",
   "execution_count": 119,
   "id": "883c1139-71bc-44a3-b2d3-a6b3793f122c",
   "metadata": {},
   "outputs": [
    {
     "data": {
      "text/plain": [
       "1.2870774392023618"
      ]
     },
     "execution_count": 119,
     "metadata": {},
     "output_type": "execute_result"
    }
   ],
   "source": [
    "# Добавление шума:\n",
    "Asym_noisy = copy(Asym)\n",
    "Asym_noisy[1,2] += 5eps()"
   ]
  },
  {
   "cell_type": "code",
   "execution_count": 120,
   "id": "bb13cd7a-8778-4223-8eea-d0859ee03174",
   "metadata": {},
   "outputs": [
    {
     "data": {
      "text/plain": [
       "false"
      ]
     },
     "execution_count": 120,
     "metadata": {},
     "output_type": "execute_result"
    }
   ],
   "source": [
    "# Проверка, является ли матрица симметричной:\n",
    "issymmetric(Asym_noisy)"
   ]
  },
  {
   "cell_type": "markdown",
   "id": "192fe2ca-f630-4761-a313-273102aa75e1",
   "metadata": {},
   "source": [
    "В Julia можно объявить структуру матрицы явно, например, используя Diagonal, Triangular, Symmetric, Hermitian, Tridiagonal и SymTridiagonal:"
   ]
  },
  {
   "cell_type": "code",
   "execution_count": 121,
   "id": "743634b0-7844-40a4-af15-753e840f5446",
   "metadata": {},
   "outputs": [
    {
     "data": {
      "text/plain": [
       "1000×1000 Symmetric{Float64, Matrix{Float64}}:\n",
       "  0.682884    1.28708   -1.63132    …  -2.77164    -0.395855     0.224515\n",
       "  1.28708     0.592734   0.809517       0.209488   -0.625346     2.9446\n",
       " -1.63132     0.809517   3.76259        0.0697211  -0.439711     1.96495\n",
       "  0.98389     0.851749  -2.02902        2.01505     0.625158    -1.63318\n",
       "  1.85105    -2.06537    1.26454       -0.82518     1.85143      0.42862\n",
       "  0.0545323  -1.83847   -0.58184    …  -1.41482    -0.958285    -0.648153\n",
       "  0.620347    0.829886   1.1098         1.11767    -1.19191      4.23277\n",
       "  0.515576    0.588635  -0.784228       0.185339    0.482416    -0.429788\n",
       " -0.425209    1.16831    2.07213       -0.0806114   0.196133     1.05057\n",
       " -1.0136     -0.212238  -0.0554708      4.73445    -1.15215      0.414765\n",
       " -1.08225     0.496912  -2.65431    …   3.82012     0.985734     0.606067\n",
       " -0.193521   -3.63974   -1.06408       -0.105392    0.091222    -1.39173\n",
       "  1.27062     0.64481    2.36902       -0.553527   -0.718021    -0.698051\n",
       "  ⋮                                 ⋱                           \n",
       "  1.06392     0.456033   0.193333       1.7183      0.00170202   0.584395\n",
       "  0.956071   -0.686445  -2.42783       -0.149553    1.2902       0.0619054\n",
       " -1.33483    -0.349875  -1.20626    …  -0.345852   -2.53442      1.66943\n",
       "  0.355392    0.132927  -1.3986         0.683823    1.63549      0.955544\n",
       " -1.92909     2.26507   -0.857353      -2.91226    -0.119299    -0.236662\n",
       "  3.22493     1.793      0.356423      -1.34565     0.51585      0.732154\n",
       " -0.446586    1.5135    -1.98948        4.29524     0.615271     0.304206\n",
       " -2.57257    -0.314586  -0.952736   …   1.05782    -1.93902      0.52098\n",
       "  0.126529   -2.03559    0.229508       0.143953    0.656124    -0.308846\n",
       " -2.77164     0.209488   0.0697211     -2.17463    -0.70563      0.558708\n",
       " -0.395855   -0.625346  -0.439711      -0.70563    -0.296513     3.13489\n",
       "  0.224515    2.9446     1.96495        0.558708    3.13489      1.2508"
      ]
     },
     "execution_count": 121,
     "metadata": {},
     "output_type": "execute_result"
    }
   ],
   "source": [
    "# Явно указываем, что матрица является симметричной:\n",
    "Asym_explicit = Symmetric(Asym_noisy)"
   ]
  },
  {
   "cell_type": "markdown",
   "id": "e3a155b4-e6da-4018-ad53-e673921226b8",
   "metadata": {},
   "source": [
    "Далее для оценки эффективности выполнения операций над матрицами большой размерности и специальной структуры воспользуемся пакетом BenchmarkTools:"
   ]
  },
  {
   "cell_type": "code",
   "execution_count": 2,
   "id": "e0e12b25-42c3-4474-9df2-965759e5ba35",
   "metadata": {},
   "outputs": [
    {
     "name": "stderr",
     "output_type": "stream",
     "text": [
      "\u001b[32m\u001b[1m   Resolving\u001b[22m\u001b[39m package versions...\n",
      "\u001b[32m\u001b[1m  No Changes\u001b[22m\u001b[39m to `C:\\Users\\khokh\\.julia\\environments\\v1.6\\Project.toml`\n",
      "\u001b[32m\u001b[1m  No Changes\u001b[22m\u001b[39m to `C:\\Users\\khokh\\.julia\\environments\\v1.6\\Manifest.toml`\n"
     ]
    }
   ],
   "source": [
    "import Pkg\n",
    "Pkg.add(\"BenchmarkTools\")\n",
    "using BenchmarkTools"
   ]
  },
  {
   "cell_type": "code",
   "execution_count": 123,
   "id": "c7cd0b8e-8fe3-4bdf-8050-41b17044da29",
   "metadata": {},
   "outputs": [
    {
     "name": "stdout",
     "output_type": "stream",
     "text": [
      "  189.288 ms (11 allocations: 7.99 MiB)\n"
     ]
    }
   ],
   "source": [
    "# Оценка эффективности выполнения операции по нахождению собственных значений симметризованной матрицы:\n",
    "@btime eigvals(Asym);\n"
   ]
  },
  {
   "cell_type": "code",
   "execution_count": 124,
   "id": "70f4ad3d-643f-4ad3-9eac-2c4889370a40",
   "metadata": {},
   "outputs": [
    {
     "name": "stdout",
     "output_type": "stream",
     "text": [
      "  1.023 s (13 allocations: 7.92 MiB)\n"
     ]
    }
   ],
   "source": [
    "# Оценка эффективности выполнения операции по нахождению собственных значений зашумлённой матрицы:\n",
    "@btime eigvals(Asym_noisy);"
   ]
  },
  {
   "cell_type": "code",
   "execution_count": 125,
   "id": "748ab125-71fa-47e4-a6d4-5d518f5e9018",
   "metadata": {},
   "outputs": [
    {
     "name": "stdout",
     "output_type": "stream",
     "text": [
      "  189.479 ms (11 allocations: 7.99 MiB)\n"
     ]
    },
    {
     "data": {
      "text/plain": [
       "1000-element Vector{Float64}:\n",
       " -88.4490848179741\n",
       " -87.72432982614009\n",
       " -87.32360701768815\n",
       " -86.54452071816185\n",
       " -86.147770630828\n",
       " -85.15020520324167\n",
       " -84.71046076221448\n",
       " -84.53960599719288\n",
       " -84.04851450011618\n",
       " -83.79661665306813\n",
       " -83.09566823223291\n",
       " -82.77738392390918\n",
       " -82.65474794652225\n",
       "   ⋮\n",
       "  83.31121148368474\n",
       "  83.4242960989027\n",
       "  84.31887016540793\n",
       "  84.52658065155879\n",
       "  85.03238362787764\n",
       "  85.52580572714116\n",
       "  85.95304286127039\n",
       "  86.01854147544931\n",
       "  86.73926743193408\n",
       "  87.08465041075203\n",
       "  88.69112459000881\n",
       "  89.89056566259019"
      ]
     },
     "execution_count": 125,
     "metadata": {},
     "output_type": "execute_result"
    }
   ],
   "source": [
    "# Оценка эффективности выполнения операции по нахождению собственных значений зашумлённой матрицы,\n",
    "# для которой явно указано, что она симметричная:\n",
    "@btime eigvals(Asym_explicit)"
   ]
  },
  {
   "cell_type": "markdown",
   "id": "6586fa37-5da2-457f-8d10-7d0391af3a97",
   "metadata": {},
   "source": [
    "Далее рассмотрим примеры работы с разряженными матрицами большой размерности.\\\n",
    "Использование типов Tridiagonal и SymTridiagonal для хранения трёхдиагональных матриц позволяет работать с потенциально очень большими трёхдиагональными матрицами:"
   ]
  },
  {
   "cell_type": "code",
   "execution_count": 126,
   "id": "2d18e9e7-5580-4adc-9f7e-58ceaf061c29",
   "metadata": {},
   "outputs": [
    {
     "data": {
      "text/plain": [
       "1000000×1000000 SymTridiagonal{Float64, Vector{Float64}}:\n",
       " -0.63116    0.935358    ⋅       …    ⋅          ⋅          ⋅ \n",
       "  0.935358  -0.374851   1.59537       ⋅          ⋅          ⋅ \n",
       "   ⋅         1.59537    1.34986       ⋅          ⋅          ⋅ \n",
       "   ⋅          ⋅        -1.02118       ⋅          ⋅          ⋅ \n",
       "   ⋅          ⋅          ⋅            ⋅          ⋅          ⋅ \n",
       "   ⋅          ⋅          ⋅       …    ⋅          ⋅          ⋅ \n",
       "   ⋅          ⋅          ⋅            ⋅          ⋅          ⋅ \n",
       "   ⋅          ⋅          ⋅            ⋅          ⋅          ⋅ \n",
       "   ⋅          ⋅          ⋅            ⋅          ⋅          ⋅ \n",
       "   ⋅          ⋅          ⋅            ⋅          ⋅          ⋅ \n",
       "   ⋅          ⋅          ⋅       …    ⋅          ⋅          ⋅ \n",
       "   ⋅          ⋅          ⋅            ⋅          ⋅          ⋅ \n",
       "   ⋅          ⋅          ⋅            ⋅          ⋅          ⋅ \n",
       "  ⋮                              ⋱                        \n",
       "   ⋅          ⋅          ⋅            ⋅          ⋅          ⋅ \n",
       "   ⋅          ⋅          ⋅            ⋅          ⋅          ⋅ \n",
       "   ⋅          ⋅          ⋅       …    ⋅          ⋅          ⋅ \n",
       "   ⋅          ⋅          ⋅            ⋅          ⋅          ⋅ \n",
       "   ⋅          ⋅          ⋅            ⋅          ⋅          ⋅ \n",
       "   ⋅          ⋅          ⋅            ⋅          ⋅          ⋅ \n",
       "   ⋅          ⋅          ⋅            ⋅          ⋅          ⋅ \n",
       "   ⋅          ⋅          ⋅       …    ⋅          ⋅          ⋅ \n",
       "   ⋅          ⋅          ⋅          -0.456724    ⋅          ⋅ \n",
       "   ⋅          ⋅          ⋅           1.27405    2.12545     ⋅ \n",
       "   ⋅          ⋅          ⋅           2.12545   -2.12783   -0.982796\n",
       "   ⋅          ⋅          ⋅            ⋅        -0.982796   0.0720338"
      ]
     },
     "execution_count": 126,
     "metadata": {},
     "output_type": "execute_result"
    }
   ],
   "source": [
    "# Трёхдиагональная матрица 1000000 х 1000000:\n",
    "n = 1000000;\n",
    "A = SymTridiagonal(randn(n), randn(n-1))"
   ]
  },
  {
   "cell_type": "code",
   "execution_count": 127,
   "id": "bf0fd472-81a7-4859-b3a5-ec7aec6288ba",
   "metadata": {},
   "outputs": [
    {
     "name": "stdout",
     "output_type": "stream",
     "text": [
      "  496.216 ms (17 allocations: 183.11 MiB)\n"
     ]
    },
    {
     "data": {
      "text/plain": [
       "6.215507042449577"
      ]
     },
     "execution_count": 127,
     "metadata": {},
     "output_type": "execute_result"
    }
   ],
   "source": [
    "# Оценка эффективности выполнения операции по нахождению собственных значений:\n",
    "@btime eigmax(A)\n"
   ]
  },
  {
   "cell_type": "markdown",
   "id": "a5fe54d3-4352-4a49-910e-4fc4f8c26151",
   "metadata": {},
   "source": [
    "При попытке задать подобную матрицу обычным способом и посчитать её собственные значения, вы скорее всего получите ошибку переполнения памяти:"
   ]
  },
  {
   "cell_type": "code",
   "execution_count": 128,
   "id": "7f276112-e5b9-4e8b-8eec-ad923ca8a85a",
   "metadata": {},
   "outputs": [
    {
     "ename": "LoadError",
     "evalue": "OutOfMemoryError()",
     "output_type": "error",
     "traceback": [
      "OutOfMemoryError()",
      "",
      "Stacktrace:",
      " [1] Array",
      "   @ .\\boot.jl:450 [inlined]",
      " [2] Array",
      "   @ .\\boot.jl:458 [inlined]",
      " [3] zeros",
      "   @ .\\array.jl:503 [inlined]",
      " [4] zeros",
      "   @ .\\array.jl:499 [inlined]",
      " [5] Matrix{Float64}(M::SymTridiagonal{Float64, Vector{Float64}})",
      "   @ LinearAlgebra C:\\buildbot\\worker\\package_win64\\build\\usr\\share\\julia\\stdlib\\v1.6\\LinearAlgebra\\src\\tridiag.jl:127",
      " [6] (Matrix{T} where T)(M::SymTridiagonal{Float64, Vector{Float64}})",
      "   @ LinearAlgebra C:\\buildbot\\worker\\package_win64\\build\\usr\\share\\julia\\stdlib\\v1.6\\LinearAlgebra\\src\\tridiag.jl:141",
      " [7] top-level scope",
      "   @ In[128]:1",
      " [8] eval",
      "   @ .\\boot.jl:360 [inlined]",
      " [9] include_string(mapexpr::typeof(REPL.softscope), mod::Module, code::String, filename::String)",
      "   @ Base .\\loading.jl:1116"
     ]
    }
   ],
   "source": [
    "B = Matrix(A)"
   ]
  },
  {
   "cell_type": "markdown",
   "id": "173a2331-7ed7-40c8-a644-c3c1d61c7df3",
   "metadata": {},
   "source": [
    "### 6. Общая линейная алгебра"
   ]
  },
  {
   "cell_type": "markdown",
   "id": "3c63f65c-055f-4443-b1cb-57db8d3d3e96",
   "metadata": {},
   "source": [
    "Обычный способ добавить поддержку числовой линейной алгебры - это обернуть подпрограммы BLAS и LAPACK. Собственно, для матриц с элементами Float32, Float64, Complex{Float32} или Complex{Float64} разработчики Julia использовали такое же решение.\\\n",
    "Однако Julia также поддерживает общую линейную алгебру, что позволяет, например, работать с матрицами и векторами рациональных чисел.\\\n",
    "Для задания рационального числа используется двойная косая черта: 1//2"
   ]
  },
  {
   "cell_type": "markdown",
   "id": "1f46d814-8a80-44bf-b929-e6349bc80bb4",
   "metadata": {},
   "source": [
    "Решение системы линейных уравнений с рациональными элементами без преобразования в типы элементов с плавающей запятой (для избежания проблемы с переполнением используем BigInt):"
   ]
  },
  {
   "cell_type": "code",
   "execution_count": 129,
   "id": "887cc3eb-bf37-4475-b0ec-ad9cb2997665",
   "metadata": {},
   "outputs": [
    {
     "data": {
      "text/plain": [
       "3×3 Matrix{Rational{BigInt}}:\n",
       " 1//1   1//2   1//5\n",
       " 1//2   1//2   1//5\n",
       " 1//10  1//10  3//10"
      ]
     },
     "execution_count": 129,
     "metadata": {},
     "output_type": "execute_result"
    }
   ],
   "source": [
    "# Матрица с рациональными элементами:\n",
    "Arational = Matrix{Rational{BigInt}}(rand(1:10, 3, 3))/10"
   ]
  },
  {
   "cell_type": "code",
   "execution_count": 130,
   "id": "3e53048e-a7ed-4321-9fce-9c76859f069a",
   "metadata": {},
   "outputs": [
    {
     "data": {
      "text/plain": [
       "3-element Vector{Int64}:\n",
       " 1\n",
       " 1\n",
       " 1"
      ]
     },
     "execution_count": 130,
     "metadata": {},
     "output_type": "execute_result"
    }
   ],
   "source": [
    "# Единичный вектор:\n",
    "x = fill(1, 3)"
   ]
  },
  {
   "cell_type": "code",
   "execution_count": 131,
   "id": "6cf5d0fe-01b7-4e4a-a76b-0b8dfc6ef061",
   "metadata": {},
   "outputs": [
    {
     "data": {
      "text/plain": [
       "3-element Vector{Rational{BigInt}}:\n",
       " 17//10\n",
       "  6//5\n",
       "  1//2"
      ]
     },
     "execution_count": 131,
     "metadata": {},
     "output_type": "execute_result"
    }
   ],
   "source": [
    "# Задаём вектор b:\n",
    "b = Arational*x"
   ]
  },
  {
   "cell_type": "code",
   "execution_count": 132,
   "id": "3c43f8ec-5f36-4bce-961b-ec8164e09db0",
   "metadata": {},
   "outputs": [
    {
     "data": {
      "text/plain": [
       "3-element Vector{Rational{BigInt}}:\n",
       " 1//1\n",
       " 1//1\n",
       " 1//1"
      ]
     },
     "execution_count": 132,
     "metadata": {},
     "output_type": "execute_result"
    }
   ],
   "source": [
    "# Решение исходного уравнения получаем с помощью функции (убеждаемся, что x - единичный вектор):\n",
    "Arational\\b"
   ]
  },
  {
   "cell_type": "code",
   "execution_count": 133,
   "id": "5c0c27f9-be47-48d9-a723-56c2b8f9f696",
   "metadata": {},
   "outputs": [
    {
     "data": {
      "text/plain": [
       "LU{Rational{BigInt}, Matrix{Rational{BigInt}}}\n",
       "L factor:\n",
       "3×3 Matrix{Rational{BigInt}}:\n",
       " 1//1   0//1  0//1\n",
       " 1//2   1//1  0//1\n",
       " 1//10  1//5  1//1\n",
       "U factor:\n",
       "3×3 Matrix{Rational{BigInt}}:\n",
       " 1//1  1//2   1//5\n",
       " 0//1  1//4   1//10\n",
       " 0//1  0//1  13//50"
      ]
     },
     "execution_count": 133,
     "metadata": {},
     "output_type": "execute_result"
    }
   ],
   "source": [
    "# LU-разложение:\n",
    "lu(Arational)"
   ]
  },
  {
   "cell_type": "markdown",
   "id": "c2533765-85f0-4ca4-9823-306a9936c3ee",
   "metadata": {},
   "source": [
    "## Задания для самостоятельного выполнения"
   ]
  },
  {
   "cell_type": "markdown",
   "id": "ce118944-4373-4869-ae19-222662155f6b",
   "metadata": {},
   "source": [
    "### 1. Произведение векторов"
   ]
  },
  {
   "cell_type": "markdown",
   "id": "5dcddd8c-13fb-4619-8bbe-5deb752ae83f",
   "metadata": {},
   "source": [
    "1. Задайте вектор v. Умножьте вектор v скалярно сам на себя и сохраните результат в dot_v."
   ]
  },
  {
   "cell_type": "code",
   "execution_count": 134,
   "id": "da697266-14b0-41dd-a5fb-28cf07bd8702",
   "metadata": {
    "tags": []
   },
   "outputs": [
    {
     "data": {
      "text/plain": [
       "3-element Vector{Int64}:\n",
       " 2\n",
       " 4\n",
       " 6"
      ]
     },
     "execution_count": 134,
     "metadata": {},
     "output_type": "execute_result"
    }
   ],
   "source": [
    "v = [2, 4, 6]"
   ]
  },
  {
   "cell_type": "code",
   "execution_count": 135,
   "id": "230826e9-5cdd-4964-9e35-4f26ee9256b1",
   "metadata": {},
   "outputs": [
    {
     "data": {
      "text/plain": [
       "56"
      ]
     },
     "execution_count": 135,
     "metadata": {},
     "output_type": "execute_result"
    }
   ],
   "source": [
    "v'v"
   ]
  },
  {
   "cell_type": "markdown",
   "id": "2300c47c-9f1b-4461-8f34-b35387ec00ff",
   "metadata": {},
   "source": [
    "2. Умножьте v матрично на себя (внешнее произведение), присвоив результат переменной outer_v."
   ]
  },
  {
   "cell_type": "code",
   "execution_count": 136,
   "id": "22e18d73-3611-4944-838b-409c969a477f",
   "metadata": {
    "tags": []
   },
   "outputs": [
    {
     "data": {
      "text/plain": [
       "3×3 Matrix{Int64}:\n",
       "  4   8  12\n",
       "  8  16  24\n",
       " 12  24  36"
      ]
     },
     "execution_count": 136,
     "metadata": {},
     "output_type": "execute_result"
    }
   ],
   "source": [
    "outer_v = v*v'"
   ]
  },
  {
   "cell_type": "markdown",
   "id": "c40f32d6-3fb8-447a-bc4f-88a6a7964d04",
   "metadata": {},
   "source": [
    "### 2. Системы линейных уравнений"
   ]
  },
  {
   "cell_type": "markdown",
   "id": "cee798c6-8988-4590-9290-472bc74d6e7a",
   "metadata": {},
   "source": [
    "#### 1. Решить СЛАУ с двумя неизвестными."
   ]
  },
  {
   "cell_type": "code",
   "execution_count": 137,
   "id": "4a0a3db8-f42a-4c6e-b7d7-81da7fa4a568",
   "metadata": {},
   "outputs": [
    {
     "data": {
      "text/plain": [
       "2×2 Matrix{Int64}:\n",
       " 1   1\n",
       " 1  -1"
      ]
     },
     "execution_count": 137,
     "metadata": {},
     "output_type": "execute_result"
    }
   ],
   "source": [
    "x = [1 1;1 -1]"
   ]
  },
  {
   "cell_type": "code",
   "execution_count": 138,
   "id": "0015b22b-8f5d-42eb-aaf1-dcb5bc3a3694",
   "metadata": {},
   "outputs": [
    {
     "data": {
      "text/plain": [
       "2-element Vector{Int64}:\n",
       " 2\n",
       " 3"
      ]
     },
     "execution_count": 138,
     "metadata": {},
     "output_type": "execute_result"
    }
   ],
   "source": [
    "y = [2; 3]"
   ]
  },
  {
   "cell_type": "code",
   "execution_count": 139,
   "id": "17294d79-11d5-4622-a7a1-0cb3da3bb0d2",
   "metadata": {},
   "outputs": [
    {
     "data": {
      "text/plain": [
       "2-element Vector{Float64}:\n",
       "  2.5\n",
       " -0.5"
      ]
     },
     "execution_count": 139,
     "metadata": {},
     "output_type": "execute_result"
    }
   ],
   "source": [
    "res = [1; 1]\n",
    "res = x\\y"
   ]
  },
  {
   "cell_type": "markdown",
   "id": "158aa681-52ba-4b8c-bb9b-770bda8a1247",
   "metadata": {},
   "source": [
    "b"
   ]
  },
  {
   "cell_type": "code",
   "execution_count": 140,
   "id": "723a70b4-18fd-4c15-9e75-d28f0f6c40da",
   "metadata": {},
   "outputs": [
    {
     "data": {
      "text/plain": [
       "2×2 Matrix{Int64}:\n",
       " 1  1\n",
       " 2  2"
      ]
     },
     "execution_count": 140,
     "metadata": {},
     "output_type": "execute_result"
    }
   ],
   "source": [
    "x = [1 1;2 2]"
   ]
  },
  {
   "cell_type": "code",
   "execution_count": 141,
   "id": "6988788f-11bf-42aa-a1b4-74d954cce895",
   "metadata": {},
   "outputs": [
    {
     "data": {
      "text/plain": [
       "2-element Vector{Int64}:\n",
       " 2\n",
       " 4"
      ]
     },
     "execution_count": 141,
     "metadata": {},
     "output_type": "execute_result"
    }
   ],
   "source": [
    "y = [2; 4]"
   ]
  },
  {
   "cell_type": "code",
   "execution_count": 142,
   "id": "0b7739a7-aead-43f4-954d-366fac359f39",
   "metadata": {
    "tags": []
   },
   "outputs": [
    {
     "ename": "LoadError",
     "evalue": "SingularException(2)",
     "output_type": "error",
     "traceback": [
      "SingularException(2)",
      "",
      "Stacktrace:",
      " [1] checknonsingular",
      "   @ C:\\buildbot\\worker\\package_win64\\build\\usr\\share\\julia\\stdlib\\v1.6\\LinearAlgebra\\src\\factorization.jl:19 [inlined]",
      " [2] checknonsingular",
      "   @ C:\\buildbot\\worker\\package_win64\\build\\usr\\share\\julia\\stdlib\\v1.6\\LinearAlgebra\\src\\factorization.jl:21 [inlined]",
      " [3] #lu!#136",
      "   @ C:\\buildbot\\worker\\package_win64\\build\\usr\\share\\julia\\stdlib\\v1.6\\LinearAlgebra\\src\\lu.jl:85 [inlined]",
      " [4] #lu#140",
      "   @ C:\\buildbot\\worker\\package_win64\\build\\usr\\share\\julia\\stdlib\\v1.6\\LinearAlgebra\\src\\lu.jl:273 [inlined]",
      " [5] lu (repeats 2 times)",
      "   @ C:\\buildbot\\worker\\package_win64\\build\\usr\\share\\julia\\stdlib\\v1.6\\LinearAlgebra\\src\\lu.jl:272 [inlined]",
      " [6] \\(A::Matrix{Int64}, B::Vector{Int64})",
      "   @ LinearAlgebra C:\\buildbot\\worker\\package_win64\\build\\usr\\share\\julia\\stdlib\\v1.6\\LinearAlgebra\\src\\generic.jl:1136",
      " [7] top-level scope",
      "   @ In[142]:2",
      " [8] eval",
      "   @ .\\boot.jl:360 [inlined]",
      " [9] include_string(mapexpr::typeof(REPL.softscope), mod::Module, code::String, filename::String)",
      "   @ Base .\\loading.jl:1116"
     ]
    }
   ],
   "source": [
    "res = [1; 1]\n",
    "res = x\\y"
   ]
  },
  {
   "cell_type": "markdown",
   "id": "6f8b000c-7356-40f3-98f6-61c39b3f8557",
   "metadata": {},
   "source": [
    "c"
   ]
  },
  {
   "cell_type": "code",
   "execution_count": 143,
   "id": "0e920221-30c4-47bf-a44e-824f7952b0d4",
   "metadata": {
    "tags": []
   },
   "outputs": [
    {
     "data": {
      "text/plain": [
       "2×2 Matrix{Int64}:\n",
       " 1  1\n",
       " 2  2"
      ]
     },
     "execution_count": 143,
     "metadata": {},
     "output_type": "execute_result"
    }
   ],
   "source": [
    "x = [1 1;2 2]"
   ]
  },
  {
   "cell_type": "code",
   "execution_count": 144,
   "id": "c7069674-6e8d-4c75-b4f7-391f9250fb11",
   "metadata": {},
   "outputs": [
    {
     "data": {
      "text/plain": [
       "2-element Vector{Int64}:\n",
       " 2\n",
       " 5"
      ]
     },
     "execution_count": 144,
     "metadata": {},
     "output_type": "execute_result"
    }
   ],
   "source": [
    "y = [2; 5]"
   ]
  },
  {
   "cell_type": "code",
   "execution_count": 145,
   "id": "b5a29f44-5f5d-4b0e-b4b0-cc81fc6a2b78",
   "metadata": {
    "tags": []
   },
   "outputs": [
    {
     "ename": "LoadError",
     "evalue": "SingularException(2)",
     "output_type": "error",
     "traceback": [
      "SingularException(2)",
      "",
      "Stacktrace:",
      " [1] checknonsingular",
      "   @ C:\\buildbot\\worker\\package_win64\\build\\usr\\share\\julia\\stdlib\\v1.6\\LinearAlgebra\\src\\factorization.jl:19 [inlined]",
      " [2] checknonsingular",
      "   @ C:\\buildbot\\worker\\package_win64\\build\\usr\\share\\julia\\stdlib\\v1.6\\LinearAlgebra\\src\\factorization.jl:21 [inlined]",
      " [3] #lu!#136",
      "   @ C:\\buildbot\\worker\\package_win64\\build\\usr\\share\\julia\\stdlib\\v1.6\\LinearAlgebra\\src\\lu.jl:85 [inlined]",
      " [4] #lu#140",
      "   @ C:\\buildbot\\worker\\package_win64\\build\\usr\\share\\julia\\stdlib\\v1.6\\LinearAlgebra\\src\\lu.jl:273 [inlined]",
      " [5] lu (repeats 2 times)",
      "   @ C:\\buildbot\\worker\\package_win64\\build\\usr\\share\\julia\\stdlib\\v1.6\\LinearAlgebra\\src\\lu.jl:272 [inlined]",
      " [6] \\(A::Matrix{Int64}, B::Vector{Int64})",
      "   @ LinearAlgebra C:\\buildbot\\worker\\package_win64\\build\\usr\\share\\julia\\stdlib\\v1.6\\LinearAlgebra\\src\\generic.jl:1136",
      " [7] top-level scope",
      "   @ In[145]:2",
      " [8] eval",
      "   @ .\\boot.jl:360 [inlined]",
      " [9] include_string(mapexpr::typeof(REPL.softscope), mod::Module, code::String, filename::String)",
      "   @ Base .\\loading.jl:1116"
     ]
    }
   ],
   "source": [
    "res = [1; 1]\n",
    "res = x\\y"
   ]
  },
  {
   "cell_type": "markdown",
   "id": "e145f8b2-74fd-4ba5-b77c-1cf927d4b510",
   "metadata": {},
   "source": [
    "d"
   ]
  },
  {
   "cell_type": "code",
   "execution_count": 146,
   "id": "69fac6dc-df90-42c9-b5e9-7011607d1b65",
   "metadata": {},
   "outputs": [
    {
     "data": {
      "text/plain": [
       "3×2 Matrix{Int64}:\n",
       " 1  1\n",
       " 2  2\n",
       " 3  3"
      ]
     },
     "execution_count": 146,
     "metadata": {},
     "output_type": "execute_result"
    }
   ],
   "source": [
    "x = [1 1;2 2; 3 3]"
   ]
  },
  {
   "cell_type": "code",
   "execution_count": 147,
   "id": "5ffc1a03-1622-4cad-b52e-1a355aa6465b",
   "metadata": {},
   "outputs": [
    {
     "data": {
      "text/plain": [
       "3-element Vector{Int64}:\n",
       " 1\n",
       " 2\n",
       " 3"
      ]
     },
     "execution_count": 147,
     "metadata": {},
     "output_type": "execute_result"
    }
   ],
   "source": [
    "y = [1; 2; 3]"
   ]
  },
  {
   "cell_type": "code",
   "execution_count": 148,
   "id": "e365f023-458b-4f5d-9580-d8352259d024",
   "metadata": {},
   "outputs": [
    {
     "data": {
      "text/plain": [
       "2-element Vector{Float64}:\n",
       " 0.4999999999999999\n",
       " 0.5"
      ]
     },
     "execution_count": 148,
     "metadata": {},
     "output_type": "execute_result"
    }
   ],
   "source": [
    "res = [1; 1]\n",
    "res = x\\y"
   ]
  },
  {
   "cell_type": "markdown",
   "id": "22b99682-bb98-4bdd-b9fc-e8674efadf14",
   "metadata": {},
   "source": [
    "e)"
   ]
  },
  {
   "cell_type": "code",
   "execution_count": 149,
   "id": "3a4604b6-f2e5-4323-bdeb-e087c42394fa",
   "metadata": {},
   "outputs": [
    {
     "data": {
      "text/plain": [
       "2-element Vector{Float64}:\n",
       "  1.5000000000000004\n",
       " -0.9999999999999997"
      ]
     },
     "execution_count": 149,
     "metadata": {},
     "output_type": "execute_result"
    }
   ],
   "source": [
    "x = [1 1;2 1; 1 -1]\n",
    "y = [2; 1; 3]\n",
    "res = [1; 1]\n",
    "res = x\\y"
   ]
  },
  {
   "cell_type": "markdown",
   "id": "5833cee1-1483-4113-aa82-0c6b3c39a243",
   "metadata": {},
   "source": [
    "f)"
   ]
  },
  {
   "cell_type": "code",
   "execution_count": 150,
   "id": "cc8c0c0a-44a2-4176-bca4-0a636ef40622",
   "metadata": {},
   "outputs": [
    {
     "data": {
      "text/plain": [
       "2-element Vector{Float64}:\n",
       " -0.9999999999999989\n",
       "  2.9999999999999982"
      ]
     },
     "execution_count": 150,
     "metadata": {},
     "output_type": "execute_result"
    }
   ],
   "source": [
    "x = [1 1; 2 1; 3 2]\n",
    "y = [2; 1; 3]\n",
    "res = [1; 1]\n",
    "res = x\\y"
   ]
  },
  {
   "cell_type": "markdown",
   "id": "fd45b76a-6db2-40d0-b53a-a832db83dd7d",
   "metadata": {},
   "source": [
    "2. Решить СЛАУ с тремя неизвестными"
   ]
  },
  {
   "cell_type": "markdown",
   "id": "b49483ab-ab89-4895-850d-0ecf0b014b2a",
   "metadata": {},
   "source": [
    "a)"
   ]
  },
  {
   "cell_type": "code",
   "execution_count": 151,
   "id": "fad588a2-f3f5-4075-b81b-c69c18556c62",
   "metadata": {},
   "outputs": [
    {
     "data": {
      "text/plain": [
       "3-element Vector{Float64}:\n",
       "  2.2142857142857144\n",
       "  0.35714285714285704\n",
       " -0.5714285714285712"
      ]
     },
     "execution_count": 151,
     "metadata": {},
     "output_type": "execute_result"
    }
   ],
   "source": [
    "x = [1 1 1; 1 -1 -2]\n",
    "y = [2; 3]\n",
    "res = [1; 1; 1]\n",
    "res = x\\y"
   ]
  },
  {
   "cell_type": "markdown",
   "id": "241b4141-9767-4ee6-9a03-cdcea70cc374",
   "metadata": {},
   "source": [
    "b)"
   ]
  },
  {
   "cell_type": "code",
   "execution_count": 152,
   "id": "94f6a03e-cb73-4f30-ba30-396f2efb8207",
   "metadata": {
    "tags": []
   },
   "outputs": [
    {
     "data": {
      "text/plain": [
       "3-element Vector{Float64}:\n",
       " -0.5\n",
       "  2.5\n",
       "  0.0"
      ]
     },
     "execution_count": 152,
     "metadata": {},
     "output_type": "execute_result"
    }
   ],
   "source": [
    "x = [1 1 1; 2 2 -3; 3 1 1]\n",
    "y = [2; 4; 1]\n",
    "res = [1; 1; 1]\n",
    "res = x\\y"
   ]
  },
  {
   "cell_type": "markdown",
   "id": "7cdde9a3-8c04-48b6-8cc7-4d360cfa44d3",
   "metadata": {},
   "source": [
    "c)"
   ]
  },
  {
   "cell_type": "code",
   "execution_count": 153,
   "id": "c80e71dd-9473-4a54-9524-411b9b229c93",
   "metadata": {},
   "outputs": [
    {
     "ename": "LoadError",
     "evalue": "SingularException(2)",
     "output_type": "error",
     "traceback": [
      "SingularException(2)",
      "",
      "Stacktrace:",
      " [1] checknonsingular",
      "   @ C:\\buildbot\\worker\\package_win64\\build\\usr\\share\\julia\\stdlib\\v1.6\\LinearAlgebra\\src\\factorization.jl:19 [inlined]",
      " [2] checknonsingular",
      "   @ C:\\buildbot\\worker\\package_win64\\build\\usr\\share\\julia\\stdlib\\v1.6\\LinearAlgebra\\src\\factorization.jl:21 [inlined]",
      " [3] #lu!#136",
      "   @ C:\\buildbot\\worker\\package_win64\\build\\usr\\share\\julia\\stdlib\\v1.6\\LinearAlgebra\\src\\lu.jl:85 [inlined]",
      " [4] #lu#140",
      "   @ C:\\buildbot\\worker\\package_win64\\build\\usr\\share\\julia\\stdlib\\v1.6\\LinearAlgebra\\src\\lu.jl:273 [inlined]",
      " [5] lu (repeats 2 times)",
      "   @ C:\\buildbot\\worker\\package_win64\\build\\usr\\share\\julia\\stdlib\\v1.6\\LinearAlgebra\\src\\lu.jl:272 [inlined]",
      " [6] \\(A::Matrix{Int64}, B::Vector{Int64})",
      "   @ LinearAlgebra C:\\buildbot\\worker\\package_win64\\build\\usr\\share\\julia\\stdlib\\v1.6\\LinearAlgebra\\src\\generic.jl:1136",
      " [7] top-level scope",
      "   @ In[153]:4",
      " [8] eval",
      "   @ .\\boot.jl:360 [inlined]",
      " [9] include_string(mapexpr::typeof(REPL.softscope), mod::Module, code::String, filename::String)",
      "   @ Base .\\loading.jl:1116"
     ]
    }
   ],
   "source": [
    "x = [1 1 1; 1 1 2; 2 2 3]\n",
    "y = [1; 0; 1]\n",
    "res = [1; 1; 1]\n",
    "res = x\\y"
   ]
  },
  {
   "cell_type": "markdown",
   "id": "40c947d5-1b84-4ed7-abd0-19a0b3b37e93",
   "metadata": {},
   "source": [
    "d)"
   ]
  },
  {
   "cell_type": "code",
   "execution_count": 154,
   "id": "d8f688aa-9508-4980-8cf3-b9a8094b95c7",
   "metadata": {},
   "outputs": [
    {
     "ename": "LoadError",
     "evalue": "SingularException(2)",
     "output_type": "error",
     "traceback": [
      "SingularException(2)",
      "",
      "Stacktrace:",
      " [1] checknonsingular",
      "   @ C:\\buildbot\\worker\\package_win64\\build\\usr\\share\\julia\\stdlib\\v1.6\\LinearAlgebra\\src\\factorization.jl:19 [inlined]",
      " [2] checknonsingular",
      "   @ C:\\buildbot\\worker\\package_win64\\build\\usr\\share\\julia\\stdlib\\v1.6\\LinearAlgebra\\src\\factorization.jl:21 [inlined]",
      " [3] #lu!#136",
      "   @ C:\\buildbot\\worker\\package_win64\\build\\usr\\share\\julia\\stdlib\\v1.6\\LinearAlgebra\\src\\lu.jl:85 [inlined]",
      " [4] #lu#140",
      "   @ C:\\buildbot\\worker\\package_win64\\build\\usr\\share\\julia\\stdlib\\v1.6\\LinearAlgebra\\src\\lu.jl:273 [inlined]",
      " [5] lu (repeats 2 times)",
      "   @ C:\\buildbot\\worker\\package_win64\\build\\usr\\share\\julia\\stdlib\\v1.6\\LinearAlgebra\\src\\lu.jl:272 [inlined]",
      " [6] \\(A::Matrix{Int64}, B::Vector{Int64})",
      "   @ LinearAlgebra C:\\buildbot\\worker\\package_win64\\build\\usr\\share\\julia\\stdlib\\v1.6\\LinearAlgebra\\src\\generic.jl:1136",
      " [7] top-level scope",
      "   @ In[154]:4",
      " [8] eval",
      "   @ .\\boot.jl:360 [inlined]",
      " [9] include_string(mapexpr::typeof(REPL.softscope), mod::Module, code::String, filename::String)",
      "   @ Base .\\loading.jl:1116"
     ]
    }
   ],
   "source": [
    "x = [1 1 1; 1 1 2; 2 2 3]\n",
    "y = [1; 0; 0]\n",
    "res = [1; 1; 1]\n",
    "res = x\\y"
   ]
  },
  {
   "cell_type": "markdown",
   "id": "eec2e687-24f0-489f-97d9-65d913c387c8",
   "metadata": {
    "tags": []
   },
   "source": [
    "### Операции с матрицами."
   ]
  },
  {
   "cell_type": "markdown",
   "id": "ed3f69c6-8cd8-47d4-ac44-2441cec5a8cc",
   "metadata": {},
   "source": [
    "1. Приведите приведённые ниже матрицы к диагональному виду"
   ]
  },
  {
   "cell_type": "markdown",
   "id": "a2c26ccb-34b1-48ba-a13e-e3191a796241",
   "metadata": {},
   "source": [
    "a)"
   ]
  },
  {
   "cell_type": "code",
   "execution_count": 155,
   "id": "a3643fff-56bd-4040-933e-9301671889f3",
   "metadata": {},
   "outputs": [
    {
     "data": {
      "text/plain": [
       "2×2 Matrix{Int64}:\n",
       "  1  -2\n",
       " -2   1"
      ]
     },
     "execution_count": 155,
     "metadata": {},
     "output_type": "execute_result"
    }
   ],
   "source": [
    "x = [1 -2; -2 1]"
   ]
  },
  {
   "cell_type": "code",
   "execution_count": 156,
   "id": "5393d601-0c0a-494f-8246-9bfac29c1c42",
   "metadata": {
    "tags": []
   },
   "outputs": [
    {
     "data": {
      "text/plain": [
       "Eigen{Float64, Float64, Matrix{Float64}, Vector{Float64}}\n",
       "values:\n",
       "2-element Vector{Float64}:\n",
       " -1.0\n",
       "  3.0\n",
       "vectors:\n",
       "2×2 Matrix{Float64}:\n",
       " -0.707107  -0.707107\n",
       " -0.707107   0.707107"
      ]
     },
     "execution_count": 156,
     "metadata": {},
     "output_type": "execute_result"
    }
   ],
   "source": [
    "# Спектральное разложение симметризованной матрицы:\n",
    "AsymEig = eigen(x)"
   ]
  },
  {
   "cell_type": "code",
   "execution_count": 157,
   "id": "85cded40-1e43-4d59-9b51-d4bf9fcbb3f6",
   "metadata": {},
   "outputs": [
    {
     "data": {
      "text/plain": [
       "2-element Vector{Float64}:\n",
       " -1.0\n",
       "  3.0"
      ]
     },
     "execution_count": 157,
     "metadata": {},
     "output_type": "execute_result"
    }
   ],
   "source": [
    "# Собственные значения:\n",
    "AsymEig.values"
   ]
  },
  {
   "cell_type": "code",
   "execution_count": 158,
   "id": "58e8495d-6aaf-4598-9646-edb252d314d5",
   "metadata": {},
   "outputs": [
    {
     "data": {
      "text/plain": [
       "2×2 Diagonal{Float64, Vector{Float64}}:\n",
       " -1.0   ⋅ \n",
       "   ⋅   3.0"
      ]
     },
     "execution_count": 158,
     "metadata": {},
     "output_type": "execute_result"
    }
   ],
   "source": [
    "Diagonal(AsymEig.values)"
   ]
  },
  {
   "cell_type": "markdown",
   "id": "59ec23e6-8f20-47a5-adcb-dbe3ce94587a",
   "metadata": {},
   "source": [
    "b)"
   ]
  },
  {
   "cell_type": "code",
   "execution_count": 34,
   "id": "57677a41-9170-4769-a361-cd83a75c60ca",
   "metadata": {},
   "outputs": [
    {
     "data": {
      "text/plain": [
       "2×2 Matrix{Int64}:\n",
       "  1  -2\n",
       " -2   3"
      ]
     },
     "execution_count": 34,
     "metadata": {},
     "output_type": "execute_result"
    }
   ],
   "source": [
    "y = [1 -2; -2 3]"
   ]
  },
  {
   "cell_type": "code",
   "execution_count": 35,
   "id": "22c630b9-f73b-4174-86a9-de596aecba26",
   "metadata": {},
   "outputs": [
    {
     "data": {
      "text/plain": [
       "2×2 Diagonal{Float64, Vector{Float64}}:\n",
       " -0.236068   ⋅ \n",
       "   ⋅        4.23607"
      ]
     },
     "execution_count": 35,
     "metadata": {},
     "output_type": "execute_result"
    }
   ],
   "source": [
    "# Спектральное разложение симметризованной матрицы:\n",
    "AsymEig = eigen(y)\n",
    "# Собственные значения:\n",
    "AsymEig.values\n",
    "Diagonal(AsymEig.values)"
   ]
  },
  {
   "cell_type": "markdown",
   "id": "5f2dccc6-e2a2-4417-b878-e1ef8aa960dd",
   "metadata": {},
   "source": [
    "c)"
   ]
  },
  {
   "cell_type": "code",
   "execution_count": 37,
   "id": "f006b81a-de1f-4bf1-83dd-3b550372cce3",
   "metadata": {},
   "outputs": [
    {
     "data": {
      "text/plain": [
       "3×3 Matrix{Int64}:\n",
       "  1  -2  0\n",
       " -2   1  2\n",
       "  0   2  0"
      ]
     },
     "execution_count": 37,
     "metadata": {},
     "output_type": "execute_result"
    }
   ],
   "source": [
    "z = [1 -2 0; -2 1 2; 0 2 0]"
   ]
  },
  {
   "cell_type": "code",
   "execution_count": 38,
   "id": "b1c80c6a-df65-4756-a15c-5d022630af03",
   "metadata": {},
   "outputs": [
    {
     "data": {
      "text/plain": [
       "true"
      ]
     },
     "execution_count": 38,
     "metadata": {},
     "output_type": "execute_result"
    }
   ],
   "source": [
    "# Проверка, является ли матрица симметричной:\n",
    "issymmetric(z)"
   ]
  },
  {
   "cell_type": "code",
   "execution_count": 52,
   "id": "a955a03e-e89e-4c46-884d-1787f5ebe07e",
   "metadata": {},
   "outputs": [
    {
     "data": {
      "text/plain": [
       "3×3 Diagonal{Float64, Vector{Float64}}:\n",
       " -2.14134   ⋅         ⋅ \n",
       "   ⋅       0.515138   ⋅ \n",
       "   ⋅        ⋅        3.6262"
      ]
     },
     "execution_count": 52,
     "metadata": {},
     "output_type": "execute_result"
    }
   ],
   "source": [
    "# Спектральное разложение симметризованной матрицы:\n",
    "AsymEig = eigen(z)\n",
    "# Собственные значения:\n",
    "AsymEig.values\n",
    "Diagonal(AsymEig.values)"
   ]
  },
  {
   "cell_type": "markdown",
   "id": "4754486a-9349-4970-a83e-94097210a064",
   "metadata": {
    "tags": []
   },
   "source": [
    "2. Вычислите"
   ]
  },
  {
   "cell_type": "markdown",
   "id": "ce823ced-e12b-41d9-b4fc-19d5d675bd81",
   "metadata": {},
   "source": [
    "a)"
   ]
  },
  {
   "cell_type": "code",
   "execution_count": 41,
   "id": "1dac4749-c88d-4dde-81bf-59fbbad4cb25",
   "metadata": {
    "tags": []
   },
   "outputs": [
    {
     "data": {
      "text/plain": [
       "2×2 Matrix{Int64}:\n",
       "  1  -2\n",
       " -2   1"
      ]
     },
     "execution_count": 41,
     "metadata": {},
     "output_type": "execute_result"
    }
   ],
   "source": [
    "A = [1 -2; -2 1]"
   ]
  },
  {
   "cell_type": "code",
   "execution_count": 42,
   "id": "db89f354-aa52-4040-a1fc-dd36dbb85438",
   "metadata": {},
   "outputs": [
    {
     "data": {
      "text/plain": [
       "2×2 Matrix{Int64}:\n",
       "  29525  -29524\n",
       " -29524   29525"
      ]
     },
     "execution_count": 42,
     "metadata": {},
     "output_type": "execute_result"
    }
   ],
   "source": [
    "A^10"
   ]
  },
  {
   "cell_type": "markdown",
   "id": "6a7cb54d-262d-478f-b8c3-92c99758f93d",
   "metadata": {},
   "source": [
    "b)"
   ]
  },
  {
   "cell_type": "code",
   "execution_count": 43,
   "id": "67dcb9d8-46eb-4d1a-a85d-4e0b187f36d6",
   "metadata": {},
   "outputs": [
    {
     "data": {
      "text/plain": [
       "2×2 Matrix{Int64}:\n",
       "  5  -2\n",
       " -2   5"
      ]
     },
     "execution_count": 43,
     "metadata": {},
     "output_type": "execute_result"
    }
   ],
   "source": [
    "B = [5 -2; -2 5]"
   ]
  },
  {
   "cell_type": "markdown",
   "id": "7d46990a-ab7e-4469-b4f2-7a3afdfcb79f",
   "metadata": {},
   "source": [
    "\n"
   ]
  },
  {
   "cell_type": "code",
   "execution_count": 44,
   "id": "196a81ab-8685-4806-8350-7e1cac2e3f64",
   "metadata": {},
   "outputs": [
    {
     "data": {
      "text/plain": [
       "2×2 Matrix{Float64}:\n",
       "  2.1889   -0.45685\n",
       " -0.45685   2.1889"
      ]
     },
     "execution_count": 44,
     "metadata": {},
     "output_type": "execute_result"
    }
   ],
   "source": [
    "sqrt(B)"
   ]
  },
  {
   "cell_type": "markdown",
   "id": "28a20791-667a-40d2-b26f-9faada41112c",
   "metadata": {},
   "source": [
    "c)"
   ]
  },
  {
   "cell_type": "code",
   "execution_count": 45,
   "id": "bdfd9de6-97bf-4b04-9706-778207f08eed",
   "metadata": {},
   "outputs": [
    {
     "data": {
      "text/plain": [
       "2×2 Matrix{Int64}:\n",
       "  1  -2\n",
       " -2   1"
      ]
     },
     "execution_count": 45,
     "metadata": {},
     "output_type": "execute_result"
    }
   ],
   "source": [
    "C = [1 -2; -2 1]"
   ]
  },
  {
   "cell_type": "code",
   "execution_count": 48,
   "id": "db4b5528-9d4a-47f0-a8cb-3069aebce233",
   "metadata": {},
   "outputs": [
    {
     "data": {
      "text/plain": [
       "2×2 Symmetric{ComplexF64, Matrix{ComplexF64}}:\n",
       "  0.971125+0.433013im  -0.471125+0.433013im\n",
       " -0.471125+0.433013im   0.971125+0.433013im"
      ]
     },
     "execution_count": 48,
     "metadata": {},
     "output_type": "execute_result"
    }
   ],
   "source": [
    "C^(1/3)"
   ]
  },
  {
   "cell_type": "markdown",
   "id": "fb6a6f27-8a13-4bef-b300-4b86283d94ef",
   "metadata": {},
   "source": [
    "d)"
   ]
  },
  {
   "cell_type": "code",
   "execution_count": 49,
   "id": "10a52766-957a-4ea0-8a21-9f386d3f6084",
   "metadata": {},
   "outputs": [
    {
     "data": {
      "text/plain": [
       "2×2 Matrix{Int64}:\n",
       " 1  2\n",
       " 2  3"
      ]
     },
     "execution_count": 49,
     "metadata": {},
     "output_type": "execute_result"
    }
   ],
   "source": [
    "D = [1 2; 2 3]"
   ]
  },
  {
   "cell_type": "code",
   "execution_count": 50,
   "id": "fe229b6b-4d90-48fb-a581-e51ca387ca1f",
   "metadata": {},
   "outputs": [
    {
     "data": {
      "text/plain": [
       "2×2 Matrix{ComplexF64}:\n",
       " 0.568864+0.351578im  0.920442-0.217287im\n",
       " 0.920442-0.217287im   1.48931+0.134291im"
      ]
     },
     "execution_count": 50,
     "metadata": {},
     "output_type": "execute_result"
    }
   ],
   "source": [
    "sqrt(D)"
   ]
  },
  {
   "cell_type": "markdown",
   "id": "ddee5a7b-7933-4ff1-a681-1b90b2a6907d",
   "metadata": {},
   "source": [
    "3. Найдите собственные значения матрицы 𝐴, если"
   ]
  },
  {
   "cell_type": "code",
   "execution_count": 3,
   "id": "ba039e93-ed6a-4ec4-aa22-7b0bf0de1bcf",
   "metadata": {},
   "outputs": [
    {
     "data": {
      "text/plain": [
       "5×5 Matrix{Int64}:\n",
       " 140   97   74  168  131\n",
       "  97  106   89  131   36\n",
       "  74   89  152  144   71\n",
       " 168  131  144   54  142\n",
       " 131   36   71  142   36"
      ]
     },
     "execution_count": 3,
     "metadata": {},
     "output_type": "execute_result"
    }
   ],
   "source": [
    "A = [\n",
    "140 97 74 168 131;\n",
    "97 106 89 131 36;\n",
    "74 89 152 144 71;\n",
    "168 131 144 54 142;\n",
    "131 36 71 142 36]"
   ]
  },
  {
   "cell_type": "markdown",
   "id": "a7a4c63e-592b-45c6-98bb-707256424ae8",
   "metadata": {},
   "source": [
    "Создайте диагональную матрицу из собственных значений матрицы 𝐴. Создайте\n",
    "нижнедиагональную матрицу из матрица 𝐴. Оцените эффективность выполняемых\n",
    "операций."
   ]
  },
  {
   "cell_type": "code",
   "execution_count": 4,
   "id": "6d79755a-c8ad-49e8-93f6-b0e4df144e9a",
   "metadata": {},
   "outputs": [
    {
     "data": {
      "text/plain": [
       "true"
      ]
     },
     "execution_count": 4,
     "metadata": {},
     "output_type": "execute_result"
    }
   ],
   "source": [
    "# Проверка, является ли матрица симметричной:\n",
    "issymmetric(A)"
   ]
  },
  {
   "cell_type": "code",
   "execution_count": 5,
   "id": "ffd99455-0841-4ec0-8093-43ee3f99f856",
   "metadata": {
    "tags": []
   },
   "outputs": [
    {
     "data": {
      "text/plain": [
       "5×5 Diagonal{Float64, Vector{Float64}}:\n",
       " -128.493     ⋅        ⋅        ⋅         ⋅ \n",
       "     ⋅     -55.8878    ⋅        ⋅         ⋅ \n",
       "     ⋅        ⋅      42.7522    ⋅         ⋅ \n",
       "     ⋅        ⋅        ⋅      87.1611     ⋅ \n",
       "     ⋅        ⋅        ⋅        ⋅      542.468"
      ]
     },
     "execution_count": 5,
     "metadata": {},
     "output_type": "execute_result"
    }
   ],
   "source": [
    "# Спектральное разложение симметризованной матрицы:\n",
    "AsymEig = eigen(A)\n",
    "# Собственные значения:\n",
    "AsymEig.values\n",
    "Diagonal(AsymEig.values)"
   ]
  },
  {
   "cell_type": "code",
   "execution_count": 11,
   "id": "603777de-aa90-40b2-8baa-b8b9950edec7",
   "metadata": {},
   "outputs": [
    {
     "data": {
      "text/plain": [
       "5×5 Matrix{Float64}:\n",
       " 1.0        0.0        0.0       0.0       0.0\n",
       " 0.779762   1.0        0.0       0.0       0.0\n",
       " 0.440476  -0.47314    1.0       0.0       0.0\n",
       " 0.833333   0.183929  -0.556312  1.0       0.0\n",
       " 0.577381  -0.459012  -0.189658  0.897068  1.0"
      ]
     },
     "execution_count": 11,
     "metadata": {},
     "output_type": "execute_result"
    }
   ],
   "source": [
    "lu(A).L"
   ]
  },
  {
   "cell_type": "code",
   "execution_count": 17,
   "id": "da040fad-c013-4753-a8df-86b04055030b",
   "metadata": {},
   "outputs": [
    {
     "name": "stdout",
     "output_type": "stream",
     "text": [
      "  46.208 ns (1 allocation: 32 bytes)\n"
     ]
    }
   ],
   "source": [
    "# Оценка эффективности выполнения операции\n",
    "@btime AsymEig.values;"
   ]
  },
  {
   "cell_type": "code",
   "execution_count": 18,
   "id": "f6f4945d-57d5-480e-afd1-f914cc0cc435",
   "metadata": {},
   "outputs": [
    {
     "name": "stdout",
     "output_type": "stream",
     "text": [
      "  163.941 ns (2 allocations: 48 bytes)\n"
     ]
    }
   ],
   "source": [
    "# Оценка эффективности выполнения операции\n",
    "@btime Diagonal(AsymEig.values);"
   ]
  },
  {
   "cell_type": "code",
   "execution_count": 19,
   "id": "ce617724-86da-4447-ba08-d99ee775ee21",
   "metadata": {},
   "outputs": [
    {
     "name": "stdout",
     "output_type": "stream",
     "text": [
      "  880.952 ns (4 allocations: 736 bytes)\n"
     ]
    }
   ],
   "source": [
    "# Оценка эффективности выполнения операции\n",
    "@btime lu(A).L;"
   ]
  },
  {
   "cell_type": "code",
   "execution_count": null,
   "id": "93da26c1-decd-4806-9a58-2ea524e37314",
   "metadata": {},
   "outputs": [],
   "source": []
  },
  {
   "cell_type": "code",
   "execution_count": null,
   "id": "ee999e80-10a9-4efd-bcea-f871f6de55bf",
   "metadata": {},
   "outputs": [],
   "source": []
  },
  {
   "cell_type": "code",
   "execution_count": null,
   "id": "d04778a9-8231-4c29-84d0-86058ae08f23",
   "metadata": {},
   "outputs": [],
   "source": []
  },
  {
   "cell_type": "code",
   "execution_count": null,
   "id": "0be651e1-a7f7-4f3e-b893-8de454529cd4",
   "metadata": {},
   "outputs": [],
   "source": []
  },
  {
   "cell_type": "code",
   "execution_count": null,
   "id": "3f596296-c247-494e-be7e-ac5f28b56efa",
   "metadata": {},
   "outputs": [],
   "source": []
  },
  {
   "cell_type": "code",
   "execution_count": null,
   "id": "04ad64f4-4e60-4c46-bc88-a6205a09e2b0",
   "metadata": {},
   "outputs": [],
   "source": []
  },
  {
   "cell_type": "code",
   "execution_count": null,
   "id": "03bb76c3-017b-4f79-a592-581818df41f0",
   "metadata": {
    "tags": []
   },
   "outputs": [],
   "source": []
  }
 ],
 "metadata": {
  "kernelspec": {
   "display_name": "Julia 1.6.2",
   "language": "julia",
   "name": "julia-1.6"
  },
  "language_info": {
   "file_extension": ".jl",
   "mimetype": "application/julia",
   "name": "julia",
   "version": "1.6.2"
  }
 },
 "nbformat": 4,
 "nbformat_minor": 5
}
