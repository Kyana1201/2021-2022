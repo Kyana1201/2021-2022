{
 "cells": [
  {
   "cell_type": "markdown",
   "id": "071dfc59-7db4-4002-adb8-f449b261c75c",
   "metadata": {},
   "source": [
    "# Лабораторная работа №3"
   ]
  },
  {
   "cell_type": "markdown",
   "id": "70d0069c-e665-4b63-81b4-05813b788ac5",
   "metadata": {},
   "source": [
    "## Управляющие структуры"
   ]
  },
  {
   "cell_type": "markdown",
   "id": "6e51db40-f442-4770-b9b3-26cfa0c76179",
   "metadata": {},
   "source": [
    "### Предварительные сведения"
   ]
  },
  {
   "cell_type": "markdown",
   "id": "39b6d699-3744-4875-8d0b-1068ff3d2582",
   "metadata": {},
   "source": [
    "### 1. Циклы while и for"
   ]
  },
  {
   "cell_type": "markdown",
   "id": "532437b1-e678-4bd1-a1a2-8658e459fd08",
   "metadata": {},
   "source": [
    "Синтаксис **while**\\\n",
    "while <условие>\\\n",
    "<тело цикла>\\\n",
    "end"
   ]
  },
  {
   "cell_type": "code",
   "execution_count": 5,
   "id": "949aee96-833d-42d6-a32b-455a055215d5",
   "metadata": {},
   "outputs": [
    {
     "name": "stdout",
     "output_type": "stream",
     "text": [
      "1\n",
      "2\n",
      "3\n",
      "4\n",
      "5\n",
      "6\n",
      "7\n",
      "8\n",
      "9\n",
      "10\n"
     ]
    }
   ],
   "source": [
    "# пока n<10 прибавить к n единицу и распечатать значение:\n",
    "n = 0\n",
    "while n < 10\n",
    "    n += 1\n",
    "    println(n)\n",
    "end"
   ]
  },
  {
   "cell_type": "code",
   "execution_count": 6,
   "id": "d880c673-d9d4-4b6b-8263-26169b207162",
   "metadata": {},
   "outputs": [
    {
     "name": "stdout",
     "output_type": "stream",
     "text": [
      "Hi Ted, it's great to see you!\n",
      "Hi Robyn, it's great to see you!\n",
      "Hi Barney, it's great to see you!\n",
      "Hi Lily, it's great to see you!\n",
      "Hi Marshall, it's great to see you!\n"
     ]
    }
   ],
   "source": [
    "myfriends =  [\"Ted\", \"Robyn\", \"Barney\", \"Lily\", \"Marshall\"]\n",
    "\n",
    "i = 1\n",
    "while i <= length(myfriends)\n",
    "    friend = myfriends[i]\n",
    "    println(\"Hi $friend, it's great to see you!\")\n",
    "    i += 1\n",
    "end"
   ]
  },
  {
   "cell_type": "markdown",
   "id": "1f81a23d-199e-4c7b-9ad7-5abfd47a2c36",
   "metadata": {},
   "source": [
    "Синтаксис **for**\\\n",
    "for <переменная> in <диапазон>\\\n",
    "<тело цикла>\\\n",
    "end"
   ]
  },
  {
   "cell_type": "code",
   "execution_count": 7,
   "id": "fe1cdac8-9dfc-4603-8989-7896643c90da",
   "metadata": {},
   "outputs": [
    {
     "name": "stdout",
     "output_type": "stream",
     "text": [
      "1\n",
      "3\n",
      "5\n",
      "7\n",
      "9\n"
     ]
    }
   ],
   "source": [
    "for n in 1:2:10\n",
    "    println(n)\n",
    "end"
   ]
  },
  {
   "cell_type": "code",
   "execution_count": 8,
   "id": "13044ab0-61be-4dc8-b8c7-78b14d5be882",
   "metadata": {},
   "outputs": [
    {
     "name": "stdout",
     "output_type": "stream",
     "text": [
      "Hi Ted, it's great to see you!\n",
      "Hi Robyn, it's great to see you!\n",
      "Hi Barney, it's great to see you!\n",
      "Hi Lily, it's great to see you!\n",
      "Hi Marshall, it's great to see you!\n"
     ]
    }
   ],
   "source": [
    "myfrienda = [\"Ted\", \"Robyn\", \"Barney\", \"Lily\", \"Marshall\"]\n",
    " for friend in myfriends\n",
    "    println(\"Hi $friend, it's great to see you!\")\n",
    "end"
   ]
  },
  {
   "cell_type": "code",
   "execution_count": 10,
   "id": "f84ae2b3-494d-4b9a-9da6-bd088829191e",
   "metadata": {},
   "outputs": [
    {
     "data": {
      "text/plain": [
       "5×5 Matrix{Int64}:\n",
       " 0  0  0  0  0\n",
       " 0  0  0  0  0\n",
       " 0  0  0  0  0\n",
       " 0  0  0  0  0\n",
       " 0  0  0  0  0"
      ]
     },
     "execution_count": 10,
     "metadata": {},
     "output_type": "execute_result"
    }
   ],
   "source": [
    "# инициализация массива m x n из нулей:\n",
    "m, n = 5,5\n",
    "A = fill(0,(m,n))"
   ]
  },
  {
   "cell_type": "code",
   "execution_count": 12,
   "id": "85f7d8b4-7662-49d6-865c-3c4ae51a9a2f",
   "metadata": {},
   "outputs": [
    {
     "data": {
      "text/plain": [
       "5×5 Matrix{Int64}:\n",
       " 2  3  4  5   6\n",
       " 3  4  5  6   7\n",
       " 4  5  6  7   8\n",
       " 5  6  7  8   9\n",
       " 6  7  8  9  10"
      ]
     },
     "execution_count": 12,
     "metadata": {},
     "output_type": "execute_result"
    }
   ],
   "source": [
    "# формирование массива, в котором значение каждой записи\n",
    "# является суммой индексов строки и столбца:\n",
    "for i in 1:m\n",
    "    for j in 1:n\n",
    "    A[i, j] = i + j\n",
    "    end\n",
    "end\n",
    "A"
   ]
  },
  {
   "cell_type": "code",
   "execution_count": 14,
   "id": "f3911262-c8b9-4e0b-83f6-0704ef139a6a",
   "metadata": {},
   "outputs": [
    {
     "data": {
      "text/plain": [
       "5×5 Matrix{Int64}:\n",
       " 2  3  4  5   6\n",
       " 3  4  5  6   7\n",
       " 4  5  6  7   8\n",
       " 5  6  7  8   9\n",
       " 6  7  8  9  10"
      ]
     },
     "execution_count": 14,
     "metadata": {},
     "output_type": "execute_result"
    }
   ],
   "source": [
    "# инициализация массива m x n из нулей:\n",
    "B = fill(0, (m, n))\n",
    "for i in 1:m, j in 1:n\n",
    "    B[i, j] = i + j\n",
    "end\n",
    "B"
   ]
  },
  {
   "cell_type": "code",
   "execution_count": 15,
   "id": "35b3a55c-c6d2-4e67-b8ac-5b0f677ea6c8",
   "metadata": {},
   "outputs": [
    {
     "data": {
      "text/plain": [
       "5×5 Matrix{Int64}:\n",
       " 2  3  4  5   6\n",
       " 3  4  5  6   7\n",
       " 4  5  6  7   8\n",
       " 5  6  7  8   9\n",
       " 6  7  8  9  10"
      ]
     },
     "execution_count": 15,
     "metadata": {},
     "output_type": "execute_result"
    }
   ],
   "source": [
    "C = [i + j for i in 1:m, j in 1:n]\n",
    "C"
   ]
  },
  {
   "cell_type": "markdown",
   "id": "cbf93a86-2302-4474-98e8-edfb21e8c094",
   "metadata": {},
   "source": [
    "### 2. Условные выражения"
   ]
  },
  {
   "cell_type": "markdown",
   "id": "816b3a67-2516-4052-8017-8787641cdfe0",
   "metadata": {},
   "source": [
    "Синтаксис условных выражений **с ключевым словом**:\\\n",
    "if <условие 1>\\\n",
    "    <действие 1>\\\n",
    "elseif <условие 2>\\\n",
    "    <действие 2>\\\n",
    "else\\\n",
    "    <действие 3>\\\n",
    "end"
   ]
  },
  {
   "cell_type": "markdown",
   "id": "b2ea6435-65d0-44c6-ac88-135d1d08311a",
   "metadata": {},
   "source": [
    "Пусть для заданногочисла 𝑁 требуется вывести слово «Fizz», если 𝑁 делится на 3, «Buzz», если 𝑁 делится на 5, и «FizzBuzz», если 𝑁 делится на 15."
   ]
  },
  {
   "cell_type": "code",
   "execution_count": 19,
   "id": "e8843b17-3e30-4e4f-9250-da7555fe67e8",
   "metadata": {},
   "outputs": [
    {
     "name": "stdout",
     "output_type": "stream",
     "text": [
      "FizzBuzz\n"
     ]
    }
   ],
   "source": [
    "# используем `&&` для реализации операции \"AND\"\n",
    "# операция % вычисляет остаток от деления\n",
    "N = 30\n",
    "if (N % 3 == 0) && (N % 5 == 0)\n",
    "    println(\"FizzBuzz\")\n",
    "elseif N % 3 == 0\n",
    "    println(\"Fizz\")\n",
    "elseif N % 5 == 0\n",
    "    println(\"Buzz\")\n",
    "else\n",
    "    print(N)\n",
    "end"
   ]
  },
  {
   "cell_type": "markdown",
   "id": "a546a182-ae83-4517-bd68-567d45f3ff2b",
   "metadata": {},
   "source": [
    "Синтаксис условных выражений **с тернарными операторами**:\\\n",
    "a ? b : c\\\n",
    "(если выполнено a, то выполнить b, если нет, то c).\\\n",
    "\\\n",
    "Такая запись эквивалентна записи условного выражения с ключевым словом:\\\n",
    "if a\\\n",
    "b\\\n",
    "else\\\n",
    "c\\\n",
    "end"
   ]
  },
  {
   "cell_type": "code",
   "execution_count": 21,
   "id": "d0a90119-8e98-42a5-a802-324808580481",
   "metadata": {},
   "outputs": [
    {
     "data": {
      "text/plain": [
       "10"
      ]
     },
     "execution_count": 21,
     "metadata": {},
     "output_type": "execute_result"
    }
   ],
   "source": [
    "x = 5\n",
    "y = 10\n",
    "\n",
    "(x > y) ? x : y"
   ]
  },
  {
   "cell_type": "markdown",
   "id": "a22fffb4-b5ce-4ac3-8f1f-edd7f99ce172",
   "metadata": {},
   "source": [
    "### 3. Функции"
   ]
  },
  {
   "cell_type": "markdown",
   "id": "6680b739-c358-4ed1-8bd2-92ac295436b8",
   "metadata": {},
   "source": [
    "Первый способ задания функции требует ключевых слов **function** и **end**"
   ]
  },
  {
   "cell_type": "code",
   "execution_count": 32,
   "id": "1024e778-d505-4416-a39f-01612ebae02e",
   "metadata": {},
   "outputs": [
    {
     "data": {
      "text/plain": [
       "f (generic function with 1 method)"
      ]
     },
     "execution_count": 32,
     "metadata": {},
     "output_type": "execute_result"
    }
   ],
   "source": [
    "# функция возведения в квадрат:\n",
    "function sayhi(name)\n",
    "println(\"Hi $name, it's great to see you!\")\n",
    "end\n",
    "function f(x)\n",
    "    x^2\n",
    "end"
   ]
  },
  {
   "cell_type": "code",
   "execution_count": 33,
   "id": "ff488d6b-921c-4459-87c6-823c9e6db29e",
   "metadata": {},
   "outputs": [
    {
     "name": "stdout",
     "output_type": "stream",
     "text": [
      "Hi C-3PO, it's great to see you!\n"
     ]
    },
    {
     "data": {
      "text/plain": [
       "1764"
      ]
     },
     "execution_count": 33,
     "metadata": {},
     "output_type": "execute_result"
    }
   ],
   "source": [
    "sayhi(\"C-3PO\")\n",
    "f(42)"
   ]
  },
  {
   "cell_type": "markdown",
   "id": "2b7de9ea-75d4-4d06-bbe2-6a72d0ad425a",
   "metadata": {},
   "source": [
    "В качестве альтернативы, можно объявить любую из выше определённых функций **в одной строке**:"
   ]
  },
  {
   "cell_type": "code",
   "execution_count": 40,
   "id": "a9d4b12c-7294-4cda-8722-87d813b1b366",
   "metadata": {},
   "outputs": [
    {
     "data": {
      "text/plain": [
       "f2 (generic function with 1 method)"
      ]
     },
     "execution_count": 40,
     "metadata": {},
     "output_type": "execute_result"
    }
   ],
   "source": [
    "sayhi2(name) = println(\"Hi $name, it's great to see you!\")\n",
    "f2(x) = x^2"
   ]
  },
  {
   "cell_type": "code",
   "execution_count": 42,
   "id": "96520db3-c528-404b-b29a-49b588940907",
   "metadata": {},
   "outputs": [
    {
     "name": "stdout",
     "output_type": "stream",
     "text": [
      "Hi C-3PO, it's great to see you!\n"
     ]
    },
    {
     "data": {
      "text/plain": [
       "1764"
      ]
     },
     "execution_count": 42,
     "metadata": {},
     "output_type": "execute_result"
    }
   ],
   "source": [
    "sayhi2(\"C-3PO\")\n",
    "f(42)"
   ]
  },
  {
   "cell_type": "markdown",
   "id": "91b26d64-4baf-4ee3-8e19-1fb2b2edfda5",
   "metadata": {},
   "source": [
    "Наконец, можно объявить выше определённые функции как **«анонимные»**:"
   ]
  },
  {
   "cell_type": "code",
   "execution_count": 43,
   "id": "8a3cb7e8-15d2-4342-80d3-88e8304dbb27",
   "metadata": {},
   "outputs": [
    {
     "data": {
      "text/plain": [
       "#13 (generic function with 1 method)"
      ]
     },
     "execution_count": 43,
     "metadata": {},
     "output_type": "execute_result"
    }
   ],
   "source": [
    "sayhi3 = name -> println(\"Hi $name, it's great to see you!\")\n",
    "f3 = x -> x^2"
   ]
  },
  {
   "cell_type": "code",
   "execution_count": 44,
   "id": "0b3436d1-ac9e-4cc0-be4c-ccc846689f5f",
   "metadata": {},
   "outputs": [
    {
     "name": "stdout",
     "output_type": "stream",
     "text": [
      "Hi C-3PO, it's great to see you!\n"
     ]
    },
    {
     "data": {
      "text/plain": [
       "1764"
      ]
     },
     "execution_count": 44,
     "metadata": {},
     "output_type": "execute_result"
    }
   ],
   "source": [
    "sayhi3(\"C-3PO\")\n",
    "f(42)"
   ]
  },
  {
   "cell_type": "markdown",
   "id": "c853beb7-ce36-4f1f-a3b0-3aeab9b20fc3",
   "metadata": {},
   "source": [
    "**Функции, сопровождаемые восклицательным знаком**, изменяют свое содержимое, а функции без восклицательного знака не делают этого.\\\n",
    "\\\n",
    "Функция sort(v) возвращает отсортированный массив, который содержит те же элементы, что и массив v, но исходный массив v остаётся без изменений. Если же использовать sort!(v), то отсортировано будет содержимое исходного массива v."
   ]
  },
  {
   "cell_type": "code",
   "execution_count": 45,
   "id": "483617b7-17f3-40ed-b70e-41eea6d6b150",
   "metadata": {},
   "outputs": [
    {
     "data": {
      "text/plain": [
       "3-element Vector{Int64}:\n",
       " 3\n",
       " 5\n",
       " 2"
      ]
     },
     "execution_count": 45,
     "metadata": {},
     "output_type": "execute_result"
    }
   ],
   "source": [
    "# задаём массив v:\n",
    "v = [3, 5, 2]"
   ]
  },
  {
   "cell_type": "code",
   "execution_count": 46,
   "id": "abc9a2b9-6b31-4e42-8bfa-f54cca20f2b1",
   "metadata": {},
   "outputs": [
    {
     "data": {
      "text/plain": [
       "3-element Vector{Int64}:\n",
       " 3\n",
       " 5\n",
       " 2"
      ]
     },
     "execution_count": 46,
     "metadata": {},
     "output_type": "execute_result"
    }
   ],
   "source": [
    "sort(v)\n",
    "v"
   ]
  },
  {
   "cell_type": "code",
   "execution_count": 47,
   "id": "e36d4db0-e7f1-4465-9a63-92da26e70863",
   "metadata": {},
   "outputs": [
    {
     "data": {
      "text/plain": [
       "3-element Vector{Int64}:\n",
       " 2\n",
       " 3\n",
       " 5"
      ]
     },
     "execution_count": 47,
     "metadata": {},
     "output_type": "execute_result"
    }
   ],
   "source": [
    "sort!(v)\n",
    "v"
   ]
  },
  {
   "cell_type": "markdown",
   "id": "430f87c1-946e-4733-8624-5a47dbbda00b",
   "metadata": {},
   "source": [
    "**Функции высшего порядка** , принимает в качестве аргументов другие функции или возвращает другую функцию в качестве результата.\\\n",
    "Основная идея состоит в том, что функции имеют тот же статус, что и другие объекты данных."
   ]
  },
  {
   "cell_type": "markdown",
   "id": "e39bbcbb-f269-4f51-97ef-d14bd376710b",
   "metadata": {},
   "source": [
    "В Julia функция *map()* является функцией высшего порядка, которая принимает функцию в качестве одного из своих входных аргументов и применяет эту функцию к каждому элементу структуры данных, которая ей передаётся также в качестве аргумента."
   ]
  },
  {
   "cell_type": "code",
   "execution_count": 20,
   "id": "dfbd99c8-5ed1-4d0b-8ec8-6aa26d045256",
   "metadata": {},
   "outputs": [
    {
     "data": {
      "text/plain": [
       "3-element Vector{Int64}:\n",
       " 1\n",
       " 4\n",
       " 9"
      ]
     },
     "execution_count": 20,
     "metadata": {},
     "output_type": "execute_result"
    }
   ],
   "source": [
    "f(x) = x^2\n",
    "map(f, [1, 2, 3])"
   ]
  },
  {
   "cell_type": "code",
   "execution_count": 49,
   "id": "8711c6fe-119e-4791-88b3-f7dbd6d583fd",
   "metadata": {},
   "outputs": [
    {
     "data": {
      "text/plain": [
       "3-element Vector{Int64}:\n",
       "  1\n",
       "  8\n",
       " 27"
      ]
     },
     "execution_count": 49,
     "metadata": {},
     "output_type": "execute_result"
    }
   ],
   "source": [
    "x -> x^3\n",
    "map(x -> x^3, [1, 2, 3])"
   ]
  },
  {
   "cell_type": "code",
   "execution_count": 50,
   "id": "ca1d4b5e-7a8d-4704-9906-f940655a1cfd",
   "metadata": {},
   "outputs": [
    {
     "data": {
      "text/plain": [
       "3-element Vector{Int64}:\n",
       " 1\n",
       " 4\n",
       " 9"
      ]
     },
     "execution_count": 50,
     "metadata": {},
     "output_type": "execute_result"
    }
   ],
   "source": [
    "f(x) = x^2\n",
    "broadcast(f, [1, 2, 3])"
   ]
  },
  {
   "cell_type": "code",
   "execution_count": 51,
   "id": "f0dbf526-12e3-42eb-a6b8-14dd1e9f78e7",
   "metadata": {},
   "outputs": [
    {
     "data": {
      "text/plain": [
       "3-element Vector{Int64}:\n",
       " 1\n",
       " 4\n",
       " 9"
      ]
     },
     "execution_count": 51,
     "metadata": {},
     "output_type": "execute_result"
    }
   ],
   "source": [
    "f.([1, 2, 3])"
   ]
  },
  {
   "cell_type": "code",
   "execution_count": 52,
   "id": "07b51f1d-8132-4201-99c8-84118abe3042",
   "metadata": {},
   "outputs": [
    {
     "data": {
      "text/plain": [
       "3×3 Matrix{Int64}:\n",
       " 1  2  3\n",
       " 4  5  6\n",
       " 7  8  9"
      ]
     },
     "execution_count": 52,
     "metadata": {},
     "output_type": "execute_result"
    }
   ],
   "source": [
    "# Задаём матрицу A:\n",
    "A = [i + 3*j for j in 0:2, i in 1:3]"
   ]
  },
  {
   "cell_type": "code",
   "execution_count": 53,
   "id": "4592f5b9-5254-4512-bff7-85ef18b1295b",
   "metadata": {},
   "outputs": [
    {
     "data": {
      "text/plain": [
       "3×3 Matrix{Int64}:\n",
       "  30   36   42\n",
       "  66   81   96\n",
       " 102  126  150"
      ]
     },
     "execution_count": 53,
     "metadata": {},
     "output_type": "execute_result"
    }
   ],
   "source": [
    "# Вызываем функцию f возведения в квадрат\n",
    "f(A)"
   ]
  },
  {
   "cell_type": "code",
   "execution_count": 54,
   "id": "3850b652-1b64-4a6c-a083-931580caad73",
   "metadata": {},
   "outputs": [
    {
     "data": {
      "text/plain": [
       "3×3 Matrix{Int64}:\n",
       "  1   4   9\n",
       " 16  25  36\n",
       " 49  64  81"
      ]
     },
     "execution_count": 54,
     "metadata": {},
     "output_type": "execute_result"
    }
   ],
   "source": [
    "B = f.(A)"
   ]
  },
  {
   "cell_type": "code",
   "execution_count": 55,
   "id": "e944a6c8-62da-41e8-96d7-ec01c496b026",
   "metadata": {},
   "outputs": [
    {
     "data": {
      "text/plain": [
       "3×3 Matrix{Float64}:\n",
       "  3.0   6.0   9.0\n",
       " 12.0  15.0  18.0\n",
       " 21.0  24.0  27.0"
      ]
     },
     "execution_count": 55,
     "metadata": {},
     "output_type": "execute_result"
    }
   ],
   "source": [
    "A .+ 2 .* f.(A) ./ A"
   ]
  },
  {
   "cell_type": "code",
   "execution_count": 57,
   "id": "0377c8b3-557b-478e-a43b-ba05e8d7619b",
   "metadata": {
    "tags": []
   },
   "outputs": [
    {
     "data": {
      "text/plain": [
       "3×3 Matrix{Float64}:\n",
       "  3.0   6.0   9.0\n",
       " 12.0  15.0  18.0\n",
       " 21.0  24.0  27.0"
      ]
     },
     "execution_count": 57,
     "metadata": {},
     "output_type": "execute_result"
    }
   ],
   "source": [
    "@. A + 2 * f(A) / A"
   ]
  },
  {
   "cell_type": "code",
   "execution_count": 58,
   "id": "cada1143-f35b-4ed4-8fa3-c943e6a7d46e",
   "metadata": {},
   "outputs": [
    {
     "data": {
      "text/plain": [
       "3×3 Matrix{Float64}:\n",
       "  3.0   6.0   9.0\n",
       " 12.0  15.0  18.0\n",
       " 21.0  24.0  27.0"
      ]
     },
     "execution_count": 58,
     "metadata": {},
     "output_type": "execute_result"
    }
   ],
   "source": [
    "broadcast(x -> x + 2 * f(x) / x, A)"
   ]
  },
  {
   "cell_type": "markdown",
   "id": "4352f2b0-a627-41a5-8b0a-73e9e5dbeb87",
   "metadata": {},
   "source": [
    "### 4. Сторонние библиотеки (пакеты) в Julia"
   ]
  },
  {
   "cell_type": "code",
   "execution_count": 62,
   "id": "dbe986cb-baf7-4175-9637-5392e79688c8",
   "metadata": {},
   "outputs": [
    {
     "name": "stderr",
     "output_type": "stream",
     "text": [
      "\u001b[32m\u001b[1m   Resolving\u001b[22m\u001b[39m package versions...\n",
      "\u001b[32m\u001b[1m  No Changes\u001b[22m\u001b[39m to `C:\\Users\\khokh\\.julia\\environments\\v1.6\\Project.toml`\n",
      "\u001b[32m\u001b[1m  No Changes\u001b[22m\u001b[39m to `C:\\Users\\khokh\\.julia\\environments\\v1.6\\Manifest.toml`\n"
     ]
    }
   ],
   "source": [
    "Pkg.add(\"Colors\")\n",
    "using Colors"
   ]
  },
  {
   "cell_type": "code",
   "execution_count": 63,
   "id": "9963a2b5-bc14-4b7e-8e7e-0a674842543f",
   "metadata": {},
   "outputs": [
    {
     "data": {
      "image/svg+xml": [
       "<?xml version=\"1.0\" encoding=\"UTF-8\"?>\n",
       "<!DOCTYPE svg PUBLIC \"-//W3C//DTD SVG 1.1//EN\"\n",
       " \"http://www.w3.org/Graphics/SVG/1.1/DTD/svg11.dtd\">\n",
       "<svg xmlns=\"http://www.w3.org/2000/svg\" version=\"1.1\"\n",
       "     width=\"180mm\" height=\"25mm\"\n",
       "     viewBox=\"0 0 100 1\" preserveAspectRatio=\"none\"\n",
       "     shape-rendering=\"crispEdges\" stroke=\"none\">\n",
       "<rect width=\"1\" height=\".96\" x=\"0\" y=\"0\" fill=\"#000000\" />\n",
       "<rect width=\"1\" height=\".96\" x=\"1\" y=\"0\" fill=\"#FFFF74\" />\n",
       "<rect width=\"1\" height=\".96\" x=\"2\" y=\"0\" fill=\"#FF9BFF\" />\n",
       "<rect width=\"1\" height=\".96\" x=\"3\" y=\"0\" fill=\"#00D3FF\" />\n",
       "<rect width=\"1\" height=\".96\" x=\"4\" y=\"0\" fill=\"#E2630D\" />\n",
       "<rect width=\"1\" height=\".96\" x=\"5\" y=\"0\" fill=\"#007E00\" />\n",
       "<rect width=\"1\" height=\".96\" x=\"6\" y=\"0\" fill=\"#0050E6\" />\n",
       "<rect width=\"1\" height=\".96\" x=\"7\" y=\"0\" fill=\"#AC0047\" />\n",
       "<rect width=\"1\" height=\".96\" x=\"8\" y=\"0\" fill=\"#00FFC8\" />\n",
       "<rect width=\"1\" height=\".96\" x=\"9\" y=\"0\" fill=\"#006468\" />\n",
       "<rect width=\"1\" height=\".96\" x=\"10\" y=\"0\" fill=\"#FFD5C4\" />\n",
       "<rect width=\"1\" height=\".96\" x=\"11\" y=\"0\" fill=\"#6C5200\" />\n",
       "<rect width=\"1\" height=\".96\" x=\"12\" y=\"0\" fill=\"#7A7581\" />\n",
       "<rect width=\"1\" height=\".96\" x=\"13\" y=\"0\" fill=\"#44005C\" />\n",
       "<rect width=\"1\" height=\".96\" x=\"14\" y=\"0\" fill=\"#9E9E77\" />\n",
       "<rect width=\"1\" height=\".96\" x=\"15\" y=\"0\" fill=\"#FF5C78\" />\n",
       "<rect width=\"1\" height=\".96\" x=\"16\" y=\"0\" fill=\"#8197F1\" />\n",
       "<rect width=\"1\" height=\".96\" x=\"17\" y=\"0\" fill=\"#003200\" />\n",
       "<rect width=\"1\" height=\".96\" x=\"18\" y=\"0\" fill=\"#C721DD\" />\n",
       "<rect width=\"1\" height=\".96\" x=\"19\" y=\"0\" fill=\"#FFAD07\" />\n",
       "<rect width=\"1\" height=\".96\" x=\"20\" y=\"0\" fill=\"#611C00\" />\n",
       "<rect width=\"1\" height=\".96\" x=\"21\" y=\"0\" fill=\"#F3FFFA\" />\n",
       "<rect width=\"1\" height=\".96\" x=\"22\" y=\"0\" fill=\"#009E88\" />\n",
       "<rect width=\"1\" height=\".96\" x=\"23\" y=\"0\" fill=\"#5EC700\" />\n",
       "<rect width=\"1\" height=\".96\" x=\"24\" y=\"0\" fill=\"#002D54\" />\n",
       "<rect width=\"1\" height=\".96\" x=\"25\" y=\"0\" fill=\"#553C4A\" />\n",
       "<rect width=\"1\" height=\".96\" x=\"26\" y=\"0\" fill=\"#444439\" />\n",
       "<rect width=\"1\" height=\".96\" x=\"27\" y=\"0\" fill=\"#008FB6\" />\n",
       "<rect width=\"1\" height=\".96\" x=\"28\" y=\"0\" fill=\"#CFD4FD\" />\n",
       "<rect width=\"1\" height=\".96\" x=\"29\" y=\"0\" fill=\"#C40000\" />\n",
       "<rect width=\"1\" height=\".96\" x=\"30\" y=\"0\" fill=\"#A4675C\" />\n",
       "<rect width=\"1\" height=\".96\" x=\"31\" y=\"0\" fill=\"#BB8FA8\" />\n",
       "<rect width=\"1\" height=\".96\" x=\"32\" y=\"0\" fill=\"#290001\" />\n",
       "<rect width=\"1\" height=\".96\" x=\"33\" y=\"0\" fill=\"#A78600\" />\n",
       "<rect width=\"1\" height=\".96\" x=\"34\" y=\"0\" fill=\"#002D30\" />\n",
       "<rect width=\"1\" height=\".96\" x=\"35\" y=\"0\" fill=\"#C7DEAA\" />\n",
       "<rect width=\"1\" height=\".96\" x=\"36\" y=\"0\" fill=\"#8D9FA3\" />\n",
       "<rect width=\"1\" height=\".96\" x=\"37\" y=\"0\" fill=\"#6F5B95\" />\n",
       "<rect width=\"1\" height=\".96\" x=\"38\" y=\"0\" fill=\"#A1FFFF\" />\n",
       "<rect width=\"1\" height=\".96\" x=\"39\" y=\"0\" fill=\"#B39688\" />\n",
       "<rect width=\"1\" height=\".96\" x=\"40\" y=\"0\" fill=\"#4E6D50\" />\n",
       "<rect width=\"1\" height=\".96\" x=\"41\" y=\"0\" fill=\"#FF977B\" />\n",
       "<rect width=\"1\" height=\".96\" x=\"42\" y=\"0\" fill=\"#FFD1EC\" />\n",
       "<rect width=\"1\" height=\".96\" x=\"43\" y=\"0\" fill=\"#9E5100\" />\n",
       "<rect width=\"1\" height=\".96\" x=\"44\" y=\"0\" fill=\"#AE5B8E\" />\n",
       "<rect width=\"1\" height=\".96\" x=\"45\" y=\"0\" fill=\"#799400\" />\n",
       "<rect width=\"1\" height=\".96\" x=\"46\" y=\"0\" fill=\"#362200\" />\n",
       "<rect width=\"1\" height=\".96\" x=\"47\" y=\"0\" fill=\"#0E0026\" />\n",
       "<rect width=\"1\" height=\".96\" x=\"48\" y=\"0\" fill=\"#80765F\" />\n",
       "<rect width=\"1\" height=\".96\" x=\"49\" y=\"0\" fill=\"#485C00\" />\n",
       "<rect width=\"1\" height=\".96\" x=\"50\" y=\"0\" fill=\"#C8C2B5\" />\n",
       "<rect width=\"1\" height=\".96\" x=\"51\" y=\"0\" fill=\"#8800A1\" />\n",
       "<rect width=\"1\" height=\".96\" x=\"52\" y=\"0\" fill=\"#00A853\" />\n",
       "<rect width=\"1\" height=\".96\" x=\"53\" y=\"0\" fill=\"#FFE1AA\" />\n",
       "<rect width=\"1\" height=\".96\" x=\"54\" y=\"0\" fill=\"#674F42\" />\n",
       "<rect width=\"1\" height=\".96\" x=\"55\" y=\"0\" fill=\"#FF342D\" />\n",
       "<rect width=\"1\" height=\".96\" x=\"56\" y=\"0\" fill=\"#6B0041\" />\n",
       "<rect width=\"1\" height=\".96\" x=\"57\" y=\"0\" fill=\"#0806B1\" />\n",
       "<rect width=\"1\" height=\".96\" x=\"58\" y=\"0\" fill=\"#986DFF\" />\n",
       "<rect width=\"1\" height=\".96\" x=\"59\" y=\"0\" fill=\"#FF4EC7\" />\n",
       "<rect width=\"1\" height=\".96\" x=\"60\" y=\"0\" fill=\"#8AB9A2\" />\n",
       "<rect width=\"1\" height=\".96\" x=\"61\" y=\"0\" fill=\"#2EFF71\" />\n",
       "<rect width=\"1\" height=\".96\" x=\"62\" y=\"0\" fill=\"#005577\" />\n",
       "<rect width=\"1\" height=\".96\" x=\"63\" y=\"0\" fill=\"#0078E3\" />\n",
       "<rect width=\"1\" height=\".96\" x=\"64\" y=\"0\" fill=\"#B2ADB9\" />\n",
       "<rect width=\"1\" height=\".96\" x=\"65\" y=\"0\" fill=\"#00C3C6\" />\n",
       "<rect width=\"1\" height=\".96\" x=\"66\" y=\"0\" fill=\"#00AEFF\" />\n",
       "<rect width=\"1\" height=\".96\" x=\"67\" y=\"0\" fill=\"#4E545F\" />\n",
       "<rect width=\"1\" height=\".96\" x=\"68\" y=\"0\" fill=\"#FF9BB0\" />\n",
       "<rect width=\"1\" height=\".96\" x=\"69\" y=\"0\" fill=\"#FED206\" />\n",
       "<rect width=\"1\" height=\".96\" x=\"70\" y=\"0\" fill=\"#687B7A\" />\n",
       "<rect width=\"1\" height=\".96\" x=\"71\" y=\"0\" fill=\"#B1DCFC\" />\n",
       "<rect width=\"1\" height=\".96\" x=\"72\" y=\"0\" fill=\"#FFF6FF\" />\n",
       "<rect width=\"1\" height=\".96\" x=\"73\" y=\"0\" fill=\"#620019\" />\n",
       "<rect width=\"1\" height=\".96\" x=\"74\" y=\"0\" fill=\"#C79253\" />\n",
       "<rect width=\"1\" height=\".96\" x=\"75\" y=\"0\" fill=\"#A891CF\" />\n",
       "<rect width=\"1\" height=\".96\" x=\"76\" y=\"0\" fill=\"#EF007A\" />\n",
       "<rect width=\"1\" height=\".96\" x=\"77\" y=\"0\" fill=\"#B8CE00\" />\n",
       "<rect width=\"1\" height=\".96\" x=\"78\" y=\"0\" fill=\"#001700\" />\n",
       "<rect width=\"1\" height=\".96\" x=\"79\" y=\"0\" fill=\"#204B39\" />\n",
       "<rect width=\"1\" height=\".96\" x=\"80\" y=\"0\" fill=\"#875866\" />\n",
       "<rect width=\"1\" height=\".96\" x=\"81\" y=\"0\" fill=\"#B5FF4E\" />\n",
       "<rect width=\"1\" height=\".96\" x=\"82\" y=\"0\" fill=\"#B40080\" />\n",
       "<rect width=\"1\" height=\".96\" x=\"83\" y=\"0\" fill=\"#853F34\" />\n",
       "<rect width=\"1\" height=\".96\" x=\"84\" y=\"0\" fill=\"#69936B\" />\n",
       "<rect width=\"1\" height=\".96\" x=\"85\" y=\"0\" fill=\"#FFBC80\" />\n",
       "<rect width=\"1\" height=\".96\" x=\"86\" y=\"0\" fill=\"#4C3779\" />\n",
       "<rect width=\"1\" height=\".96\" x=\"87\" y=\"0\" fill=\"#323606\" />\n",
       "<rect width=\"1\" height=\".96\" x=\"88\" y=\"0\" fill=\"#008E94\" />\n",
       "<rect width=\"1\" height=\".96\" x=\"89\" y=\"0\" fill=\"#CAAC51\" />\n",
       "<rect width=\"1\" height=\".96\" x=\"90\" y=\"0\" fill=\"#787B3B\" />\n",
       "<rect width=\"1\" height=\".96\" x=\"91\" y=\"0\" fill=\"#B6F9D9\" />\n",
       "<rect width=\"1\" height=\".96\" x=\"92\" y=\"0\" fill=\"#DA003F\" />\n",
       "<rect width=\"1\" height=\".96\" x=\"93\" y=\"0\" fill=\"#2E2124\" />\n",
       "<rect width=\"1\" height=\".96\" x=\"94\" y=\"0\" fill=\"#005815\" />\n",
       "<rect width=\"1\" height=\".96\" x=\"95\" y=\"0\" fill=\"#FF8E1D\" />\n",
       "<rect width=\"1\" height=\".96\" x=\"96\" y=\"0\" fill=\"#6674B1\" />\n",
       "<rect width=\"1\" height=\".96\" x=\"97\" y=\"0\" fill=\"#00CDAD\" />\n",
       "<rect width=\"1\" height=\".96\" x=\"98\" y=\"0\" fill=\"#007F63\" />\n",
       "<rect width=\"1\" height=\".96\" x=\"99\" y=\"0\" fill=\"#996F3D\" />\n",
       "</svg>"
      ],
      "text/plain": [
       "100-element Array{RGB{N0f8},1} with eltype RGB{FixedPointNumbers.N0f8}:\n",
       " RGB{N0f8}(0.0,0.0,0.0)\n",
       " RGB{N0f8}(1.0,1.0,0.455)\n",
       " RGB{N0f8}(1.0,0.608,1.0)\n",
       " RGB{N0f8}(0.0,0.827,1.0)\n",
       " RGB{N0f8}(0.886,0.388,0.051)\n",
       " RGB{N0f8}(0.0,0.494,0.0)\n",
       " RGB{N0f8}(0.0,0.314,0.902)\n",
       " RGB{N0f8}(0.675,0.0,0.278)\n",
       " RGB{N0f8}(0.0,1.0,0.784)\n",
       " RGB{N0f8}(0.0,0.392,0.408)\n",
       " RGB{N0f8}(1.0,0.835,0.769)\n",
       " RGB{N0f8}(0.424,0.322,0.0)\n",
       " RGB{N0f8}(0.478,0.459,0.506)\n",
       " ⋮\n",
       " RGB{N0f8}(0.0,0.557,0.58)\n",
       " RGB{N0f8}(0.792,0.675,0.318)\n",
       " RGB{N0f8}(0.471,0.482,0.231)\n",
       " RGB{N0f8}(0.714,0.976,0.851)\n",
       " RGB{N0f8}(0.855,0.0,0.247)\n",
       " RGB{N0f8}(0.18,0.129,0.141)\n",
       " RGB{N0f8}(0.0,0.345,0.082)\n",
       " RGB{N0f8}(1.0,0.557,0.114)\n",
       " RGB{N0f8}(0.4,0.455,0.694)\n",
       " RGB{N0f8}(0.0,0.804,0.678)\n",
       " RGB{N0f8}(0.0,0.498,0.388)\n",
       " RGB{N0f8}(0.6,0.435,0.239)"
      ]
     },
     "execution_count": 63,
     "metadata": {},
     "output_type": "execute_result"
    }
   ],
   "source": [
    "palette = distinguishable_colors(100)"
   ]
  },
  {
   "cell_type": "code",
   "execution_count": 64,
   "id": "ee7e5037-d1f0-47b9-9780-100f1b5103ea",
   "metadata": {},
   "outputs": [
    {
     "data": {
      "image/svg+xml": [
       "<?xml version=\"1.0\" encoding=\"UTF-8\"?>\n",
       "<!DOCTYPE svg PUBLIC \"-//W3C//DTD SVG 1.1//EN\"\n",
       " \"http://www.w3.org/Graphics/SVG/1.1/DTD/svg11.dtd\">\n",
       "<svg xmlns=\"http://www.w3.org/2000/svg\" version=\"1.1\"\n",
       "     width=\"75mm\" height=\"75mm\"\n",
       "     viewBox=\"0 0 3 3\" preserveAspectRatio=\"none\"\n",
       "     shape-rendering=\"crispEdges\" stroke=\"none\">\n",
       "<rect width=\".96\" height=\".96\" x=\"0\" y=\"0\" fill=\"#005577\" />\n",
       "<rect width=\".96\" height=\".96\" x=\"1\" y=\"0\" fill=\"#553C4A\" />\n",
       "<rect width=\".96\" height=\".96\" x=\"2\" y=\"0\" fill=\"#853F34\" />\n",
       "<rect width=\".96\" height=\".96\" x=\"0\" y=\"1\" fill=\"#8D9FA3\" />\n",
       "<rect width=\".96\" height=\".96\" x=\"1\" y=\"1\" fill=\"#00A853\" />\n",
       "<rect width=\".96\" height=\".96\" x=\"2\" y=\"1\" fill=\"#C721DD\" />\n",
       "<rect width=\".96\" height=\".96\" x=\"0\" y=\"2\" fill=\"#C8C2B5\" />\n",
       "<rect width=\".96\" height=\".96\" x=\"1\" y=\"2\" fill=\"#853F34\" />\n",
       "<rect width=\".96\" height=\".96\" x=\"2\" y=\"2\" fill=\"#9E9E77\" />\n",
       "</svg>"
      ],
      "text/plain": [
       "3×3 Array{RGB{N0f8},2} with eltype RGB{FixedPointNumbers.N0f8}:\n",
       " RGB{N0f8}(0.0,0.333,0.467)    …  RGB{N0f8}(0.522,0.247,0.204)\n",
       " RGB{N0f8}(0.553,0.624,0.639)     RGB{N0f8}(0.78,0.129,0.867)\n",
       " RGB{N0f8}(0.784,0.761,0.71)      RGB{N0f8}(0.62,0.62,0.467)"
      ]
     },
     "execution_count": 64,
     "metadata": {},
     "output_type": "execute_result"
    }
   ],
   "source": [
    "rand(palette, 3, 3)"
   ]
  },
  {
   "cell_type": "markdown",
   "id": "c2533765-85f0-4ca4-9823-306a9936c3ee",
   "metadata": {},
   "source": [
    "## Задания для самостоятельного выполнения"
   ]
  },
  {
   "cell_type": "markdown",
   "id": "ce118944-4373-4869-ae19-222662155f6b",
   "metadata": {},
   "source": [
    "### 1. Используя циклы while и for:"
   ]
  },
  {
   "cell_type": "markdown",
   "id": "5dcddd8c-13fb-4619-8bbe-5deb752ae83f",
   "metadata": {},
   "source": [
    "– выведите на экран целые числа от 1 до 100 и напечатайте их квадраты;"
   ]
  },
  {
   "cell_type": "code",
   "execution_count": 4,
   "id": "da697266-14b0-41dd-a5fb-28cf07bd8702",
   "metadata": {
    "tags": []
   },
   "outputs": [
    {
     "name": "stdout",
     "output_type": "stream",
     "text": [
      "1-1 2-4 3-9 4-16 5-25 6-36 7-49 8-64 9-81 10-100 11-121 12-144 13-169 14-196 15-225 16-256 17-289 18-324 19-361 20-400 21-441 22-484 23-529 24-576 25-625 26-676 27-729 28-784 29-841 30-900 31-961 32-1024 33-1089 34-1156 35-1225 36-1296 37-1369 38-1444 39-1521 40-1600 41-1681 42-1764 43-1849 44-1936 45-2025 46-2116 47-2209 48-2304 49-2401 50-2500 51-2601 52-2704 53-2809 54-2916 55-3025 56-3136 57-3249 58-3364 59-3481 60-3600 61-3721 62-3844 63-3969 64-4096 65-4225 66-4356 67-4489 68-4624 69-4761 70-4900 71-5041 72-5184 73-5329 74-5476 75-5625 76-5776 77-5929 78-6084 79-6241 80-6400 81-6561 82-6724 83-6889 84-7056 85-7225 86-7396 87-7569 88-7744 89-7921 90-8100 91-8281 92-8464 93-8649 94-8836 95-9025 96-9216 97-9409 98-9604 99-9801 100-10000 "
     ]
    }
   ],
   "source": [
    "n = 0\n",
    "while n < 100\n",
    "    n += 1\n",
    "    print(n, \"-\", n^2, \" \")\n",
    "end"
   ]
  },
  {
   "cell_type": "code",
   "execution_count": 23,
   "id": "230826e9-5cdd-4964-9e35-4f26ee9256b1",
   "metadata": {},
   "outputs": [
    {
     "name": "stdout",
     "output_type": "stream",
     "text": [
      "1-1 2-4 3-9 4-16 5-25 6-36 7-49 8-64 9-81 10-100 11-121 12-144 13-169 14-196 15-225 16-256 17-289 18-324 19-361 20-400 21-441 22-484 23-529 24-576 25-625 26-676 27-729 28-784 29-841 30-900 31-961 32-1024 33-1089 34-1156 35-1225 36-1296 37-1369 38-1444 39-1521 40-1600 41-1681 42-1764 43-1849 44-1936 45-2025 46-2116 47-2209 48-2304 49-2401 50-2500 51-2601 52-2704 53-2809 54-2916 55-3025 56-3136 57-3249 58-3364 59-3481 60-3600 61-3721 62-3844 63-3969 64-4096 65-4225 66-4356 67-4489 68-4624 69-4761 70-4900 71-5041 72-5184 73-5329 74-5476 75-5625 76-5776 77-5929 78-6084 79-6241 80-6400 81-6561 82-6724 83-6889 84-7056 85-7225 86-7396 87-7569 88-7744 89-7921 90-8100 91-8281 92-8464 93-8649 94-8836 95-9025 96-9216 97-9409 98-9604 99-9801 100-10000 "
     ]
    }
   ],
   "source": [
    "n = 0\n",
    "for n in 1:100\n",
    "    print(n, \"-\", n^2, \" \")\n",
    "    n += 1\n",
    "end "
   ]
  },
  {
   "cell_type": "markdown",
   "id": "042f3af3-43aa-4234-8020-57298ad5110b",
   "metadata": {},
   "source": [
    "– создайте словарь squares, который будет содержать целые числа в качестве ключей и квадраты в качестве их пар-значений;"
   ]
  },
  {
   "cell_type": "code",
   "execution_count": 11,
   "id": "22e18d73-3611-4944-838b-409c969a477f",
   "metadata": {
    "tags": []
   },
   "outputs": [
    {
     "data": {
      "text/plain": [
       "Dict{Int64, Int64} with 10 entries:\n",
       "  5  => 25\n",
       "  4  => 16\n",
       "  6  => 36\n",
       "  7  => 49\n",
       "  2  => 4\n",
       "  10 => 100\n",
       "  9  => 81\n",
       "  8  => 64\n",
       "  3  => 9\n",
       "  1  => 1"
      ]
     },
     "execution_count": 11,
     "metadata": {},
     "output_type": "execute_result"
    }
   ],
   "source": [
    "squares = Dict((n, n^2) for n in 1:10)"
   ]
  },
  {
   "cell_type": "code",
   "execution_count": null,
   "id": "f58678aa-8e13-4d1b-a8d3-aece0d06e745",
   "metadata": {},
   "outputs": [],
   "source": []
  },
  {
   "cell_type": "markdown",
   "id": "cee798c6-8988-4590-9290-472bc74d6e7a",
   "metadata": {},
   "source": [
    "– создайте массив squares_arr, содержащий квадраты всех чисел от 1 до 100."
   ]
  },
  {
   "cell_type": "code",
   "execution_count": 16,
   "id": "4a0a3db8-f42a-4c6e-b7d7-81da7fa4a568",
   "metadata": {},
   "outputs": [
    {
     "data": {
      "text/plain": [
       "100-element Vector{Int64}:\n",
       "     1\n",
       "     4\n",
       "     9\n",
       "    16\n",
       "    25\n",
       "    36\n",
       "    49\n",
       "    64\n",
       "    81\n",
       "   100\n",
       "   121\n",
       "   144\n",
       "   169\n",
       "     ⋮\n",
       "  7921\n",
       "  8100\n",
       "  8281\n",
       "  8464\n",
       "  8649\n",
       "  8836\n",
       "  9025\n",
       "  9216\n",
       "  9409\n",
       "  9604\n",
       "  9801\n",
       " 10000"
      ]
     },
     "execution_count": 16,
     "metadata": {},
     "output_type": "execute_result"
    }
   ],
   "source": [
    "squares_arr = [n^2 for n in 1:100]"
   ]
  },
  {
   "cell_type": "markdown",
   "id": "158aa681-52ba-4b8c-bb9b-770bda8a1247",
   "metadata": {},
   "source": [
    "### 2. Напишите условный оператор, который печатает число, если число чётное, и строку «нечётное», если число нечётное. Перепишите код, используя тернарный оператор."
   ]
  },
  {
   "cell_type": "code",
   "execution_count": 2,
   "id": "723a70b4-18fd-4c15-9e75-d28f0f6c40da",
   "metadata": {},
   "outputs": [
    {
     "name": "stdout",
     "output_type": "stream",
     "text": [
      "4"
     ]
    }
   ],
   "source": [
    "Number = 4\n",
    "if (Number % 2 == 0)\n",
    "    print(Number)\n",
    "else\n",
    "    print(\"Нечетное\")\n",
    "end"
   ]
  },
  {
   "cell_type": "code",
   "execution_count": 3,
   "id": "0b7739a7-aead-43f4-954d-366fac359f39",
   "metadata": {},
   "outputs": [
    {
     "name": "stdout",
     "output_type": "stream",
     "text": [
      "Нечетное"
     ]
    }
   ],
   "source": [
    "num = 3\n",
    "(num % 2 == 0) ? print(num) : print(\"Нечетное\")"
   ]
  },
  {
   "cell_type": "markdown",
   "id": "75be9ac0-a03f-47e2-a1d0-5ec3967ab4b4",
   "metadata": {},
   "source": [
    "### 3. Напишите функцию add_one, которая добавляет 1 к своему входу."
   ]
  },
  {
   "cell_type": "code",
   "execution_count": 5,
   "id": "5393d601-0c0a-494f-8246-9bfac29c1c42",
   "metadata": {},
   "outputs": [
    {
     "data": {
      "text/plain": [
       "6"
      ]
     },
     "execution_count": 5,
     "metadata": {},
     "output_type": "execute_result"
    }
   ],
   "source": [
    "function add_one(x)\n",
    "    x += 1\n",
    "end\n",
    "add_one(5)"
   ]
  },
  {
   "cell_type": "markdown",
   "id": "4754486a-9349-4970-a83e-94097210a064",
   "metadata": {
    "tags": []
   },
   "source": [
    "### 4. Используйте map() или broadcast() для задания матрицы 𝐴, каждый элемент которой увеличивается на единицу по сравнению с предыдущим."
   ]
  },
  {
   "cell_type": "code",
   "execution_count": 30,
   "id": "1dac4749-c88d-4dde-81bf-59fbbad4cb25",
   "metadata": {
    "tags": []
   },
   "outputs": [
    {
     "data": {
      "text/plain": [
       "3×4 Matrix{Float64}:\n",
       " 1.0   2.0   3.0   4.0\n",
       " 5.0   6.0   7.0   8.0\n",
       " 9.0  10.0  11.0  12.0"
      ]
     },
     "execution_count": 30,
     "metadata": {},
     "output_type": "execute_result"
    }
   ],
   "source": [
    "n = 3\n",
    "m = 4\n",
    "x = 1\n",
    "\n",
    "A = ones(n, m)\n",
    "A[1, 1] = x\n",
    "for i in 1:n, j in 1:m\n",
    "    if i > 1  && j == 1\n",
    "        A[i, j] = map(add_one, A[i - 1, m])\n",
    "    elseif j > 1\n",
    "        A[i, j] = map(add_one, A[i, j - 1])\n",
    "    end\n",
    "end\n",
    "A"
   ]
  },
  {
   "cell_type": "markdown",
   "id": "6a7cb54d-262d-478f-b8c3-92c99758f93d",
   "metadata": {},
   "source": []
  },
  {
   "cell_type": "markdown",
   "id": "7d46990a-ab7e-4469-b4f2-7a3afdfcb79f",
   "metadata": {},
   "source": [
    "### 5.Задайте матрицу 𝐴:"
   ]
  },
  {
   "cell_type": "code",
   "execution_count": 9,
   "id": "196a81ab-8685-4806-8350-7e1cac2e3f64",
   "metadata": {},
   "outputs": [
    {
     "data": {
      "text/plain": [
       "3×3 Matrix{Int64}:\n",
       "  1   1   3\n",
       "  5   2   6\n",
       " -2  -1  -3"
      ]
     },
     "execution_count": 9,
     "metadata": {},
     "output_type": "execute_result"
    }
   ],
   "source": [
    "A = [[1, 5, -2] [1, 2, -1] [3, 6, -3]]\n",
    "A"
   ]
  },
  {
   "cell_type": "markdown",
   "id": "28a20791-667a-40d2-b26f-9faada41112c",
   "metadata": {},
   "source": [
    "– Найдите 𝐴^3"
   ]
  },
  {
   "cell_type": "code",
   "execution_count": 11,
   "id": "bdfd9de6-97bf-4b04-9706-778207f08eed",
   "metadata": {},
   "outputs": [
    {
     "data": {
      "text/plain": [
       "3×3 Matrix{Int64}:\n",
       " 0  0  0\n",
       " 0  0  0\n",
       " 0  0  0"
      ]
     },
     "execution_count": 11,
     "metadata": {},
     "output_type": "execute_result"
    }
   ],
   "source": [
    "f(x) = x^3\n",
    "f(A)"
   ]
  },
  {
   "cell_type": "markdown",
   "id": "95021e22-0cc9-42e2-b11b-30dd26cb278e",
   "metadata": {},
   "source": [
    "– Замените третий столбец матрицы 𝐴 на сумму второго и третьего столбцов"
   ]
  },
  {
   "cell_type": "code",
   "execution_count": 12,
   "id": "db4b5528-9d4a-47f0-a8cb-3069aebce233",
   "metadata": {},
   "outputs": [
    {
     "data": {
      "text/plain": [
       "3×3 Matrix{Int64}:\n",
       "  1   1   2\n",
       "  5   2   7\n",
       " -2  -1  -3"
      ]
     },
     "execution_count": 12,
     "metadata": {},
     "output_type": "execute_result"
    }
   ],
   "source": [
    "for i in 1:3\n",
    "    A[i,3] = A[i, 1] + A[i, 2]\n",
    "end\n",
    "A"
   ]
  },
  {
   "cell_type": "markdown",
   "id": "620255b8-7167-4065-bf41-a07b318a20aa",
   "metadata": {},
   "source": [
    "### 6. Создайте матрицу 𝐵 с элементами 𝐵𝑖1 = 10, 𝐵𝑖2 = −10, 𝐵𝑖3 = 10, 𝑖 = 1, 2, … , 15. Вычислите матрицу 𝐶 = 𝐵𝑇𝐵."
   ]
  },
  {
   "cell_type": "code",
   "execution_count": 16,
   "id": "0043bbfa-9d8d-4f7b-b2c3-0273ccdf40ad",
   "metadata": {},
   "outputs": [
    {
     "data": {
      "text/plain": [
       "15×3 Matrix{Float64}:\n",
       " 10.0  -10.0  10.0\n",
       " 10.0  -10.0  10.0\n",
       " 10.0  -10.0  10.0\n",
       " 10.0  -10.0  10.0\n",
       " 10.0  -10.0  10.0\n",
       " 10.0  -10.0  10.0\n",
       " 10.0  -10.0  10.0\n",
       " 10.0  -10.0  10.0\n",
       " 10.0  -10.0  10.0\n",
       " 10.0  -10.0  10.0\n",
       " 10.0  -10.0  10.0\n",
       " 10.0  -10.0  10.0\n",
       " 10.0  -10.0  10.0\n",
       " 10.0  -10.0  10.0\n",
       " 10.0  -10.0  10.0"
      ]
     },
     "execution_count": 16,
     "metadata": {},
     "output_type": "execute_result"
    }
   ],
   "source": [
    "B = ones(15, 3)\n",
    "for i in 1:15, j in 1:3\n",
    "    if j == 2\n",
    "        B[i, j] = -10\n",
    "    else \n",
    "        B[i, j] = 10\n",
    "    end\n",
    "end\n",
    "B"
   ]
  },
  {
   "cell_type": "code",
   "execution_count": 18,
   "id": "10a52766-957a-4ea0-8a21-9f386d3f6084",
   "metadata": {},
   "outputs": [
    {
     "data": {
      "text/plain": [
       "3×15 adjoint(::Matrix{Float64}) with eltype Float64:\n",
       "  10.0   10.0   10.0   10.0   10.0  …   10.0   10.0   10.0   10.0   10.0\n",
       " -10.0  -10.0  -10.0  -10.0  -10.0     -10.0  -10.0  -10.0  -10.0  -10.0\n",
       "  10.0   10.0   10.0   10.0   10.0      10.0   10.0   10.0   10.0   10.0"
      ]
     },
     "execution_count": 18,
     "metadata": {},
     "output_type": "execute_result"
    }
   ],
   "source": [
    "B = B'"
   ]
  },
  {
   "cell_type": "code",
   "execution_count": 19,
   "id": "fe229b6b-4d90-48fb-a581-e51ca387ca1f",
   "metadata": {},
   "outputs": [
    {
     "data": {
      "text/plain": [
       "3×3 Matrix{Float64}:\n",
       "  1500.0  -1500.0   1500.0\n",
       " -1500.0   1500.0  -1500.0\n",
       "  1500.0  -1500.0   1500.0"
      ]
     },
     "execution_count": 19,
     "metadata": {},
     "output_type": "execute_result"
    }
   ],
   "source": [
    "C = B * B'"
   ]
  },
  {
   "cell_type": "code",
   "execution_count": null,
   "id": "9fc2b0c5-b9eb-482b-89fb-1ace8ecd0336",
   "metadata": {},
   "outputs": [],
   "source": []
  },
  {
   "cell_type": "markdown",
   "id": "45ddb624-e9b7-4039-8ece-3ec8301e1f75",
   "metadata": {
    "tags": []
   },
   "source": [
    "### 11. Вычислите"
   ]
  },
  {
   "cell_type": "code",
   "execution_count": 35,
   "id": "ba039e93-ed6a-4ec4-aa22-7b0bf0de1bcf",
   "metadata": {},
   "outputs": [
    {
     "data": {
      "text/plain": [
       "639215.2833333334"
      ]
     },
     "execution_count": 35,
     "metadata": {},
     "output_type": "execute_result"
    }
   ],
   "source": [
    "sum = 0\n",
    "for i in 1:20, j in 1:5\n",
    "    sum += i^4/(3 + j)\n",
    "end\n",
    "sum"
   ]
  },
  {
   "cell_type": "code",
   "execution_count": 36,
   "id": "512f1361-2958-4c38-b699-ae24d214eb9a",
   "metadata": {},
   "outputs": [
    {
     "data": {
      "text/plain": [
       "89912.02146097136"
      ]
     },
     "execution_count": 36,
     "metadata": {},
     "output_type": "execute_result"
    }
   ],
   "source": [
    "sum = 0\n",
    "for i in 1:20, j in 1:5\n",
    "    sum += i^4/(3 + i*j)\n",
    "end\n",
    "sum"
   ]
  },
  {
   "cell_type": "markdown",
   "id": "28a592c1-06be-4c31-a627-0e16c4da7989",
   "metadata": {},
   "source": [
    "### 10. Создайте матрицу 𝑀 размерности 6 × 10, элементами которой являются целые числа, выбранные случайным образом с повторениями из совокупности 1, 2, … , 10.\n"
   ]
  },
  {
   "cell_type": "code",
   "execution_count": 38,
   "id": "6d79755a-c8ad-49e8-93f6-b0e4df144e9a",
   "metadata": {},
   "outputs": [
    {
     "data": {
      "text/plain": [
       "6×10 Matrix{Int64}:\n",
       "  5  1  1  6  7  3  10  6  2   7\n",
       "  8  6  2  7  1  6   3  6  7   9\n",
       " 10  8  6  9  7  9   5  5  1   5\n",
       "  4  5  6  6  4  1   3  7  5   4\n",
       "  9  9  4  5  8  9   7  2  6   4\n",
       "  2  1  7  4  2  1   8  4  7  10"
      ]
     },
     "execution_count": 38,
     "metadata": {},
     "output_type": "execute_result"
    }
   ],
   "source": [
    "M = rand(1:10, 6, 10)"
   ]
  },
  {
   "cell_type": "markdown",
   "id": "cd2467d8-e595-4e41-96e7-5a26bf64793f",
   "metadata": {},
   "source": [
    "– Найдите число элементов в каждой строке матрицы 𝑀, которые больше числа 𝑁\n",
    "(например, 𝑁 = 4)."
   ]
  },
  {
   "cell_type": "code",
   "execution_count": 40,
   "id": "ffd99455-0841-4ec0-8093-43ee3f99f856",
   "metadata": {
    "tags": []
   },
   "outputs": [
    {
     "name": "stdout",
     "output_type": "stream",
     "text": [
      "1:6 элеменетов больше числа N\n",
      "2:7 элеменетов больше числа N\n",
      "3:9 элеменетов больше числа N\n",
      "4:5 элеменетов больше числа N\n",
      "5:7 элеменетов больше числа N\n",
      "6:4 элеменетов больше числа N\n"
     ]
    }
   ],
   "source": [
    "N = 4\n",
    "for i in 1:6\n",
    "    c = 0\n",
    "    for j in 1: 10\n",
    "        if M[i, j] > N\n",
    "            c += 1\n",
    "        end\n",
    "    end\n",
    "    println(i, \":\", c, \" элеменетов больше числа N\")\n",
    "end"
   ]
  },
  {
   "cell_type": "markdown",
   "id": "ba504485-32ca-4a67-81e6-1362f26a00ce",
   "metadata": {},
   "source": [
    "– Определите, в каких строках матрицы 𝑀 число 𝑀 (например, 𝑀 = 7) встречается\n",
    "ровно 2 раза?"
   ]
  },
  {
   "cell_type": "code",
   "execution_count": 44,
   "id": "603777de-aa90-40b2-8baa-b8b9950edec7",
   "metadata": {},
   "outputs": [
    {
     "name": "stdout",
     "output_type": "stream",
     "text": [
      "1 строчка: число М встречается два раза\n",
      "2 строчка: число М встречается два раза\n",
      "6 строчка: число М встречается два раза\n"
     ]
    }
   ],
   "source": [
    "m = 7\n",
    "for i in 1:6\n",
    "    c = 0\n",
    "    for j in 1:10\n",
    "        if M[i, j] == m \n",
    "            c += 1\n",
    "        end\n",
    "    end\n",
    "    if c == 2 \n",
    "      println(i, \" строчка\", \":\", \" число М встречается два раза\")\n",
    "    end\n",
    "end"
   ]
  },
  {
   "cell_type": "markdown",
   "id": "b139b14b-f836-44a2-8b54-efecf2a4192b",
   "metadata": {},
   "source": [
    "– Определите все пары столбцов матрицы 𝑀, сумма элементов которых больше 𝐾\n",
    "(например, 𝐾 = 75)."
   ]
  },
  {
   "cell_type": "markdown",
   "id": "625499c7-67f9-4e16-837c-1abccb71edd2",
   "metadata": {},
   "source": [
    "### 9. Решите следующую систему линейных уравнений с 5 неизвестными:\n",
    "- 𝑥1 + 2𝑥2 + 3𝑥3 + 4𝑥4 + 5𝑥5 = 7,\n",
    "- 2𝑥1 + 𝑥2 + 2𝑥3 + 3𝑥4 + 4𝑥5 = −1,\n",
    "- 3𝑥1 + 2𝑥2 + 𝑥3 + 2𝑥4 + 3𝑥5 = −3,\n",
    "- 4𝑥1 + 3𝑥2 + 2𝑥3 + 𝑥4 + 2𝑥5 = 5,\n",
    "- 5𝑥1 + 4𝑥2 + 3𝑥3 + 2𝑥4 + 𝑥5 = 17,\n",
    "#### рассмотрев соответствующее матричное уравнение Ax = 𝑦. Обратите внимание на особый вид матрицы 𝐴. Метод, используемый для решения данной системы уравнений, должен быть легко обобщаем на случай большего числа уравнений, где матрица 𝐴 будет иметь такую же структуру"
   ]
  },
  {
   "cell_type": "code",
   "execution_count": 47,
   "id": "da040fad-c013-4753-a8df-86b04055030b",
   "metadata": {},
   "outputs": [
    {
     "data": {
      "text/plain": [
       "5×5 Matrix{Float64}:\n",
       " 1.0  2.0  3.0  4.0  5.0\n",
       " 2.0  1.0  2.0  3.0  4.0\n",
       " 3.0  2.0  1.0  2.0  3.0\n",
       " 4.0  3.0  2.0  1.0  2.0\n",
       " 5.0  4.0  3.0  2.0  1.0"
      ]
     },
     "execution_count": 47,
     "metadata": {},
     "output_type": "execute_result"
    }
   ],
   "source": [
    "n = 5 \n",
    "A = ones(n, n)\n",
    "for i in 1:n, j in 1:n\n",
    "    A[i, j] = abs(i - j) + 1\n",
    "end\n",
    "A"
   ]
  },
  {
   "cell_type": "code",
   "execution_count": 48,
   "id": "f6f4945d-57d5-480e-afd1-f914cc0cc435",
   "metadata": {},
   "outputs": [
    {
     "data": {
      "text/plain": [
       "5-element Vector{Int64}:\n",
       "  7\n",
       " -1\n",
       " -3\n",
       "  5\n",
       " 17"
      ]
     },
     "execution_count": 48,
     "metadata": {},
     "output_type": "execute_result"
    }
   ],
   "source": [
    "y = [7, -1, -3, 5, 17]"
   ]
  },
  {
   "cell_type": "code",
   "execution_count": 49,
   "id": "ce617724-86da-4447-ba08-d99ee775ee21",
   "metadata": {},
   "outputs": [
    {
     "data": {
      "text/plain": [
       "5-element Vector{Int64}:\n",
       " -2\n",
       "  3\n",
       "  5\n",
       "  2\n",
       " -4"
      ]
     },
     "execution_count": 49,
     "metadata": {},
     "output_type": "execute_result"
    }
   ],
   "source": [
    "AA = inv(A)\n",
    "round.(Int, AA)\n",
    "x = AA*y\n",
    "round.(Int, x)"
   ]
  },
  {
   "cell_type": "markdown",
   "id": "9df95868-cb3a-49e2-9ed2-631fa24dd2c3",
   "metadata": {},
   "source": [
    "### 7.Создайте матрицу 𝑍 размерности 6 × 6, все элементы которой равны нулю, и матрицу 𝐸, все элементы которой равны 1. Используя цикл while или for и закономерности расположения элементов, создайте следующие матрицы размерности 6 × 6:"
   ]
  },
  {
   "cell_type": "code",
   "execution_count": 51,
   "id": "93da26c1-decd-4806-9a58-2ea524e37314",
   "metadata": {},
   "outputs": [
    {
     "data": {
      "text/plain": [
       "6×6 Matrix{Float64}:\n",
       " 0.0  0.0  0.0  0.0  0.0  0.0\n",
       " 0.0  0.0  0.0  0.0  0.0  0.0\n",
       " 0.0  0.0  0.0  0.0  0.0  0.0\n",
       " 0.0  0.0  0.0  0.0  0.0  0.0\n",
       " 0.0  0.0  0.0  0.0  0.0  0.0\n",
       " 0.0  0.0  0.0  0.0  0.0  0.0"
      ]
     },
     "execution_count": 51,
     "metadata": {},
     "output_type": "execute_result"
    }
   ],
   "source": [
    "z = zeros(6,6)"
   ]
  },
  {
   "cell_type": "code",
   "execution_count": 52,
   "id": "ee999e80-10a9-4efd-bcea-f871f6de55bf",
   "metadata": {},
   "outputs": [
    {
     "data": {
      "text/plain": [
       "6×6 Matrix{Float64}:\n",
       " 1.0  1.0  1.0  1.0  1.0  1.0\n",
       " 1.0  1.0  1.0  1.0  1.0  1.0\n",
       " 1.0  1.0  1.0  1.0  1.0  1.0\n",
       " 1.0  1.0  1.0  1.0  1.0  1.0\n",
       " 1.0  1.0  1.0  1.0  1.0  1.0\n",
       " 1.0  1.0  1.0  1.0  1.0  1.0"
      ]
     },
     "execution_count": 52,
     "metadata": {},
     "output_type": "execute_result"
    }
   ],
   "source": [
    "o = ones(6, 6)"
   ]
  },
  {
   "cell_type": "code",
   "execution_count": 53,
   "id": "d04778a9-8231-4c29-84d0-86058ae08f23",
   "metadata": {},
   "outputs": [
    {
     "data": {
      "text/plain": [
       "6×6 Matrix{Float64}:\n",
       " 0.0  1.0  0.0  0.0  0.0  0.0\n",
       " 1.0  0.0  1.0  0.0  0.0  0.0\n",
       " 0.0  1.0  0.0  1.0  0.0  0.0\n",
       " 0.0  0.0  1.0  0.0  1.0  0.0\n",
       " 0.0  0.0  0.0  1.0  0.0  1.0\n",
       " 0.0  0.0  0.0  0.0  1.0  0.0"
      ]
     },
     "execution_count": 53,
     "metadata": {},
     "output_type": "execute_result"
    }
   ],
   "source": [
    "z1 = copy(z)\n",
    "for i in 1:6\n",
    "    if i == 1 \n",
    "        z1[1, i + 1] = o[i, i]\n",
    "    elseif i == 6\n",
    "        z1[6, i - 1] = o[i, i]\n",
    "    else \n",
    "        z1[i, i - 1] = o[i, i]\n",
    "        z1[i, i + 1] = o[i, i]\n",
    "    end\n",
    "end\n",
    "z1"
   ]
  },
  {
   "cell_type": "code",
   "execution_count": 61,
   "id": "0be651e1-a7f7-4f3e-b893-8de454529cd4",
   "metadata": {},
   "outputs": [
    {
     "data": {
      "text/plain": [
       "6×6 Matrix{Float64}:\n",
       " 1.0  0.0  1.0  0.0  0.0  0.0\n",
       " 0.0  1.0  0.0  1.0  0.0  0.0\n",
       " 1.0  0.0  1.0  0.0  1.0  0.0\n",
       " 0.0  1.0  0.0  1.0  0.0  1.0\n",
       " 0.0  0.0  1.0  0.0  1.0  0.0\n",
       " 0.0  0.0  0.0  1.0  0.0  1.0"
      ]
     },
     "execution_count": 61,
     "metadata": {},
     "output_type": "execute_result"
    }
   ],
   "source": [
    "z2 = copy(z)\n",
    "for i in 1:6\n",
    "    if i == 1 || i == 2\n",
    "        z2[i, i] = o[i, i]\n",
    "        z2[i, i + 2] = o[i, i]\n",
    "    elseif i == 6 || i == 5\n",
    "        z2[i, i] = o[i, i]\n",
    "        z2[i, i - 2] = o[i, i]\n",
    "    else\n",
    "        z2[i, i - 2] = o[i, i]\n",
    "        z2[i, i] = o[i, i]\n",
    "        z2[i, i + 2] = o[i, i]\n",
    "    end\n",
    "end\n",
    "z2"
   ]
  },
  {
   "cell_type": "code",
   "execution_count": 65,
   "id": "3f596296-c247-494e-be7e-ac5f28b56efa",
   "metadata": {},
   "outputs": [
    {
     "data": {
      "text/plain": [
       "6×6 Matrix{Float64}:\n",
       " 0.0  0.0  0.0  1.0  0.0  1.0\n",
       " 0.0  0.0  1.0  0.0  1.0  0.0\n",
       " 0.0  1.0  0.0  1.0  0.0  1.0\n",
       " 1.0  0.0  1.0  0.0  1.0  0.0\n",
       " 0.0  1.0  0.0  1.0  0.0  0.0\n",
       " 1.0  0.0  1.0  0.0  0.0  0.0"
      ]
     },
     "execution_count": 65,
     "metadata": {},
     "output_type": "execute_result"
    }
   ],
   "source": [
    "z3 = copy(z)\n",
    "for i in 1:6\n",
    "    if i == 1 || i == 2\n",
    "        z3[i,6 - i + 1] = o[i, i]\n",
    "        z3[i,6 - i - 1] = o[i, i]\n",
    "    elseif i == 6 || i == 5\n",
    "        z3[i, 6 - i + 3] = o[i, i]\n",
    "        z3[i, 6 - i + 1] = o[i, i]\n",
    "    else\n",
    "        z3[i, 6 - i - 1] = o[i, i]\n",
    "        z3[i, 6 - i + 1] = o[i, i]\n",
    "        z3[i, 6 - i + 3] = o[i, i]\n",
    "    end\n",
    "end\n",
    "z3"
   ]
  },
  {
   "cell_type": "code",
   "execution_count": 68,
   "id": "04ad64f4-4e60-4c46-bc88-a6205a09e2b0",
   "metadata": {},
   "outputs": [
    {
     "data": {
      "text/plain": [
       "6×6 Matrix{Float64}:\n",
       " 1.0  0.0  1.0  0.0  1.0  0.0\n",
       " 0.0  1.0  0.0  1.0  0.0  1.0\n",
       " 1.0  0.0  1.0  0.0  1.0  0.0\n",
       " 0.0  1.0  0.0  1.0  0.0  1.0\n",
       " 1.0  0.0  1.0  0.0  1.0  0.0\n",
       " 0.0  1.0  0.0  1.0  0.0  1.0"
      ]
     },
     "execution_count": 68,
     "metadata": {},
     "output_type": "execute_result"
    }
   ],
   "source": [
    "z4 = copy(z)\n",
    "for i in 1:6\n",
    "    if mod(i,2) == 0\n",
    "        z4[i, 2] = o[i, i]\n",
    "        z4[i, 4] = o[i, i]\n",
    "        z4[i, 6] = o[i, i] \n",
    "    else\n",
    "        z4[i, 1] = o[i, i]\n",
    "        z4[i, 3] = o[i, i]\n",
    "        z4[i, 5] = o[i, i]        \n",
    "    end\n",
    "end\n",
    "z4"
   ]
  },
  {
   "cell_type": "markdown",
   "id": "8b333c88-5122-4873-981f-f16b76e15365",
   "metadata": {},
   "source": [
    "### 8. В языке R есть функция outer(). Фактически, это матричное умножение с возможностью изменить применяемую операцию (например, заменить произведение на сложение или возведение в степень)."
   ]
  },
  {
   "cell_type": "markdown",
   "id": "0edeabab-ea81-49d7-8cf7-3f0ced6814c1",
   "metadata": {},
   "source": [
    "– Напишите свою функцию, аналогичную функции outer() языка R."
   ]
  },
  {
   "cell_type": "code",
   "execution_count": null,
   "id": "03bb76c3-017b-4f79-a592-581818df41f0",
   "metadata": {
    "tags": []
   },
   "outputs": [],
   "source": []
  },
  {
   "cell_type": "markdown",
   "id": "45b0142c-c74e-4ce9-9bdb-4b89cc2c5515",
   "metadata": {},
   "source": [
    "– Используя написанную вами функцию outer(), создайте матрицы следующей\n",
    "структуры:"
   ]
  }
 ],
 "metadata": {
  "kernelspec": {
   "display_name": "Julia 1.6.2",
   "language": "julia",
   "name": "julia-1.6"
  },
  "language_info": {
   "file_extension": ".jl",
   "mimetype": "application/julia",
   "name": "julia",
   "version": "1.6.2"
  }
 },
 "nbformat": 4,
 "nbformat_minor": 5
}
